{
  "nbformat": 4,
  "nbformat_minor": 0,
  "metadata": {
    "colab": {
      "name": "4a_validacion_cruzada.ipynb",
      "provenance": [],
      "collapsed_sections": [],
      "authorship_tag": "ABX9TyOQRw2Q8lcBQrvz3YyRUO/h",
      "include_colab_link": true
    },
    "kernelspec": {
      "name": "python3",
      "display_name": "Python 3"
    }
  },
  "cells": [
    {
      "cell_type": "markdown",
      "metadata": {
        "id": "view-in-github",
        "colab_type": "text"
      },
      "source": [
        "<a href=\"https://colab.research.google.com/github/gibranfp/CursoAprendizajeAutomatizado/blob/master/notebooks/4a_validacion_cruzada.ipynb\" target=\"_parent\"><img src=\"https://colab.research.google.com/assets/colab-badge.svg\" alt=\"Open In Colab\"/></a>"
      ]
    },
    {
      "cell_type": "markdown",
      "metadata": {
        "id": "yB9djrqiGwZD"
      },
      "source": [
        "# Selección de modelos de regresión\n",
        "En esta libreta evaluaremos un modelo de regresión usando valación cruzada."
      ]
    },
    {
      "cell_type": "code",
      "metadata": {
        "id": "hw0H2TId4AOt"
      },
      "source": [
        "import numpy as np\n",
        "import matplotlib.pyplot as plt\n",
        "\n",
        "from sklearn.datasets import load_boston"
      ],
      "execution_count": 1,
      "outputs": []
    },
    {
      "cell_type": "markdown",
      "metadata": {
        "id": "aFfc4UdVHH-N"
      },
      "source": [
        "Definimos la función de pérdida de error cuadrático medio\n",
        "\n",
        "$$\n",
        "$$"
      ]
    },
    {
      "cell_type": "code",
      "metadata": {
        "id": "8TSIEkwR4G6C"
      },
      "source": [
        "def ecm(y, y_hat):\n",
        "  return np.square(y_hat - y).mean()"
      ],
      "execution_count": 2,
      "outputs": []
    },
    {
      "cell_type": "markdown",
      "metadata": {
        "id": "Wc7-8lcsHXnE"
      },
      "source": [
        "Definimos la función para realizar validación cruzada aleatoria"
      ]
    },
    {
      "cell_type": "code",
      "metadata": {
        "id": "QXzxe60P420R"
      },
      "source": [
        "def vc_aleatorio(X, y, n = 100, t_ent=0.8):\n",
        "  for i in range(n):\n",
        "    perm = np.random.permutation(X.shape[0])\n",
        "    \n",
        "    X = X[perm,:]\n",
        "    y = y[perm]\n",
        "    \n",
        "    X_ent = X[:int(X.shape[0] * t_ent),:]\n",
        "    y_ent = y[:int(X.shape[0] * t_ent)]\n",
        "\n",
        "    X_val = X[int(X.shape[0] * t_ent):,:]\n",
        "    y_val = y[int(X.shape[0] * t_ent):]\n",
        "    \n",
        "    yield i, X_ent, y_ent, X_val, y_val"
      ],
      "execution_count": 3,
      "outputs": []
    },
    {
      "cell_type": "markdown",
      "metadata": {
        "id": "LzF9FeWlHcgc"
      },
      "source": [
        "De forma similar, definimos la función para realizar validación cruzada de $K$ particiones"
      ]
    },
    {
      "cell_type": "code",
      "metadata": {
        "id": "PYa4NG5Z5Ltm"
      },
      "source": [
        "def vc_kpart(X, y, k = 5):\n",
        "  t_pliegue = int(X.shape[0] / k)\n",
        "  for i in range(k):\n",
        "    masc_val = np.zeros(X.shape[0], dtype=bool)\n",
        "    masc_val[t_pliegue * i:t_pliegue * (i + 1)] = True\n",
        "    ent_mask = np.logical_not(masc_val)\n",
        "    X_ent = X[ent_mask, :]\n",
        "    y_ent = y[ent_mask]\n",
        "    X_val = X[masc_val, :]\n",
        "    y_val = y[masc_val]\n",
        "    \n",
        "    yield i, X_ent, y_ent, X_val, y_val"
      ],
      "execution_count": 4,
      "outputs": []
    },
    {
      "cell_type": "markdown",
      "metadata": {
        "id": "kKqC0c7_ugyy"
      },
      "source": [
        "Validación de K particiones con repetición"
      ]
    },
    {
      "cell_type": "code",
      "metadata": {
        "id": "ERcbAtTiutZi"
      },
      "source": [
        "def vcrep_kpart(X, y, n=10, k=4):\n",
        "  for i in range(n):\n",
        "    perm = np.random.permutation(X.shape[0])\n",
        "    X = X[perm,:]\n",
        "    y = y[perm]\n",
        "    t_pliegue = int(X.shape[0] / k)\n",
        "    for j in range(k):\n",
        "      masc_val = np.zeros(X.shape[0], dtype=bool)\n",
        "      masc_val[t_pliegue*j:t_pliegue*(j+1)] = True\n",
        "      ent_mask = np.logical_not(masc_val)\n",
        "      X_ent = X[ent_mask, :]\n",
        "      y_ent = y[ent_mask]\n",
        "      X_val = X[masc_val, :]\n",
        "      y_val = y[masc_val]\n",
        "      \n",
        "      yield i, j, i * k + j, X_ent, y_ent, X_val, y_val"
      ],
      "execution_count": 5,
      "outputs": []
    },
    {
      "cell_type": "markdown",
      "metadata": {
        "id": "Nw10xxLSvpHB"
      },
      "source": [
        "Definimos la función para escalar los atributos"
      ]
    },
    {
      "cell_type": "code",
      "metadata": {
        "id": "3M4N3RzpnnID"
      },
      "source": [
        "class EscaladoEstandar:\n",
        "  def fit(self, X):\n",
        "    self.media = X.mean(axis=0).reshape(1,-1)\n",
        "    self.std = X.std(axis=0).reshape(1,-1)\n",
        "    \n",
        "  def transform(self, X):\n",
        "    return (X - self.media) / self.std\n",
        "\n",
        "  def fit_transform(self, X):\n",
        "    self.fit(X)\n",
        "    return self.transform(X)"
      ],
      "execution_count": 6,
      "outputs": []
    },
    {
      "cell_type": "markdown",
      "metadata": {
        "id": "zRafgi2NH0dq"
      },
      "source": [
        "Nuestra función de expansión polinomial"
      ]
    },
    {
      "cell_type": "code",
      "metadata": {
        "id": "5ExL3Jwu5kZE"
      },
      "source": [
        "def expol(X, grado):\n",
        "  phi_X = X\n",
        "  for i in range(grado - 1):\n",
        "    powerX = np.power(X, i + 2)\n",
        "    phi_X = np.column_stack((phi_X, powerX))\n",
        "    \n",
        "  unos = np.ones(phi_X.shape[0])\n",
        "  return np.column_stack((unos, phi_X))"
      ],
      "execution_count": 7,
      "outputs": []
    },
    {
      "cell_type": "markdown",
      "metadata": {
        "id": "QlPvUb4cHqA3"
      },
      "source": [
        "Definimos nuestra función para entrenar y validar el modelo de regresión con expansión polinomial de un grado dado"
      ]
    },
    {
      "cell_type": "code",
      "metadata": {
        "id": "fJAb0Tqo5YRz"
      },
      "source": [
        "def entrena_evalua(m, X_ent, y_ent, X_val, y_va, g):\n",
        "  es = EscaladoEstandar()\n",
        "  X_ent = expol(es.fit_transform(X_ent), g)\n",
        "  X_val = expol(es.transform(X_val), g)\n",
        "\n",
        "  m.fit(X_ent, y_ent)\n",
        "\n",
        "  y_hat_ent = m.predict(X_ent)\n",
        "  y_hat_val = m.predict(X_val)\n",
        "\n",
        "  ecm_ent = ecm(y_ent, y_hat_ent)\n",
        "  ecm_val = ecm(y_val, y_hat_val) \n",
        "\n",
        "  return ecm_ent, ecm_val"
      ],
      "execution_count": 8,
      "outputs": []
    },
    {
      "cell_type": "markdown",
      "metadata": {
        "id": "DsDrPHHj4Vb2"
      },
      "source": [
        "Creamos nuestra clase base para regresión lineal"
      ]
    },
    {
      "cell_type": "code",
      "metadata": {
        "id": "gsBtI2aV4U_t"
      },
      "source": [
        "class RegresionLineal():\n",
        "  def fit(self, X, y):\n",
        "    '''\n",
        "    Estima los parámetros del modelo\n",
        "    '''\n",
        "    self._estima_parametros(X, y)\n",
        "  \n",
        "  def predict(self, X):\n",
        "    '''\n",
        "    Predice valores de vectores dados\n",
        "    '''\n",
        "    return X @ self.parametros"
      ],
      "execution_count": 9,
      "outputs": []
    },
    {
      "cell_type": "markdown",
      "metadata": {
        "id": "qSnkOiV84Uku"
      },
      "source": [
        "Generamos un hijo de esta clase para mínimos cuadrados usando descomposición QR"
      ]
    },
    {
      "cell_type": "code",
      "metadata": {
        "id": "BxXu9Eer4UG7"
      },
      "source": [
        "class MinimosCuadradosQR(RegresionLineal):\n",
        "  def _estima_parametros(self, X, y):\n",
        "    q, r = np.linalg.qr(X)\n",
        "    self.parametros = np.linalg.inv(r) @ q.T @ y"
      ],
      "execution_count": 10,
      "outputs": []
    },
    {
      "cell_type": "markdown",
      "metadata": {
        "id": "FZFSDaCwIEGl"
      },
      "source": [
        "La evaluación la vamos a realizar con el conjunto de datos de precios de casas de la ciudad de Boston, la cual se puede descargar desde scikit-learn"
      ]
    },
    {
      "cell_type": "code",
      "metadata": {
        "id": "xmHJVktu56mU"
      },
      "source": [
        "boston = load_boston()"
      ],
      "execution_count": 11,
      "outputs": []
    },
    {
      "cell_type": "markdown",
      "metadata": {
        "id": "LEwBFbDGJ_ne"
      },
      "source": [
        "Entrenamos y validamos nuestro modelo"
      ]
    },
    {
      "cell_type": "code",
      "metadata": {
        "id": "QtG_kbr95uh9"
      },
      "source": [
        "grados = np.arange(1,7,1)\n",
        "ecm_ent_grados = np.zeros((grados.shape[0], 40))\n",
        "ecm_val_grados = np.zeros((grados.shape[0], 40))\n",
        "X = boston.data\n",
        "y = boston.target\n",
        "for i,g in enumerate(grados):\n",
        "  for j,k,l, X_ent, y_ent, X_val, y_val in vcrep_kpart(X, y, n=10, k=4):\n",
        "    rl = MinimosCuadradosQR()\n",
        "    ecm_ent_grados[i,l], ecm_val_grados[i,l] = entrena_evalua(rl, X_ent, y_ent,\n",
        "                                                              X_val, y_val, g)"
      ],
      "execution_count": 12,
      "outputs": []
    },
    {
      "cell_type": "markdown",
      "metadata": {
        "id": "Cwk767FE4oQ-"
      },
      "source": [
        "Graficamos los errores cuadráticos medios de entrenamiento y validación"
      ]
    },
    {
      "cell_type": "code",
      "metadata": {
        "id": "a7jrdN0h50yS",
        "colab": {
          "base_uri": "https://localhost:8080/",
          "height": 283
        },
        "outputId": "57cad992-b5d6-441a-e4f2-a3f8d7a04fe4"
      },
      "source": [
        "ent_media_rl = np.mean(ecm_ent_grados, axis=1)\n",
        "ent_std_rl = np.std(ecm_ent_grados, axis=1)\n",
        "\n",
        "val_media_rl = np.mean(ecm_val_grados, axis=1)\n",
        "val_std_rl = np.std(ecm_val_grados, axis=1)\n",
        "    \n",
        "plt.fill_between(grados, ent_media_rl - ent_std_rl,\n",
        "                  ent_media_rl + ent_std_rl, alpha=0.1,\n",
        "                  color=\"r\")\n",
        "plt.fill_between(grados, val_media_rl - val_std_rl,\n",
        "                  val_media_rl + val_std_rl, alpha=0.1,\n",
        "                  color=\"b\")\n",
        "\n",
        "plt.plot(grados, ecm_ent_grados.mean(axis=1), 'o-', color=\"r\",\n",
        "         label=\"Entrenamiento\")\n",
        "plt.plot(grados, ecm_val_grados.mean(axis=1), 'o-', color=\"b\",\n",
        "         label=u\"Validación\")\n",
        "plt.xticks(grados)\n",
        "plt.xlabel('Grados de polinomio (complejidad)')\n",
        "plt.ylabel('Error cuadrático medio')\n",
        "plt.ylim([0, 2000])\n",
        "plt.legend()\n",
        "plt.show()"
      ],
      "execution_count": 13,
      "outputs": [
        {
          "output_type": "display_data",
          "data": {
            "image/png": "[encoded data removed]",
            "text/plain": [
              "<Figure size 432x288 with 1 Axes>"
            ]
          },
          "metadata": {
            "tags": [],
            "needs_background": "light"
          }
        }
      ]
    },
    {
      "cell_type": "markdown",
      "metadata": {
        "id": "N73cBnMq4tPr"
      },
      "source": [
        "Para mínimos cuadrados penalizados por norma $\\ell_2$ tenemos"
      ]
    },
    {
      "cell_type": "code",
      "metadata": {
        "id": "ESp4K2PRnGWI"
      },
      "source": [
        "class MinimosCuadradosL2QR(RegresionLineal):\n",
        "  def __init__(self, lc = 0.01):\n",
        "    self._lc = lc\n",
        "\n",
        "  def _estima_parametros(self, X, y):\n",
        "    lcI = np.sqrt(self._lc * np.identity(X.shape[1]))\n",
        "    X_tilde = np.concatenate((X, lcI))\n",
        "    y_tilde = np.concatenate((y, np.zeros(X.shape[1])))\n",
        "    q, r = np.linalg.qr(X_tilde)\n",
        "    self.parametros = np.linalg.inv(r) @ q.T @ y_tilde"
      ],
      "execution_count": 14,
      "outputs": []
    },
    {
      "cell_type": "markdown",
      "metadata": {
        "id": "goQndQj94z37"
      },
      "source": [
        "Evaluamos el rendimiento para distintos valores de $\\lambda$."
      ]
    },
    {
      "cell_type": "code",
      "metadata": {
        "id": "qFu9GEsWnJxR"
      },
      "source": [
        "lambdas = np.geomspace(1e-20, 1e20, num=9)\n",
        "ecm_ent_lambdas = np.zeros((lambdas.shape[0],40))\n",
        "ecm_val_lambdas = np.zeros((lambdas.shape[0],40))\n",
        "for i,l in enumerate(lambdas):\n",
        "  for _, _, j, X_ent, y_ent, X_val, y_val in vcrep_kpart(X, y, n=10, k=4):\n",
        "    rlreg = MinimosCuadradosL2QR(lc=l)\n",
        "    ecm_ent_lambdas[i,j], ecm_val_lambdas[i,j] = entrena_evalua(rlreg, \n",
        "                                                                X_ent, y_ent,\n",
        "                                                                X_val, y_val, 6)"
      ],
      "execution_count": 15,
      "outputs": []
    },
    {
      "cell_type": "markdown",
      "metadata": {
        "id": "z3nd34UiuUYX"
      },
      "source": [
        "Graficamos los errores para entrenamiento y validación"
      ]
    },
    {
      "cell_type": "code",
      "metadata": {
        "id": "52rMAtxr49kf",
        "colab": {
          "base_uri": "https://localhost:8080/",
          "height": 288
        },
        "outputId": "d35a6c45-c351-4b65-ed1a-d3b0e282061e"
      },
      "source": [
        "ent_media_rlreg = np.mean(ecm_ent_lambdas, axis=1)\n",
        "ent_std_rlreg = np.std(ecm_ent_lambdas, axis=1)\n",
        "\n",
        "val_media_rlreg = np.mean(ecm_val_lambdas, axis=1)\n",
        "val_std_rlreg = np.std(ecm_val_lambdas, axis=1)\n",
        "    \n",
        "plt.fill_between(lambdas, ent_media_rlreg - ent_std_rlreg,\n",
        "                  ent_media_rlreg + ent_std_rlreg, alpha=0.1,\n",
        "                  color=\"r\")\n",
        "plt.fill_between(lambdas, val_media_rlreg - val_std_rlreg,\n",
        "                  val_media_rlreg + val_std_rlreg, alpha=0.1,\n",
        "                  color=\"b\")\n",
        "\n",
        "plt.plot(lambdas, ent_media_rlreg, 'o-', color=\"r\",\n",
        "         label=\"Entrenamiento\")\n",
        "plt.plot(lambdas, val_media_rlreg, 'o-', color=\"b\",\n",
        "         label=u\"Validación\")\n",
        "plt.xscale('log')\n",
        "plt.xlabel('Factor de penalización $\\lambda$')\n",
        "plt.ylabel('Error cuadrático medio')\n",
        "plt.legend()\n",
        "plt.show()"
      ],
      "execution_count": 16,
      "outputs": [
        {
          "output_type": "display_data",
          "data": {
            "image/png": "[encoded data removed]",
            "text/plain": [
              "<Figure size 432x288 with 1 Axes>"
            ]
          },
          "metadata": {
            "tags": [],
            "needs_background": "light"
          }
        }
      ]
    }
  ]
}