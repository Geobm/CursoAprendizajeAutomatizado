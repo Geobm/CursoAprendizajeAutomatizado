{
  "nbformat": 4,
  "nbformat_minor": 0,
  "metadata": {
    "colab": {
      "name": "6a_svm.ipynb",
      "provenance": [],
      "collapsed_sections": [],
      "include_colab_link": true
    },
    "kernelspec": {
      "name": "python3",
      "display_name": "Python 3"
    }
  },
  "cells": [
    {
      "cell_type": "markdown",
      "metadata": {
        "id": "view-in-github",
        "colab_type": "text"
      },
      "source": [
        "<a href=\"https://colab.research.google.com/github/gibranfp/CursoAprendizajeAutomatizado/blob/2022-2/notebooks/6a_svm.ipynb\" target=\"_parent\"><img src=\"https://colab.research.google.com/assets/colab-badge.svg\" alt=\"Open In Colab\"/></a>"
      ]
    },
    {
      "cell_type": "markdown",
      "metadata": {
        "id": "L88AQQgRPJI4"
      },
      "source": [
        "# Entrenamiento de máquinas de vectores de soporte mediante descenso por sub-gradiente\n",
        "En esta libreta veremos cómo entrenar una máquina de vectores de soporte lineal usando el algoritmo PEGASOS (_Primal Estimated sub-GrAdient SOlver for SVM_)"
      ]
    },
    {
      "cell_type": "code",
      "metadata": {
        "id": "6KHzHFTD9xjS"
      },
      "source": [
        "import numpy as np\n",
        "import pandas as pd\n",
        "import matplotlib.pyplot as plt\n",
        "import cvxopt\n",
        "cvxopt.solvers.options['show_progress'] = False\n",
        "\n",
        "from sklearn import datasets\n",
        "from sklearn.preprocessing import StandardScaler"
      ],
      "execution_count": 1,
      "outputs": []
    },
    {
      "cell_type": "markdown",
      "source": [
        "## Conjunto de datos\n",
        "Probaremos nuestro SVM en la clasificación de 2 flores iris en base a su ancho y largo sepal."
      ],
      "metadata": {
        "id": "KqFRTFtouC-X"
      }
    },
    {
      "cell_type": "code",
      "metadata": {
        "id": "g6FqXGnFc6qD",
        "colab": {
          "base_uri": "https://localhost:8080/",
          "height": 265
        },
        "outputId": "b1c95895-db31-4837-fd32-6f523d824f11"
      },
      "source": [
        "iris = datasets.load_iris()\n",
        "    \n",
        "subconj = np.where(iris['target'] < 2)\n",
        "X = iris['data'][subconj]\n",
        "X = X[:, :2]\n",
        "y = iris['target'][subconj]\n",
        "y[y == 0] = -1\n",
        "\n",
        "perm = np.random.permutation(X.shape[0])\n",
        "X = X[perm,:]\n",
        "y = y[perm]\n",
        "\n",
        "X_ent = X[:int(X.shape[0] * 0.8)]\n",
        "y_ent = y[:int(X.shape[0] * 0.8)]\n",
        "\n",
        "sc = StandardScaler()\n",
        "X_ent = sc.fit_transform(X_ent)\n",
        "\n",
        "plt.plot(X_ent[y_ent==1, 0], X_ent[y_ent==1, 1], 'bo')\n",
        "plt.plot(X_ent[y_ent==-1, 0], X_ent[y_ent==-1, 1], 'ro')\n",
        "plt.show()"
      ],
      "execution_count": 2,
      "outputs": [
        {
          "output_type": "display_data",
          "data": {
            "text/plain": [
              "<Figure size 432x288 with 1 Axes>"
            ],
            "image/png": "[encoded data removed]"
          },
          "metadata": {
            "needs_background": "light"
          }
        }
      ]
    },
    {
      "cell_type": "markdown",
      "metadata": {
        "id": "furvX7-IaVwH"
      },
      "source": [
        "Generamos nuestro conjunto de validación y lo reescalamos"
      ]
    },
    {
      "cell_type": "code",
      "metadata": {
        "id": "WZABqQZf0L8y"
      },
      "source": [
        "X_val = X[int(X.shape[0] * 0.8):]\n",
        "y_val = y[int(X.shape[0] * 0.8):]\n",
        "X_val = sc.transform(X_val)"
      ],
      "execution_count": 3,
      "outputs": []
    },
    {
      "cell_type": "markdown",
      "source": [
        "## SVM\n",
        "Usamos la función de optimización cuadrática `qp` de la biblioteca [cvxopt](https://cvxopt.org/) para resolver el problema dual dado por \n",
        "\n",
        "\\begin{equation*}\n",
        "      \\begin{split}\n",
        "        \\text{maximiza } & \\sum_{i=1}^n \\alpha_i - \\frac{1}{2}\\sum_{i=1}^n\\sum_{j=1}^n \\alpha_i \\alpha_j y^{(i)} y^{(j)}\\underbrace{\\left[\\left(\\mathbf{x}^{(i)}\\right)^\\top \\mathbf{x}^{(j)} \\right]}_{k(\\mathbf{x}^{(i)}, \\mathbf{x}^{(j)})}\\\\\n",
        "        \\text{sujeto a } & 0 \\leq \\alpha_i \\leq C, \\forall i, \\sum_{i=1}^n \\alpha_i y^{(i)} = 0\n",
        "      \\end{split}\n",
        "    \\end{equation*}"
      ],
      "metadata": {
        "id": "R9KbAlcWuYxI"
      }
    },
    {
      "cell_type": "code",
      "source": [
        "class SVMDualQP:\n",
        "  def __init__(self, C = 1, eps = 1e-5):\n",
        "    self.C = 1\n",
        "    self.eps = eps\n",
        "\n",
        "  def prod(self, x):\n",
        "    return [a * self.ys[i] * (self.xs[i].T @ x) for i,a in enumerate(self.alfas)]\n",
        "\n",
        "  def fit(self, X, y):\n",
        "    n = X.shape[0]\n",
        "    d = X.shape[1]\n",
        "  \n",
        "    P = cvxopt.matrix(np.outer(y, y) * (X @ X.T), tc='d')\n",
        "    q = cvxopt.matrix(np.ones(n) * -1)\n",
        "    A = cvxopt.matrix(y_ent[np.newaxis, :], tc='d')\n",
        "    f = cvxopt.matrix(0, tc='d')\n",
        "\n",
        "    G = cvxopt.matrix(np.vstack((np.eye(n) * -1, np.eye(n))))\n",
        "    h = cvxopt.matrix(np.hstack((np.zeros(n), np.ones(n) * self.C)))\n",
        "\n",
        "    minimization = cvxopt.solvers.qp(P, q, G, h, A, f)\n",
        "    a = np.ravel(minimization['x'])\n",
        "    indvs = a > self.eps\n",
        "    self.alfas = a[indvs]\n",
        "    self.xs = X[indvs]\n",
        "    self.ys = y[indvs]\n",
        "\n",
        "    self.b = self.ys[0] - np.sum(self.prod(self.xs[0]))\n",
        "\n",
        "  def project(self, X):\n",
        "    y = np.zeros(X.shape[0])\n",
        "    for i,e in enumerate(X):\n",
        "      y[i] = np.sum(self.prod(e)) + self.b\n",
        "\n",
        "    return y\n",
        "\n",
        "  def predict(self, X):\n",
        "    return np.sign(self.project(X))"
      ],
      "metadata": {
        "id": "vM6jtAJGudLA"
      },
      "execution_count": 4,
      "outputs": []
    },
    {
      "cell_type": "markdown",
      "source": [
        "Instanciamos nuestra clase y entrenamos nuestro clasificador"
      ],
      "metadata": {
        "id": "GRlYILpGOSrw"
      }
    },
    {
      "cell_type": "code",
      "source": [
        "svm = SVMDualQP()\n",
        "svm.fit(X_ent, y_ent)"
      ],
      "metadata": {
        "id": "oFM3upVYctmU"
      },
      "execution_count": 5,
      "outputs": []
    },
    {
      "cell_type": "markdown",
      "source": [
        "Evaluamos el clasificador entrenado en el conjunto de validación:"
      ],
      "metadata": {
        "id": "Jcnc4fyPOWlt"
      }
    },
    {
      "cell_type": "code",
      "source": [
        "pred_val = svm.predict(X_val)\n",
        "print(f'Exactitud = {np.mean(pred_val  == y_val) * 100}%')"
      ],
      "metadata": {
        "colab": {
          "base_uri": "https://localhost:8080/"
        },
        "id": "bzU1umXnAfZl",
        "outputId": "3a6473ad-beeb-41ff-8d72-d2d72cda5c4c"
      },
      "execution_count": 6,
      "outputs": [
        {
          "output_type": "stream",
          "name": "stdout",
          "text": [
            "Exactitud = 100.0%\n"
          ]
        }
      ]
    },
    {
      "cell_type": "markdown",
      "metadata": {
        "id": "1vYa4bkCZ7o1"
      },
      "source": [
        "## PEGASOS\n",
        "De formar alternativa, es posible entrenar una máquina de vectores de soporte lineal usando el algoritmo PEGASOS (_Primal Estimated sub-GrAdient SOlver for SVM_), el cual usa el subgradiente dado por\n",
        "\n",
        "$$\n",
        "\\tilde{\\nabla}E(\\mathbf{w}, b) = \n",
        "\\begin{cases}\n",
        "0, & y^{(i)} \\cdot (\\mathbf{w}^\\top \\mathbf{x}^{(i)} + b) \\geq 1\\\\\n",
        "y^{(i)} \\cdot \\mathbf{x}^{(i)}, & y^{(i)} \\cdot (\\mathbf{w}^\\top \\mathbf{x}^{(i)} + b) < 1\n",
        "\\end{cases}\n",
        "$$\n"
      ]
    },
    {
      "cell_type": "code",
      "metadata": {
        "id": "n3TlxePdezbn"
      },
      "source": [
        "def subgradiente(w, xi, yi):\n",
        "  if yi * (w.T @ xi) < 1:\n",
        "    return yi * xi\n",
        "  else:\n",
        "    return 0"
      ],
      "execution_count": 7,
      "outputs": []
    },
    {
      "cell_type": "markdown",
      "source": [
        "El procedimiento general del algoritmo PEGASOS es el que sigue:\n",
        "\n",
        "* Inicializamos $\\mathbf{w}$ y $b$ a $0$\n",
        "* Para $t = 1,\\ldots, T$ realizar\n",
        "  * Elige ejemplo $\\{x^{(i)}, y^{(i)}\\}$ aleatoriamente\n",
        "  * $\\eta^{t} = \\frac{1}{\\lambda \\cdot t}$\n",
        "  * Si $y^{(i)} (\\mathbf{w}_t^\\top \\mathbf{x}^{(i)} + b) < 1$, entonces\n",
        "$$\n",
        "  \\mathbf{w}^{t+1} = (1 - \\eta^t\\cdot \\lambda)\\cdot \\mathbf{w}^t + \\eta^t\\cdot y^{(i)} \\cdot \\mathbf{x}^{(i)}\n",
        "$$\n",
        "\n",
        "  * En caso contrario\n",
        "\n",
        "$$\n",
        "  \\mathbf{w}^{t+1} = (1 - \\eta^t\\cdot \\lambda)\\cdot \\mathbf{w}^t\n",
        "$$"
      ],
      "metadata": {
        "id": "e5MzeQpZrrIQ"
      }
    },
    {
      "cell_type": "code",
      "metadata": {
        "id": "nStghNjCyoKg"
      },
      "source": [
        "def pegasos(X, y, n_iter = 1000, l = 0.01):\n",
        "  Xd = np.column_stack((np.ones(X.shape[0]), X))\n",
        "  n = Xd.shape[0]\n",
        "  w = np.zeros(Xd.shape[1])\n",
        "\n",
        "  t = 0\n",
        "  for i in range(n_iter):\n",
        "    perm = np.random.permutation(n)\n",
        "    for j in range(n):\n",
        "      t += 1\n",
        "      decay = 1.0 / t\n",
        "      eta_t = decay  / l\n",
        "      w = (1 - decay) * w + eta_t * subgradiente(w, Xd[perm[j]],  y[perm[j]])\n",
        "\n",
        "  return w"
      ],
      "execution_count": 8,
      "outputs": []
    },
    {
      "cell_type": "markdown",
      "metadata": {
        "id": "j-oHl4j9abIv"
      },
      "source": [
        "Entrenamos nuestro modelo usando el algoritmo PEGASOS"
      ]
    },
    {
      "cell_type": "code",
      "metadata": {
        "id": "Tg7wwRiudTFc"
      },
      "source": [
        "w = pegasos(X_ent, y_ent, l = 0.001)"
      ],
      "execution_count": 9,
      "outputs": []
    },
    {
      "cell_type": "markdown",
      "metadata": {
        "id": "KU7RqmE1afMQ"
      },
      "source": [
        "Predecimos las clases de los datos de validación y evaluamos su exactitud![texto alternativo](https://)"
      ]
    },
    {
      "cell_type": "code",
      "metadata": {
        "id": "KvZjDP7K0eGS",
        "colab": {
          "base_uri": "https://localhost:8080/"
        },
        "outputId": "b5b9d90f-37d9-46a7-85f3-57d01567bea0"
      },
      "source": [
        "X_val = np.column_stack((np.ones(X_val.shape[0]), X_val))\n",
        "y_val_predicha = np.sign(X_val @ w.T)\n",
        "print(f'Exactitud = {np.mean(y_val == y_val_predicha) * 100}%')    "
      ],
      "execution_count": 10,
      "outputs": [
        {
          "output_type": "stream",
          "name": "stdout",
          "text": [
            "Exactitud = 100.0%\n"
          ]
        }
      ]
    },
    {
      "cell_type": "markdown",
      "metadata": {
        "id": "nhf_bJMYar3g"
      },
      "source": [
        "Imprimimos los pesos encontrados"
      ]
    },
    {
      "cell_type": "code",
      "metadata": {
        "id": "7oBX5xllddLW",
        "colab": {
          "base_uri": "https://localhost:8080/"
        },
        "outputId": "333662f7-69e9-4c42-df40-9b600f0ff8cb"
      },
      "source": [
        "print('w_1 = {0}, w_2 = {1}, b = {2}'.format(w[1], w[2], w[0]))"
      ],
      "execution_count": 11,
      "outputs": [
        {
          "output_type": "stream",
          "name": "stdout",
          "text": [
            "w_1 = 3.83662235796837, w_2 = -2.5960593159225858, b = 0.8250000000000047\n"
          ]
        }
      ]
    },
    {
      "cell_type": "markdown",
      "metadata": {
        "id": "eVTD26eLa1N9"
      },
      "source": [
        "Visualizamos el híperplano y los vectores de soporte"
      ]
    },
    {
      "cell_type": "code",
      "metadata": {
        "id": "zUfFvgsLdeEP",
        "colab": {
          "base_uri": "https://localhost:8080/",
          "height": 280
        },
        "outputId": "3508dad0-a50e-407a-81ff-0335da833df1"
      },
      "source": [
        "fig, ax = plt.subplots()\n",
        "ax.scatter(X_ent[:, 0], X_ent[:, 1], c=y_ent, cmap=plt.cm.coolwarm, s=20, edgecolors='k')\n",
        "\n",
        "ax = plt.gca()\n",
        "xlim = ax.get_xlim()\n",
        "ylim = ax.get_ylim()\n",
        "xx, yy = np.meshgrid(np.linspace(xlim[0], xlim[1], 50),\n",
        "                     np.linspace(ylim[0], ylim[1], 50))\n",
        "\n",
        "Xr = np.c_[xx.ravel(), yy.ravel()]\n",
        "Xr = np.column_stack((np.ones(Xr.shape[0]), Xr))\n",
        "\n",
        "Z = Xr @ w.T\n",
        "Z = Z.reshape(xx.shape)\n",
        "plt.contour(xx, yy, Z, colors='k', levels=[-1, 0, 1], alpha=0.5,\n",
        "            linestyles=['--', '-', '--'])\n",
        "ax.set_xlabel('Largo del sépalo')\n",
        "ax.set_ylabel('Ancho del sépalo')\n",
        "plt.show()"
      ],
      "execution_count": 12,
      "outputs": [
        {
          "output_type": "display_data",
          "data": {
            "text/plain": [
              "<Figure size 432x288 with 1 Axes>"
            ],
            "image/png": "[encoded data removed]"
          },
          "metadata": {
            "needs_background": "light"
          }
        }
      ]
    },
    {
      "cell_type": "markdown",
      "metadata": {
        "id": "CtFUuEin3aH2"
      },
      "source": [
        "## Ejercicio\n",
        "+ Modifica la clase `SVMDualQP` para incluir un kernel.\n",
        "+ Prueba con diferentes valores de $\\lambda$."
      ]
    }
  ]
}