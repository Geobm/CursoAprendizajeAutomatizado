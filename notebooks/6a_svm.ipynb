{
  "nbformat": 4,
  "nbformat_minor": 0,
  "metadata": {
    "colab": {
      "name": "6a_svm.ipynb",
      "provenance": [],
      "collapsed_sections": [],
      "include_colab_link": true
    },
    "kernelspec": {
      "name": "python3",
      "display_name": "Python 3"
    }
  },
  "cells": [
    {
      "cell_type": "markdown",
      "metadata": {
        "id": "view-in-github",
        "colab_type": "text"
      },
      "source": [
        "<a href=\"https://colab.research.google.com/github/gibranfp/CursoAprendizajeAutomatizado/blob/2022-2/notebooks/6a_svm.ipynb\" target=\"_parent\"><img src=\"https://colab.research.google.com/assets/colab-badge.svg\" alt=\"Open In Colab\"/></a>"
      ]
    },
    {
      "cell_type": "markdown",
      "metadata": {
        "id": "L88AQQgRPJI4"
      },
      "source": [
        "# Entrenamiento de máquinas de vectores de soporte mediante descenso por sub-gradiente\n",
        "En esta libreta veremos cómo entrenar una máquina de vectores de soporte lineal usando el algoritmo PEGASOS (_Primal Estimated sub-GrAdient SOlver for SVM_)"
      ]
    },
    {
      "cell_type": "code",
      "metadata": {
        "id": "6KHzHFTD9xjS"
      },
      "source": [
        "import numpy as np\n",
        "import pandas as pd\n",
        "import matplotlib.pyplot as plt\n",
        "from matplotlib.colors import ListedColormap\n",
        "\n",
        "import cvxopt\n",
        "cvxopt.solvers.options['show_progress'] = False\n",
        "\n",
        "from sklearn import datasets\n",
        "from sklearn.preprocessing import StandardScaler\n",
        "\n",
        "from sklearn.model_selection import train_test_split\n",
        "from sklearn.metrics import accuracy_score\n",
        "\n",
        "from sklearn.metrics.pairwise import rbf_kernel"
      ],
      "execution_count": 1,
      "outputs": []
    },
    {
      "cell_type": "markdown",
      "source": [
        "## Frontera de decisión\n",
        "Antes de cargar el conjunto de datos y programar nuestro SVM, vamos a definir una función para dibujar la frontera de decisión de un clasificador."
      ],
      "metadata": {
        "id": "u2-xxYOoSeep"
      }
    },
    {
      "cell_type": "code",
      "source": [
        "def dibuja_frontera(modelo, X_ent, y_ent, X_val, y_val, tm = 0.02):\n",
        "  fig, ax = plt.subplots()\n",
        "  ax.scatter(X_ent[:, 0], X_ent[:, 1], c=y_ent, cmap=plt.cm.coolwarm, \n",
        "             s=20, edgecolors='k')\n",
        "  ax.scatter(X_val[:, 0], X_val[:, 1], c=y_val, cmap=plt.cm.coolwarm, \n",
        "             s=20, edgecolors='k')\n",
        "\n",
        "  ax = plt.gca()\n",
        "  xlim = ax.get_xlim()\n",
        "  ylim = ax.get_ylim()\n",
        "  xx, yy = np.meshgrid(np.linspace(xlim[0], xlim[1], 50),\n",
        "                       np.linspace(ylim[0], ylim[1], 50))\n",
        "\n",
        "  Z = modelo.project(np.c_[xx.ravel(), yy.ravel()])\n",
        "  Z = Z.reshape(xx.shape)\n",
        "  ax.contour(xx, yy, Z, colors='k', levels=[-1, 0, 1], alpha=0.5,\n",
        "              linestyles=['--', '-', '--'])\n",
        "  plt.show()"
      ],
      "metadata": {
        "id": "rE6ZEG4RSxhS"
      },
      "execution_count": 2,
      "outputs": []
    },
    {
      "cell_type": "markdown",
      "source": [
        "## Clasificación lineal\n",
        "Primero vamos a programar dos SVMs para clasificación lineal, los cuales probaremos en el conjunto de clasificación de flores iris en base a su ancho y largo sepal."
      ],
      "metadata": {
        "id": "KqFRTFtouC-X"
      }
    },
    {
      "cell_type": "code",
      "metadata": {
        "id": "g6FqXGnFc6qD",
        "colab": {
          "base_uri": "https://localhost:8080/",
          "height": 266
        },
        "outputId": "2a7919d8-cf0a-48ac-aa38-a11f617313d8"
      },
      "source": [
        "iris = datasets.load_iris()\n",
        "    \n",
        "subconj = np.where(iris['target'] < 2)\n",
        "Xiris = iris['data'][subconj]\n",
        "Xiris = Xiris[:, :2]\n",
        "yiris = iris['target'][subconj]\n",
        "yiris[yiris == 0] = -1\n",
        "\n",
        "# dividimos el conjunto en entrenamiento y validación\n",
        "Xiris_ent, Xiris_val, yiris_ent, yiris_val = train_test_split(Xiris, \n",
        "                                                              yiris, \n",
        "                                                              test_size=0.2, \n",
        "                                                              random_state=42)\n",
        "\n",
        "# Entrenamos nuestro escalador y transformamos los atributos\n",
        "sc = StandardScaler()\n",
        "Xiris_ent = sc.fit_transform(Xiris_ent)\n",
        "Xiris_val = sc.transform(Xiris_val)\n",
        "\n",
        "plt.scatter(Xiris_ent[yiris_ent==1, 0], Xiris_ent[yiris_ent==1, 1], cmap=plt.cm.coolwarm)\n",
        "plt.scatter(Xiris_ent[yiris_ent==-1, 0], Xiris_ent[yiris_ent==-1, 1], cmap=plt.cm.coolwarm)\n",
        "plt.show()"
      ],
      "execution_count": 3,
      "outputs": [
        {
          "output_type": "display_data",
          "data": {
            "text/plain": [
              "<Figure size 432x288 with 1 Axes>"
            ],
            "image/png": "[encoded data removed]"
          },
          "metadata": {
            "needs_background": "light"
          }
        }
      ]
    },
    {
      "cell_type": "markdown",
      "source": [
        "### SVM lineal mediante [cvxopt](https://cvxopt.org/)\n",
        "Usamos la función de optimización cuadrática `qp` de la biblioteca [cvxopt](https://cvxopt.org/) para resolver el problema dual dado por \n",
        "\n",
        "\\begin{equation*}\n",
        "      \\begin{split}\n",
        "        \\text{maximiza } & \\sum_{i=1}^n \\alpha_i - \\frac{1}{2}\\sum_{i=1}^n\\sum_{j=1}^n \\alpha_i \\alpha_j y^{(i)} y^{(j)}\\underbrace{\\left[\\left(\\mathbf{x}^{(i)}\\right)^\\top \\mathbf{x}^{(j)} \\right]}_{k(\\mathbf{x}^{(i)}, \\mathbf{x}^{(j)})}\\\\\n",
        "        \\text{sujeto a } & 0 \\leq \\alpha_i \\leq C, \\forall i, \\sum_{i=1}^n \\alpha_i y^{(i)} = 0\n",
        "      \\end{split}\n",
        "    \\end{equation*}"
      ],
      "metadata": {
        "id": "R9KbAlcWuYxI"
      }
    },
    {
      "cell_type": "code",
      "source": [
        "class SVMDualQP:\n",
        "  def __init__(self, C = 1, eps = 1e-7):\n",
        "    self.C = C\n",
        "    self.eps = eps\n",
        "\n",
        "  def prod(self, x):\n",
        "    return [a * self.ys[i] * (self.xs[i].T @ x) for i,a in enumerate(self.alfas)]\n",
        "\n",
        "  def fit(self, X, y):\n",
        "    n = X.shape[0]\n",
        "    d = X.shape[1]\n",
        "  \n",
        "    P = cvxopt.matrix(np.outer(y, y) * (X @ X.T), tc='d')\n",
        "    q = cvxopt.matrix(-np.ones(n))\n",
        "    A = cvxopt.matrix(y[np.newaxis, :], tc='d')\n",
        "    f = cvxopt.matrix(0, tc='d')\n",
        "\n",
        "    G = cvxopt.matrix(np.vstack((-np.eye(n), np.eye(n))))\n",
        "    h = cvxopt.matrix(np.hstack((np.zeros(n), np.ones(n) * self.C)))\n",
        "\n",
        "    minimization = cvxopt.solvers.qp(P, q, G, h, A, f)\n",
        "    a = np.ravel(minimization['x'])\n",
        "    indvs = a > self.eps\n",
        "    self.alfas = a[indvs]\n",
        "    self.xs = X[indvs]\n",
        "    self.ys = y[indvs]\n",
        "\n",
        "    self.b = self.ys[0] - np.sum(self.prod(self.xs[0]))\n",
        "\n",
        "  def project(self, X):\n",
        "    y = np.zeros(X.shape[0])\n",
        "    for i,e in enumerate(X):\n",
        "      y[i] = np.sum(self.prod(e)) + self.b\n",
        "\n",
        "    return y\n",
        "\n",
        "  def predict(self, X):\n",
        "    return np.sign(self.project(X))"
      ],
      "metadata": {
        "id": "vM6jtAJGudLA"
      },
      "execution_count": 4,
      "outputs": []
    },
    {
      "cell_type": "markdown",
      "source": [
        "Instanciamos nuestra clase y entrenamos nuestro clasificador"
      ],
      "metadata": {
        "id": "GRlYILpGOSrw"
      }
    },
    {
      "cell_type": "code",
      "source": [
        "svm = SVMDualQP(C=1)\n",
        "svm.fit(Xiris_ent, yiris_ent)"
      ],
      "metadata": {
        "id": "oFM3upVYctmU"
      },
      "execution_count": 5,
      "outputs": []
    },
    {
      "cell_type": "markdown",
      "source": [
        "Evaluamos el clasificador entrenado en el conjunto de validación:"
      ],
      "metadata": {
        "id": "Jcnc4fyPOWlt"
      }
    },
    {
      "cell_type": "code",
      "source": [
        "pred_val = svm.predict(Xiris_val)\n",
        "print(f'Exactitud = {accuracy_score(pred_val, yiris_val) * 100}%')"
      ],
      "metadata": {
        "colab": {
          "base_uri": "https://localhost:8080/"
        },
        "id": "bzU1umXnAfZl",
        "outputId": "b1f52a28-5e8a-4f02-974a-3db0aed9ef8a"
      },
      "execution_count": 6,
      "outputs": [
        {
          "output_type": "stream",
          "name": "stdout",
          "text": [
            "Exactitud = 100.0%\n"
          ]
        }
      ]
    },
    {
      "cell_type": "markdown",
      "metadata": {
        "id": "1vYa4bkCZ7o1"
      },
      "source": [
        "### PEGASOS lineal\n",
        "De formar alternativa, es posible entrenar una máquina de vectores de soporte lineal usando el algoritmo PEGASOS (_Primal Estimated sub-GrAdient SOlver for SVM_), el cual usa el subgradiente dado por\n",
        "\n",
        "$$\n",
        "\\tilde{\\nabla}E(\\mathbf{w}, b) = \n",
        "\\begin{cases}\n",
        "0, & y^{(i)} \\cdot (\\mathbf{w}^\\top \\mathbf{x}^{(i)} + b) \\geq 1\\\\\n",
        "y^{(i)} \\cdot \\mathbf{x}^{(i)}, & y^{(i)} \\cdot (\\mathbf{w}^\\top \\mathbf{x}^{(i)} + b) < 1\n",
        "\\end{cases}\n",
        "$$\n",
        "\n",
        "El procedimiento general del algoritmo PEGASOS es el que sigue:\n",
        "\n",
        "* Inicializamos $\\mathbf{w}$ y $b$ a $0$\n",
        "* Para $t = 1,\\ldots, T$ realizar\n",
        "  * Elige ejemplo $\\{x^{(i)}, y^{(i)}\\}$ aleatoriamente\n",
        "  * $\\eta^{t} = \\frac{1}{\\lambda \\cdot t}$\n",
        "  * Si $y^{(i)} (\\mathbf{w}_t^\\top \\mathbf{x}^{(i)} + b) < 1$, entonces\n",
        "$$\n",
        "  \\mathbf{w}^{t+1} = (1 - \\eta^t\\cdot \\lambda)\\cdot \\mathbf{w}^t + \\eta^t\\cdot y^{(i)} \\cdot \\mathbf{x}^{(i)}\n",
        "$$\n",
        "\n",
        "  * En caso contrario\n",
        "\n",
        "$$\n",
        "  \\mathbf{w}^{t+1} = (1 - \\eta^t\\cdot \\lambda)\\cdot \\mathbf{w}^t\n",
        "$$"
      ]
    },
    {
      "cell_type": "code",
      "metadata": {
        "id": "n3TlxePdezbn"
      },
      "source": [
        "class PEGASOSLineal:\n",
        "  def __init__(self, n_iter = 1000, l = 0.01):\n",
        "    self.n_iter = n_iter\n",
        "    self.l = l\n",
        "\n",
        "  def fit(self, X, y):\n",
        "    n = X.shape[0]\n",
        "    d = X.shape[1]\n",
        "    \n",
        "    Xd = np.column_stack((np.ones(X.shape[0]), X))\n",
        "    self.w = np.zeros((d + 1, 1))\n",
        "\n",
        "    t = 0\n",
        "    for i in range(self.n_iter):\n",
        "      perm = np.random.permutation(n)\n",
        "      for j in range(n):\n",
        "        t += 1\n",
        "        decay = 1.0 / t\n",
        "        eta_t = decay  / self.l\n",
        "\n",
        "        # Elegimos el siguiente par (xi,yi)\n",
        "        Xsub = Xd[perm[j]][np.newaxis, :]\n",
        "        ysub = y[perm[j]]\n",
        "\n",
        "        pred = ysub * (Xsub @ self.w)\n",
        "        self.w = (1 - decay) * self.w\n",
        "\n",
        "        if pred < 1:\n",
        "          self.w += eta_t * ysub * Xsub.T\n",
        "\n",
        "  def project(self, X):\n",
        "    Xd = np.column_stack((np.ones(X.shape[0]), X))\n",
        "    return Xd @ self.w\n",
        "\n",
        "  def predict(self, X):\n",
        "    return np.sign(self.project(X))"
      ],
      "execution_count": 7,
      "outputs": []
    },
    {
      "cell_type": "markdown",
      "metadata": {
        "id": "j-oHl4j9abIv"
      },
      "source": [
        "Entrenamos nuestro modelo usando el algoritmo PEGASOS"
      ]
    },
    {
      "cell_type": "code",
      "metadata": {
        "id": "Tg7wwRiudTFc"
      },
      "source": [
        "pegasoslin = PEGASOSLineal(l = 0.001)\n",
        "pegasoslin.fit(Xiris_ent, yiris_ent)"
      ],
      "execution_count": 8,
      "outputs": []
    },
    {
      "cell_type": "markdown",
      "metadata": {
        "id": "KU7RqmE1afMQ"
      },
      "source": [
        "Predecimos las clases de los datos de validación y evaluamos su exactitud![texto alternativo](https://)"
      ]
    },
    {
      "cell_type": "code",
      "metadata": {
        "id": "KvZjDP7K0eGS",
        "colab": {
          "base_uri": "https://localhost:8080/"
        },
        "outputId": "40e81b86-d94c-4950-bcec-77df3dc7b1c1"
      },
      "source": [
        "yiris_ent_predicha = pegasoslin.predict(Xiris_ent)\n",
        "yiris_val_predicha = pegasoslin.predict(Xiris_val)\n",
        "\n",
        "print(f'Exactitud Ent = {accuracy_score(yiris_ent, yiris_ent_predicha) * 100}%')    \n",
        "print(f'Exactitud Val = {accuracy_score(yiris_val, yiris_val_predicha) * 100}%')    "
      ],
      "execution_count": 9,
      "outputs": [
        {
          "output_type": "stream",
          "name": "stdout",
          "text": [
            "Exactitud Ent = 100.0%\n",
            "Exactitud Val = 100.0%\n"
          ]
        }
      ]
    },
    {
      "cell_type": "markdown",
      "metadata": {
        "id": "nhf_bJMYar3g"
      },
      "source": [
        "Imprimimos los pesos encontrados"
      ]
    },
    {
      "cell_type": "code",
      "metadata": {
        "id": "7oBX5xllddLW",
        "colab": {
          "base_uri": "https://localhost:8080/"
        },
        "outputId": "c82bfea8-004a-4e06-a14c-c8291a4860fd"
      },
      "source": [
        "print(f'w_1 = {pegasoslin.w[1][0]}, w_2 = {pegasoslin.w[2][0]}, b = {pegasoslin.w[0][0]}')"
      ],
      "execution_count": 10,
      "outputs": [
        {
          "output_type": "stream",
          "name": "stdout",
          "text": [
            "w_1 = 4.128376601538176, w_2 = -2.474878156093176, b = 1.0625000000000029\n"
          ]
        }
      ]
    },
    {
      "cell_type": "markdown",
      "metadata": {
        "id": "eVTD26eLa1N9"
      },
      "source": [
        "Visualizamos el híperplano y los vectores de soporte"
      ]
    },
    {
      "cell_type": "code",
      "metadata": {
        "id": "zUfFvgsLdeEP",
        "colab": {
          "base_uri": "https://localhost:8080/",
          "height": 266
        },
        "outputId": "d4e74160-6b01-436a-8631-c662f503fb67"
      },
      "source": [
        "dibuja_frontera(pegasoslin, Xiris_ent, yiris_ent, Xiris_val, yiris_val)"
      ],
      "execution_count": 11,
      "outputs": [
        {
          "output_type": "display_data",
          "data": {
            "text/plain": [
              "<Figure size 432x288 with 1 Axes>"
            ],
            "image/png": "[encoded data removed]"
          },
          "metadata": {
            "needs_background": "light"
          }
        }
      ]
    },
    {
      "cell_type": "markdown",
      "source": [
        "## Clasificación no lineal\n",
        "Ahora vamos a programar un SVM para clasificación no lineal, el cual probaremos en un conjunto de datos sintético,"
      ],
      "metadata": {
        "id": "XCIdCyofjzO5"
      }
    },
    {
      "cell_type": "code",
      "source": [
        "np.random.seed(42)\n",
        "Xsin = 0.5 + 0.5 * np.random.randn(100, 2)\n",
        "ysin = np.logical_xor(Xsin[:, 0] > 0.5, Xsin[:, 1] > 0.5).astype(int)\n",
        "ysin[ysin == 0] = -1\n",
        "\n",
        "Xsin_ent, Xsin_val, ysin_ent, ysin_val = train_test_split(Xsin, ysin, test_size=0.2, random_state=42)\n",
        "\n",
        "plt.scatter(Xsin_ent[:, 0], Xsin_ent[:, 1], c=ysin_ent, cmap=plt.cm.coolwarm, edgecolors=\"k\")\n",
        "plt.scatter(Xsin_val[:, 0], Xsin_val[:, 1], c=ysin_val, cmap=plt.cm.coolwarm, alpha=0.5, edgecolors=\"k\")\n",
        "plt.show()"
      ],
      "metadata": {
        "colab": {
          "base_uri": "https://localhost:8080/",
          "height": 265
        },
        "id": "bAfChaH4PMI_",
        "outputId": "750f394a-2f39-48a3-845d-e7e292044a96"
      },
      "execution_count": 12,
      "outputs": [
        {
          "output_type": "display_data",
          "data": {
            "text/plain": [
              "<Figure size 432x288 with 1 Axes>"
            ],
            "image/png": "[encoded data removed]"
          },
          "metadata": {
            "needs_background": "light"
          }
        }
      ]
    },
    {
      "cell_type": "markdown",
      "source": [
        "### PEGASOS _kernelizado_\n",
        "El algoritmo PEGASOS se puede usar para entrenar un SVM definido a partir de los parámetros $\\alpha_i, i=1, \\ldots, n$. Esta versión de PEGASOS es la siguiente:\n",
        "\n",
        "* Inicia $\\alpha_i^{\\{0\\}}, i=1, \\ldots, n$ a $0$\n",
        "* Para $t = 1,\\ldots, T$ realizar\n",
        "  * Elige el índice de un ejemplo aleatoriamente $s \\in \\{1, \\ldots, n\\}$\n",
        "  * $\\eta^{t} = \\frac{1}{\\lambda \\cdot t}$\n",
        "  * Si $y^{(s)} \\cdot \\left[\\frac{1}{\\lambda \\cdot t} \\cdot \\sum_{i=1}^n \\alpha_i \\cdot y^{(i)}\\cdot K(\\mathbf{x}^{i}, \\mathbf{x}^{s})\\right] < 1$, entonces\n",
        "  $$\n",
        "  \\alpha_s^{\\{t\\}} = \\alpha_s^{\\{t-1\\}} + 1\n",
        "  $$\n",
        "  * En caso contrario\n",
        "\n",
        "$$\n",
        "  \\alpha_s^{\\{t\\}} = \\alpha_s^{\\{t-1\\}}\n",
        "$$\n",
        "\n",
        "Esto permite usar _kernels_ en nuestro clasificador. Como función _kernel_ usaremos la función de base radial, definida como\n",
        "$$\n",
        "    k(\\mathbf{x}^{(i)},\\mathbf{x}^{(j)}) = \\exp{ \\left(-\\frac{\\lVert \\mathbf{x}^{(i)} - \\mathbf{x}^{(j)}\\rVert_2^2}{2\\sigma^2} \\right) }\n",
        "$$   "
      ],
      "metadata": {
        "id": "FTSJ1LvJfHBz"
      }
    },
    {
      "cell_type": "code",
      "source": [
        "class PEGASOSRBF:\n",
        "  def __init__(self, n_iter = 1000, l = 0.001, eps=1e-5):\n",
        "    self.n_iter = n_iter\n",
        "    self.l = l\n",
        "    self.eps = eps \n",
        "    self.kernel = rbf_kernel\n",
        "\n",
        "  def fit(self, X, y):\n",
        "    n = X.shape[0]\n",
        "    d = X.shape[1]\n",
        "    K = rbf_kernel(X)\n",
        "    alfas = np.zeros(n)\n",
        "    \n",
        "    t = 1\n",
        "    for i in range(self.n_iter):\n",
        "      perm = np.random.permutation(n)\n",
        "      for j in range(n):\n",
        "        eta_t = 1.0 / (self.l * t)\n",
        "\n",
        "        Xsub = X[perm[j]][np.newaxis, :]\n",
        "        ysub = y[perm[j]]\n",
        "\n",
        "        if ysub * eta_t  * np.sum(alfas * y * K[:,perm[j]]) < 1:\n",
        "          alfas[perm[j]] += 1\n",
        "\n",
        "        t += 1\n",
        "\n",
        "    indvs = alfas > self.eps\n",
        "    self.alfas = alfas[indvs]\n",
        "    self.xs = X[indvs]\n",
        "    self.ys = y[indvs]\n",
        "\n",
        "  def project(self, X):\n",
        "    K = self.kernel(self.xs, X)\n",
        "    y = np.zeros(X.shape[0])\n",
        "    for i,e in enumerate(X):\n",
        "      proj = self.alfas * self.ys * K[:,i]      \n",
        "      y[i] = np.sum(proj)\n",
        "\n",
        "    return y\n",
        "\n",
        "  def predict(self, X):\n",
        "    return np.sign(self.project(X))"
      ],
      "metadata": {
        "id": "92b3lBKWkajJ"
      },
      "execution_count": 13,
      "outputs": []
    },
    {
      "cell_type": "markdown",
      "source": [
        "Entrenamos nuestro clasificador."
      ],
      "metadata": {
        "id": "WIrxSQuDh0TL"
      }
    },
    {
      "cell_type": "code",
      "source": [
        "pegasosrbf = PEGASOSRBF(l = 0.01)\n",
        "pegasosrbf.fit(Xsin_ent, ysin_ent)"
      ],
      "metadata": {
        "id": "e4rF1ffxpG2x"
      },
      "execution_count": 14,
      "outputs": []
    },
    {
      "cell_type": "code",
      "source": [
        "ysin_ent_predicha = pegasosrbf.predict(Xsin_ent)\n",
        "ysin_val_predicha = pegasosrbf.predict(Xsin_val)\n",
        "\n",
        "print(f'Exactitud Ent = {accuracy_score(ysin_ent, ysin_ent_predicha) * 100}%')    \n",
        "print(f'Exactitud Val = {accuracy_score(ysin_val, ysin_val_predicha) * 100}%')       "
      ],
      "metadata": {
        "colab": {
          "base_uri": "https://localhost:8080/"
        },
        "id": "QaV_pVIsBPqv",
        "outputId": "4811c454-293f-47ff-d97c-c78b14b03785"
      },
      "execution_count": 15,
      "outputs": [
        {
          "output_type": "stream",
          "name": "stdout",
          "text": [
            "Exactitud Ent = 92.5%\n",
            "Exactitud Val = 100.0%\n"
          ]
        }
      ]
    },
    {
      "cell_type": "markdown",
      "source": [
        "Dibujamos la frontera de decisión:"
      ],
      "metadata": {
        "id": "sFkjMkk4SX_k"
      }
    },
    {
      "cell_type": "code",
      "source": [
        "dibuja_frontera(pegasosrbf, Xsin_ent, ysin_ent,  Xsin_val, ysin_val)"
      ],
      "metadata": {
        "colab": {
          "base_uri": "https://localhost:8080/",
          "height": 265
        },
        "id": "gaxC-TymPCM6",
        "outputId": "6644f4a9-ae24-40a8-ec9d-0af519c149c1"
      },
      "execution_count": 16,
      "outputs": [
        {
          "output_type": "display_data",
          "data": {
            "text/plain": [
              "<Figure size 432x288 with 1 Axes>"
            ],
            "image/png": "[encoded data removed]"
          },
          "metadata": {
            "needs_background": "light"
          }
        }
      ]
    },
    {
      "cell_type": "markdown",
      "metadata": {
        "id": "CtFUuEin3aH2"
      },
      "source": [
        "## Ejercicio\n",
        "+ Modifica la clase `SVMDualQP` para incluir un kernel.\n",
        "+ Prueba el algoritmo PEGASOS con diferentes valores de $\\lambda$.\n",
        "+ Modifica la clase `PEGASOSLineal` para actualizar los parámetros por minilote."
      ]
    }
  ]
}