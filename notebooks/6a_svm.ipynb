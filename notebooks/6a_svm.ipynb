{
  "nbformat": 4,
  "nbformat_minor": 0,
  "metadata": {
    "colab": {
      "name": "6a_svm.ipynb",
      "provenance": [],
      "collapsed_sections": [],
      "authorship_tag": "ABX9TyPm2mD8ElFv2nG6skEQ/ZRX",
      "include_colab_link": true
    },
    "kernelspec": {
      "name": "python3",
      "display_name": "Python 3"
    }
  },
  "cells": [
    {
      "cell_type": "markdown",
      "metadata": {
        "id": "view-in-github",
        "colab_type": "text"
      },
      "source": [
        "<a href=\"https://colab.research.google.com/github/gibranfp/CursoAprendizajeAutomatizado/blob/master/notebooks/6a_svm.ipynb\" target=\"_parent\"><img src=\"https://colab.research.google.com/assets/colab-badge.svg\" alt=\"Open In Colab\"/></a>"
      ]
    },
    {
      "cell_type": "markdown",
      "metadata": {
        "id": "L88AQQgRPJI4"
      },
      "source": [
        "# Entrenamiento de máquinas de vectores de soporte mediante descenso por sub-gradiente\n",
        "En esta libreta veremos cómo entrenar una máquina de vectores de soporte lineal usando el algoritmo PEGASOS (_Primal Estimated sub-GrAdient SOlver for SVM_)"
      ]
    },
    {
      "cell_type": "code",
      "metadata": {
        "id": "6KHzHFTD9xjS"
      },
      "source": [
        "import numpy as np\n",
        "import pandas as pd\n",
        "import matplotlib.pyplot as plt\n",
        "\n",
        "from sklearn import datasets\n",
        "from sklearn.preprocessing import StandardScaler"
      ],
      "execution_count": null,
      "outputs": []
    },
    {
      "cell_type": "markdown",
      "metadata": {
        "id": "NCCHxsE2WpdU"
      },
      "source": [
        "Definimos nuestra función de pérdida bisagra y la métrica de exactitud"
      ]
    },
    {
      "cell_type": "code",
      "metadata": {
        "id": "BYs3guF2yqB1"
      },
      "source": [
        "def exactitud(y, y_predicha):\n",
        "  return (y == y_predicha).mean() * 100\n",
        "\n",
        "def bisagra(y, y_predicha):\n",
        "  return np.maximum(0, 1 - y * y_predicha).sum()"
      ],
      "execution_count": null,
      "outputs": []
    },
    {
      "cell_type": "markdown",
      "metadata": {
        "id": "vfmA5ub1zYXi"
      },
      "source": [
        "El subgradiente es 0 cuando los puntos caen del lado correcto "
      ]
    },
    {
      "cell_type": "code",
      "metadata": {
        "id": "n3TlxePdezbn"
      },
      "source": [
        "def subgradiente(w, xi, yi):\n",
        "  if yi * (w.T @ xi) < 1:\n",
        "    return yi * xi\n",
        "  else:\n",
        "    return 0"
      ],
      "execution_count": null,
      "outputs": []
    },
    {
      "cell_type": "markdown",
      "metadata": {
        "id": "1vYa4bkCZ7o1"
      },
      "source": [
        "Definimos la función del algoritmo PEGASOS"
      ]
    },
    {
      "cell_type": "code",
      "metadata": {
        "id": "nStghNjCyoKg"
      },
      "source": [
        "def pegasos(X, y, n_iter = 1000, l = 0.01):\n",
        "  Xd = np.column_stack((np.ones(X.shape[0]), X))\n",
        "  n = Xd.shape[0]\n",
        "  w = np.zeros(Xd.shape[1])\n",
        "\n",
        "  t = 0\n",
        "  for i in range(n_iter):\n",
        "    perm = np.random.permutation(n)\n",
        "    for j in range(n):\n",
        "      t += 1\n",
        "      decay = 1.0 / t\n",
        "      eta_t = decay  / l\n",
        "      w = (1 - decay) * w + eta_t * subgradiente(w, Xd[perm[j]],  y[perm[j]])\n",
        "\n",
        "  return w"
      ],
      "execution_count": null,
      "outputs": []
    },
    {
      "cell_type": "markdown",
      "metadata": {
        "id": "6txKhqeeZ9vX"
      },
      "source": [
        "Probamos con la clasificación de 2 flores iris en base a su ancho y largo sepal"
      ]
    },
    {
      "cell_type": "code",
      "metadata": {
        "id": "g6FqXGnFc6qD",
        "colab": {
          "base_uri": "https://localhost:8080/",
          "height": 265
        },
        "outputId": "de0c8690-65b6-4b30-b511-c5aecbc77338"
      },
      "source": [
        "iris = datasets.load_iris()\n",
        "    \n",
        "subconj = np.where(iris['target'] < 2)\n",
        "X = iris['data'][subconj]\n",
        "X = X[:, :2]\n",
        "y = iris['target'][subconj]\n",
        "y[y == 0] = -1\n",
        "\n",
        "perm = np.random.permutation(X.shape[0])\n",
        "X = X[perm,:]\n",
        "y = y[perm]\n",
        "\n",
        "X_ent = X[:int(X.shape[0] * 0.8),:]\n",
        "y_ent = y[:int(X.shape[0] * 0.8)]\n",
        "\n",
        "sc = StandardScaler()\n",
        "X_ent = sc.fit_transform(X_ent)\n",
        "\n",
        "plt.plot(X_ent[y_ent==1, 0], X_ent[y_ent==1, 1], 'bo')\n",
        "plt.plot(X_ent[y_ent==-1, 0], X_ent[y_ent==-1, 1], 'ro')\n",
        "plt.show()"
      ],
      "execution_count": null,
      "outputs": [
        {
          "output_type": "display_data",
          "data": {
            "image/png": "[encoded data removed]",
            "text/plain": [
              "<Figure size 432x288 with 1 Axes>"
            ]
          },
          "metadata": {
            "tags": [],
            "needs_background": "light"
          }
        }
      ]
    },
    {
      "cell_type": "markdown",
      "metadata": {
        "id": "j-oHl4j9abIv"
      },
      "source": [
        "Entrenamos nuestro modelo usando el algoritmo PEGASOS"
      ]
    },
    {
      "cell_type": "code",
      "metadata": {
        "id": "Tg7wwRiudTFc"
      },
      "source": [
        "w = pegasos(X_ent, y_ent, l = 0.001)"
      ],
      "execution_count": null,
      "outputs": []
    },
    {
      "cell_type": "markdown",
      "metadata": {
        "id": "furvX7-IaVwH"
      },
      "source": [
        "Generamos nuestro conjunto de validación y lo reescalamos"
      ]
    },
    {
      "cell_type": "code",
      "metadata": {
        "id": "WZABqQZf0L8y"
      },
      "source": [
        "X_val = X[int(X.shape[0] * 0.8):,:]\n",
        "y_val = y[int(X.shape[0] * 0.8):]\n",
        "X_val = sc.transform(X_val)\n",
        "X_val = np.column_stack((np.ones(X_val.shape[0]), X_val))"
      ],
      "execution_count": null,
      "outputs": []
    },
    {
      "cell_type": "markdown",
      "metadata": {
        "id": "KU7RqmE1afMQ"
      },
      "source": [
        "Predecimos las clases de los datos de validación y evaluamos su exactitud![texto alternativo](https://)"
      ]
    },
    {
      "cell_type": "code",
      "metadata": {
        "id": "KvZjDP7K0eGS",
        "colab": {
          "base_uri": "https://localhost:8080/",
          "height": 35
        },
        "outputId": "25d8b7c5-47d8-4dbe-e51c-a02b4a7f0b8b"
      },
      "source": [
        "y_val_predicha = np.sign(X_val @ w.T)\n",
        "print('Exactitud = {0}%'.format(exactitud(y_val, y_val_predicha)))    "
      ],
      "execution_count": null,
      "outputs": [
        {
          "output_type": "stream",
          "text": [
            "Exactitud = 100.0%\n"
          ],
          "name": "stdout"
        }
      ]
    },
    {
      "cell_type": "markdown",
      "metadata": {
        "id": "nhf_bJMYar3g"
      },
      "source": [
        "Imprimimos los pesos encontrados"
      ]
    },
    {
      "cell_type": "code",
      "metadata": {
        "id": "7oBX5xllddLW",
        "colab": {
          "base_uri": "https://localhost:8080/",
          "height": 35
        },
        "outputId": "96395465-5b43-40c1-aec6-b3d019b63e9a"
      },
      "source": [
        "print('w_1 = {0}, w_2 = {1}, b = {2}'.format(w[1], w[2], w[0]))"
      ],
      "execution_count": null,
      "outputs": [
        {
          "output_type": "stream",
          "text": [
            "w_1 = 4.0086463161686225, w_2 = -2.3891688363262054, b = 0.8250000000000072\n"
          ],
          "name": "stdout"
        }
      ]
    },
    {
      "cell_type": "markdown",
      "metadata": {
        "id": "eVTD26eLa1N9"
      },
      "source": [
        "Visualizamos el híperplano y los vectores de soporte"
      ]
    },
    {
      "cell_type": "code",
      "metadata": {
        "id": "zUfFvgsLdeEP",
        "colab": {
          "base_uri": "https://localhost:8080/",
          "height": 280
        },
        "outputId": "9384688f-39f7-4a56-c93f-38abc676cff2"
      },
      "source": [
        "fig, ax = plt.subplots()\n",
        "ax.scatter(X_ent[:, 0], X_ent[:, 1], c=y_ent, cmap=plt.cm.coolwarm, s=20, edgecolors='k')\n",
        "\n",
        "ax = plt.gca()\n",
        "xlim = ax.get_xlim()\n",
        "ylim = ax.get_ylim()\n",
        "xx, yy = np.meshgrid(np.linspace(xlim[0], xlim[1], 50),\n",
        "                     np.linspace(ylim[0], ylim[1], 50))\n",
        "\n",
        "Xr = np.c_[xx.ravel(), yy.ravel()]\n",
        "Xr = np.column_stack((np.ones(Xr.shape[0]), Xr))\n",
        "\n",
        "Z = Xr @ w.T\n",
        "Z = Z.reshape(xx.shape)\n",
        "plt.contour(xx, yy, Z, colors='k', levels=[-1, 0, 1], alpha=0.5,\n",
        "            linestyles=['--', '-', '--'])\n",
        "ax.set_xlabel('Largo del sépalo')\n",
        "ax.set_ylabel('Ancho del sépalo')\n",
        "plt.show()"
      ],
      "execution_count": null,
      "outputs": [
        {
          "output_type": "display_data",
          "data": {
            "image/png": "[encoded data removed]",
            "text/plain": [
              "<Figure size 432x288 with 1 Axes>"
            ]
          },
          "metadata": {
            "tags": [],
            "needs_background": "light"
          }
        }
      ]
    },
    {
      "cell_type": "markdown",
      "metadata": {
        "id": "CtFUuEin3aH2"
      },
      "source": [
        "## Ejercicio\n",
        "+ Prueba con diferentes valores de $\\lambda$.\n",
        "+ Modifica el código de PEGASOS para realizar la actualización de los parámetros por minilotes y evalúa su convergencia."
      ]
    }
  ]
}