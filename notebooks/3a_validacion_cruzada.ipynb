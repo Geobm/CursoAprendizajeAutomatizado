{
  "cells": [
    {
      "cell_type": "markdown",
      "metadata": {
        "id": "view-in-github",
        "colab_type": "text"
      },
      "source": [
        "<a href=\"https://colab.research.google.com/github/gibranfp/CursoAprendizajeAutomatizado/blob/2022-2/notebooks/3a_validacion_cruzada.ipynb\" target=\"_parent\"><img src=\"https://colab.research.google.com/assets/colab-badge.svg\" alt=\"Open In Colab\"/></a>"
      ]
    },
    {
      "cell_type": "markdown",
      "metadata": {
        "id": "yB9djrqiGwZD"
      },
      "source": [
        "# Selección de modelos\n",
        "En esta libreta evaluaremos modelos de clasificación usando valación cruzada."
      ]
    },
    {
      "cell_type": "code",
      "execution_count": 1,
      "metadata": {
        "id": "hw0H2TId4AOt"
      },
      "outputs": [],
      "source": [
        "import numpy as np\n",
        "import pandas as pd\n",
        "import matplotlib.pyplot as plt\n",
        "\n",
        "from sklearn.linear_model import SGDClassifier\n",
        "\n",
        "from sklearn.feature_extraction.text import TfidfVectorizer\n",
        "from sklearn.datasets import fetch_20newsgroups\n",
        "\n",
        "from sklearn.model_selection import train_test_split\n",
        "from sklearn.preprocessing import StandardScaler\n",
        "from sklearn.impute import SimpleImputer\n",
        "  \n",
        "from sklearn.metrics import average_precision_score, accuracy_score\n",
        "from sklearn.metrics import precision_score, recall_score"
      ]
    },
    {
      "cell_type": "markdown",
      "metadata": {
        "id": "E0tR0TtXD8Yw"
      },
      "source": [
        "## Validación cruzada"
      ]
    },
    {
      "cell_type": "markdown",
      "metadata": {
        "id": "Wc7-8lcsHXnE"
      },
      "source": [
        "Definimos la función para realizar validación cruzada aleatoria"
      ]
    },
    {
      "cell_type": "code",
      "execution_count": 2,
      "metadata": {
        "id": "QXzxe60P420R"
      },
      "outputs": [],
      "source": [
        "def vc_aleatorio(X, y, r = 100, t_ent=0.8):\n",
        "  n = X.shape[0]\n",
        "  for i in range(r):\n",
        "    perm = np.random.permutation(n)\n",
        "    \n",
        "    X = X[perm]\n",
        "    y = y[perm]\n",
        "    \n",
        "    X_ent = X[:int(X.shape[0] * t_ent)]\n",
        "    y_ent = y[:int(X.shape[0] * t_ent)]\n",
        "\n",
        "    X_val = X[int(X.shape[0] * t_ent):]\n",
        "    y_val = y[int(X.shape[0] * t_ent):]\n",
        "    \n",
        "    yield i, X_ent, y_ent, X_val, y_val"
      ]
    },
    {
      "cell_type": "code",
      "execution_count": 3,
      "metadata": {
        "colab": {
          "base_uri": "https://localhost:8080/"
        },
        "id": "3X0W27954AUY",
        "outputId": "02244af4-0adb-4fb1-adca-c16bded0caa7"
      },
      "outputs": [
        {
          "output_type": "stream",
          "name": "stdout",
          "text": [
            "[0.8903078  0.66844216 0.69440254 0.05382608 0.2002001  0.02505445\n",
            " 0.23555695 0.83612899 0.09124254 0.51678106] [0.43213033 0.62408754 0.63090583 0.95983744 0.19556908 0.50011626\n",
            " 0.21227809 0.19938787 0.4576285  0.54764566]\n"
          ]
        }
      ],
      "source": [
        "X_ = np.random.rand(10)\n",
        "y_ = np.random.rand(10)\n",
        "print(X_, y_)"
      ]
    },
    {
      "cell_type": "code",
      "execution_count": 4,
      "metadata": {
        "colab": {
          "base_uri": "https://localhost:8080/"
        },
        "id": "jtux7DZk4ItU",
        "outputId": "925a95e8-caec-41ab-9480-71300baeb9ee"
      },
      "outputs": [
        {
          "output_type": "stream",
          "name": "stdout",
          "text": [
            "0 (8,) (8,) (2,) (2,)\n",
            "1 (8,) (8,) (2,) (2,)\n"
          ]
        }
      ],
      "source": [
        "for i,X_ent_, y_ent_, X_val_, y_val_ in vc_aleatorio(X_, y_, r=2, t_ent=0.8):\n",
        "  print(i, X_ent_.shape, y_ent_.shape, X_val_.shape, y_val_.shape)"
      ]
    },
    {
      "cell_type": "markdown",
      "metadata": {
        "id": "LzF9FeWlHcgc"
      },
      "source": [
        "De forma similar, definimos la función para realizar validación cruzada de $K$ particiones"
      ]
    },
    {
      "cell_type": "code",
      "execution_count": 5,
      "metadata": {
        "id": "PYa4NG5Z5Ltm"
      },
      "outputs": [],
      "source": [
        "def vc_kpart(X, y, k = 5):\n",
        "  n = X.shape[0]\n",
        "  t_pliegue = int(n / k)\n",
        "  for i in range(k):\n",
        "    masc_val = np.zeros(n, dtype=bool)\n",
        "    masc_val[t_pliegue * i:t_pliegue * (i + 1)] = True\n",
        "    masc_ent = np.logical_not(masc_val)\n",
        "    X_ent = X[masc_ent]\n",
        "    y_ent = y[masc_ent]\n",
        "    X_val = X[masc_val]\n",
        "    y_val = y[masc_val]\n",
        "    \n",
        "    yield i, X_ent, y_ent, X_val, y_val"
      ]
    },
    {
      "cell_type": "markdown",
      "metadata": {
        "id": "kKqC0c7_ugyy"
      },
      "source": [
        "Validación de K particiones con repetición"
      ]
    },
    {
      "cell_type": "code",
      "execution_count": 6,
      "metadata": {
        "id": "ERcbAtTiutZi"
      },
      "outputs": [],
      "source": [
        "def vcrep_kpart(X, y, r=10, k=4):\n",
        "  n = X.shape[0]\n",
        "  t_pliegue = int(n / k)\n",
        "  for i in range(r):\n",
        "    perm = np.random.permutation(n)\n",
        "    X = X[perm]\n",
        "    y = y[perm]\n",
        "    for j in range(k):\n",
        "      masc_val = np.zeros(n, dtype=bool)\n",
        "      masc_val[t_pliegue*j:t_pliegue*(j+1)] = True\n",
        "      masc_ent = np.logical_not(masc_val)\n",
        "      X_ent = X[masc_ent]\n",
        "      y_ent = y[masc_ent]\n",
        "      X_val = X[masc_val]\n",
        "      y_val = y[masc_val]\n",
        "      \n",
        "      yield i, j, i * k + j, X_ent, y_ent, X_val, y_val"
      ]
    },
    {
      "cell_type": "markdown",
      "metadata": {
        "id": "dRjtMOh5EJi4"
      },
      "source": [
        "## Curva ROC\n",
        "Para evaluar los modelos de clasificación usaremos el área bajo la curva Receiver Operating Characteristic (ROC), la cual obtenemos de la siguiente manera:"
      ]
    },
    {
      "cell_type": "code",
      "execution_count": 7,
      "metadata": {
        "id": "HNTfICeZ8bP9"
      },
      "outputs": [],
      "source": [
        "def roc(probabilities, y):\n",
        "  # obtenemos los indices de las predicciones ordenadas de menor a mayor probabilidad\n",
        "  orden = np.argsort(probabilities)[::-1]\n",
        "\n",
        "  # ordenamos predicciones y valores reales\n",
        "  porden = probabilities[orden]\n",
        "  yorden = y[orden]\n",
        "\n",
        "  # Nos quedamos únicamente con los índices repetidos\n",
        "  idxs = np.unique(porden, return_index = True)[1][::-1]\n",
        "  \n",
        "  rvps = yorden[idxs].cumsum()\n",
        "  rfps = 1.0 + idxs - rvps \n",
        "\n",
        "  n_pos = y.sum()\n",
        "  n_neg = y.shape[0] - n_pos\n",
        "\n",
        "  return rvps / n_pos, rfps / n_neg"
      ]
    },
    {
      "cell_type": "markdown",
      "metadata": {
        "id": "FO18JtRK2_rL"
      },
      "source": [
        "Podemos calcular el áre bajo la curva ROC usando usando la [fórmula de Shoelace](https://en.wikipedia.org/wiki/Shoelace_formula)."
      ]
    },
    {
      "cell_type": "code",
      "execution_count": 8,
      "metadata": {
        "id": "WTyre6AG29cV"
      },
      "outputs": [],
      "source": [
        "def area_poligono(vertices):\n",
        "  area = 0.0\n",
        "  n_vert = len(vertices)\n",
        "  for i in range(n_vert - 1):\n",
        "    area = area + vertices[i][0] * vertices[i + 1][1]\n",
        "    area = area - vertices[i + 1][0] * vertices[i][1]\n",
        "\n",
        "  area = area + vertices[n_vert - 1][0] * vertices[0][1]\n",
        "  area = area - vertices[0][0] * vertices[n_vert - 1][1]\n",
        "\n",
        "  return 0.5 * abs(area)\n",
        "\n",
        "def aucroc(tfp, tvp):\n",
        "  auc = 0.0\n",
        "  fprev = 0.0\n",
        "  vprev = 0.0\n",
        "  for i,(f,v) in enumerate(zip(tfp, tvp)):\n",
        "    auc += area_poligono([[fprev, 0], [fprev, vprev], [f, v], [f, 0]])\n",
        "    fprev = f\n",
        "    vprev = v\n",
        "\n",
        "  return auc"
      ]
    },
    {
      "cell_type": "markdown",
      "metadata": {
        "id": "iWD_Cyia8nH7"
      },
      "source": [
        "Descargamos el conjunto de datos de [ATLAS Higgs Challenge](http://opendata.cern.ch/record/328)."
      ]
    },
    {
      "cell_type": "code",
      "execution_count": 9,
      "metadata": {
        "colab": {
          "base_uri": "https://localhost:8080/"
        },
        "id": "uM9HzrreYWG7",
        "outputId": "c6920c03-bf22-4f75-d4ec-9d4004ec93b2"
      },
      "outputs": [
        {
          "output_type": "stream",
          "name": "stdout",
          "text": [
            "--2022-03-22 19:03:45--  http://opendata.cern.ch/record/328/files/atlas-higgs-challenge-2014-v2.csv.gz\n",
            "Resolving opendata.cern.ch (opendata.cern.ch)... 188.184.99.6, 188.184.103.181, 188.184.28.132, ...\n",
            "Connecting to opendata.cern.ch (opendata.cern.ch)|188.184.99.6|:80... connected.\n",
            "HTTP request sent, awaiting response... 200 OK\n",
            "Length: 65630848 (63M) [application/octet-stream]\n",
            "Saving to: ‘atlas-higgs-challenge-2014-v2.csv.gz’\n",
            "\n",
            "atlas-higgs-challen 100%[===================>]  62.59M  5.00MB/s    in 42s     \n",
            "\n",
            "2022-03-22 19:04:28 (1.47 MB/s) - ‘atlas-higgs-challenge-2014-v2.csv.gz’ saved [65630848/65630848]\n",
            "\n"
          ]
        }
      ],
      "source": [
        "!wget http://opendata.cern.ch/record/328/files/atlas-higgs-challenge-2014-v2.csv.gz\n",
        "!gunzip atlas-higgs-challenge-2014-v2.csv.gz"
      ]
    },
    {
      "cell_type": "markdown",
      "source": [
        "Leemos el archivo CSV y mostramos los primeros registros."
      ],
      "metadata": {
        "id": "PIhhQOaa1KuU"
      }
    },
    {
      "cell_type": "code",
      "execution_count": 10,
      "metadata": {
        "id": "BKbHjAj69ICt",
        "colab": {
          "base_uri": "https://localhost:8080/",
          "height": 299
        },
        "outputId": "b0092d65-9991-497e-8c06-fdb0971e3221"
      },
      "outputs": [
        {
          "output_type": "execute_result",
          "data": {
            "text/plain": [
              "   EventId  DER_mass_MMC  DER_mass_transverse_met_lep  DER_mass_vis  DER_pt_h  \\\n",
              "0   100000       138.470                       51.655        97.827    27.980   \n",
              "1   100001       160.937                       68.768       103.235    48.146   \n",
              "2   100002           NaN                      162.172       125.953    35.635   \n",
              "3   100003       143.905                       81.417        80.943     0.414   \n",
              "4   100004       175.864                       16.915       134.805    16.405   \n",
              "\n",
              "   DER_deltaeta_jet_jet  DER_mass_jet_jet  DER_prodeta_jet_jet  \\\n",
              "0                  0.91           124.711                2.666   \n",
              "1                   NaN               NaN                  NaN   \n",
              "2                   NaN               NaN                  NaN   \n",
              "3                   NaN               NaN                  NaN   \n",
              "4                   NaN               NaN                  NaN   \n",
              "\n",
              "   DER_deltar_tau_lep  DER_pt_tot  ...  PRI_jet_leading_eta  \\\n",
              "0               3.064      41.928  ...                2.150   \n",
              "1               3.473       2.078  ...                0.725   \n",
              "2               3.148       9.336  ...                2.053   \n",
              "3               3.310       0.414  ...                  NaN   \n",
              "4               3.891      16.405  ...                  NaN   \n",
              "\n",
              "   PRI_jet_leading_phi  PRI_jet_subleading_pt  PRI_jet_subleading_eta  \\\n",
              "0                0.444                 46.062                    1.24   \n",
              "1                1.158                    NaN                     NaN   \n",
              "2               -2.028                    NaN                     NaN   \n",
              "3                  NaN                    NaN                     NaN   \n",
              "4                  NaN                    NaN                     NaN   \n",
              "\n",
              "   PRI_jet_subleading_phi  PRI_jet_all_pt    Weight  Label  KaggleSet  \\\n",
              "0                  -2.475         113.497  0.000814      s          t   \n",
              "1                     NaN          46.226  0.681042      b          t   \n",
              "2                     NaN          44.251  0.715742      b          t   \n",
              "3                     NaN          -0.000  1.660654      b          t   \n",
              "4                     NaN           0.000  1.904263      b          t   \n",
              "\n",
              "   KaggleWeight  \n",
              "0      0.002653  \n",
              "1      2.233584  \n",
              "2      2.347389  \n",
              "3      5.446378  \n",
              "4      6.245333  \n",
              "\n",
              "[5 rows x 35 columns]"
            ],
            "text/html": [
              "\n",
              "  <div id=\"df-971c0c91-174e-4b44-8e96-71a7989b4b7e\">\n",
              "    <div class=\"colab-df-container\">\n",
              "      <div>\n",
              "<style scoped>\n",
              "    .dataframe tbody tr th:only-of-type {\n",
              "        vertical-align: middle;\n",
              "    }\n",
              "\n",
              "    .dataframe tbody tr th {\n",
              "        vertical-align: top;\n",
              "    }\n",
              "\n",
              "    .dataframe thead th {\n",
              "        text-align: right;\n",
              "    }\n",
              "</style>\n",
              "<table border=\"1\" class=\"dataframe\">\n",
              "  <thead>\n",
              "    <tr style=\"text-align: right;\">\n",
              "      <th></th>\n",
              "      <th>EventId</th>\n",
              "      <th>DER_mass_MMC</th>\n",
              "      <th>DER_mass_transverse_met_lep</th>\n",
              "      <th>DER_mass_vis</th>\n",
              "      <th>DER_pt_h</th>\n",
              "      <th>DER_deltaeta_jet_jet</th>\n",
              "      <th>DER_mass_jet_jet</th>\n",
              "      <th>DER_prodeta_jet_jet</th>\n",
              "      <th>DER_deltar_tau_lep</th>\n",
              "      <th>DER_pt_tot</th>\n",
              "      <th>...</th>\n",
              "      <th>PRI_jet_leading_eta</th>\n",
              "      <th>PRI_jet_leading_phi</th>\n",
              "      <th>PRI_jet_subleading_pt</th>\n",
              "      <th>PRI_jet_subleading_eta</th>\n",
              "      <th>PRI_jet_subleading_phi</th>\n",
              "      <th>PRI_jet_all_pt</th>\n",
              "      <th>Weight</th>\n",
              "      <th>Label</th>\n",
              "      <th>KaggleSet</th>\n",
              "      <th>KaggleWeight</th>\n",
              "    </tr>\n",
              "  </thead>\n",
              "  <tbody>\n",
              "    <tr>\n",
              "      <th>0</th>\n",
              "      <td>100000</td>\n",
              "      <td>138.470</td>\n",
              "      <td>51.655</td>\n",
              "      <td>97.827</td>\n",
              "      <td>27.980</td>\n",
              "      <td>0.91</td>\n",
              "      <td>124.711</td>\n",
              "      <td>2.666</td>\n",
              "      <td>3.064</td>\n",
              "      <td>41.928</td>\n",
              "      <td>...</td>\n",
              "      <td>2.150</td>\n",
              "      <td>0.444</td>\n",
              "      <td>46.062</td>\n",
              "      <td>1.24</td>\n",
              "      <td>-2.475</td>\n",
              "      <td>113.497</td>\n",
              "      <td>0.000814</td>\n",
              "      <td>s</td>\n",
              "      <td>t</td>\n",
              "      <td>0.002653</td>\n",
              "    </tr>\n",
              "    <tr>\n",
              "      <th>1</th>\n",
              "      <td>100001</td>\n",
              "      <td>160.937</td>\n",
              "      <td>68.768</td>\n",
              "      <td>103.235</td>\n",
              "      <td>48.146</td>\n",
              "      <td>NaN</td>\n",
              "      <td>NaN</td>\n",
              "      <td>NaN</td>\n",
              "      <td>3.473</td>\n",
              "      <td>2.078</td>\n",
              "      <td>...</td>\n",
              "      <td>0.725</td>\n",
              "      <td>1.158</td>\n",
              "      <td>NaN</td>\n",
              "      <td>NaN</td>\n",
              "      <td>NaN</td>\n",
              "      <td>46.226</td>\n",
              "      <td>0.681042</td>\n",
              "      <td>b</td>\n",
              "      <td>t</td>\n",
              "      <td>2.233584</td>\n",
              "    </tr>\n",
              "    <tr>\n",
              "      <th>2</th>\n",
              "      <td>100002</td>\n",
              "      <td>NaN</td>\n",
              "      <td>162.172</td>\n",
              "      <td>125.953</td>\n",
              "      <td>35.635</td>\n",
              "      <td>NaN</td>\n",
              "      <td>NaN</td>\n",
              "      <td>NaN</td>\n",
              "      <td>3.148</td>\n",
              "      <td>9.336</td>\n",
              "      <td>...</td>\n",
              "      <td>2.053</td>\n",
              "      <td>-2.028</td>\n",
              "      <td>NaN</td>\n",
              "      <td>NaN</td>\n",
              "      <td>NaN</td>\n",
              "      <td>44.251</td>\n",
              "      <td>0.715742</td>\n",
              "      <td>b</td>\n",
              "      <td>t</td>\n",
              "      <td>2.347389</td>\n",
              "    </tr>\n",
              "    <tr>\n",
              "      <th>3</th>\n",
              "      <td>100003</td>\n",
              "      <td>143.905</td>\n",
              "      <td>81.417</td>\n",
              "      <td>80.943</td>\n",
              "      <td>0.414</td>\n",
              "      <td>NaN</td>\n",
              "      <td>NaN</td>\n",
              "      <td>NaN</td>\n",
              "      <td>3.310</td>\n",
              "      <td>0.414</td>\n",
              "      <td>...</td>\n",
              "      <td>NaN</td>\n",
              "      <td>NaN</td>\n",
              "      <td>NaN</td>\n",
              "      <td>NaN</td>\n",
              "      <td>NaN</td>\n",
              "      <td>-0.000</td>\n",
              "      <td>1.660654</td>\n",
              "      <td>b</td>\n",
              "      <td>t</td>\n",
              "      <td>5.446378</td>\n",
              "    </tr>\n",
              "    <tr>\n",
              "      <th>4</th>\n",
              "      <td>100004</td>\n",
              "      <td>175.864</td>\n",
              "      <td>16.915</td>\n",
              "      <td>134.805</td>\n",
              "      <td>16.405</td>\n",
              "      <td>NaN</td>\n",
              "      <td>NaN</td>\n",
              "      <td>NaN</td>\n",
              "      <td>3.891</td>\n",
              "      <td>16.405</td>\n",
              "      <td>...</td>\n",
              "      <td>NaN</td>\n",
              "      <td>NaN</td>\n",
              "      <td>NaN</td>\n",
              "      <td>NaN</td>\n",
              "      <td>NaN</td>\n",
              "      <td>0.000</td>\n",
              "      <td>1.904263</td>\n",
              "      <td>b</td>\n",
              "      <td>t</td>\n",
              "      <td>6.245333</td>\n",
              "    </tr>\n",
              "  </tbody>\n",
              "</table>\n",
              "<p>5 rows × 35 columns</p>\n",
              "</div>\n",
              "      <button class=\"colab-df-convert\" onclick=\"convertToInteractive('df-971c0c91-174e-4b44-8e96-71a7989b4b7e')\"\n",
              "              title=\"Convert this dataframe to an interactive table.\"\n",
              "              style=\"display:none;\">\n",
              "        \n",
              "  <svg xmlns=\"http://www.w3.org/2000/svg\" height=\"24px\"viewBox=\"0 0 24 24\"\n",
              "       width=\"24px\">\n",
              "    <path d=\"M0 0h24v24H0V0z\" fill=\"none\"/>\n",
              "    <path d=\"M18.56 5.44l.94 2.06.94-2.06 2.06-.94-2.06-.94-.94-2.06-.94 2.06-2.06.94zm-11 1L8.5 8.5l.94-2.06 2.06-.94-2.06-.94L8.5 2.5l-.94 2.06-2.06.94zm10 10l.94 2.06.94-2.06 2.06-.94-2.06-.94-.94-2.06-.94 2.06-2.06.94z\"/><path d=\"M17.41 7.96l-1.37-1.37c-.4-.4-.92-.59-1.43-.59-.52 0-1.04.2-1.43.59L10.3 9.45l-7.72 7.72c-.78.78-.78 2.05 0 2.83L4 21.41c.39.39.9.59 1.41.59.51 0 1.02-.2 1.41-.59l7.78-7.78 2.81-2.81c.8-.78.8-2.07 0-2.86zM5.41 20L4 18.59l7.72-7.72 1.47 1.35L5.41 20z\"/>\n",
              "  </svg>\n",
              "      </button>\n",
              "      \n",
              "  <style>\n",
              "    .colab-df-container {\n",
              "      display:flex;\n",
              "      flex-wrap:wrap;\n",
              "      gap: 12px;\n",
              "    }\n",
              "\n",
              "    .colab-df-convert {\n",
              "      background-color: #E8F0FE;\n",
              "      border: none;\n",
              "      border-radius: 50%;\n",
              "      cursor: pointer;\n",
              "      display: none;\n",
              "      fill: #1967D2;\n",
              "      height: 32px;\n",
              "      padding: 0 0 0 0;\n",
              "      width: 32px;\n",
              "    }\n",
              "\n",
              "    .colab-df-convert:hover {\n",
              "      background-color: #E2EBFA;\n",
              "      box-shadow: 0px 1px 2px rgba(60, 64, 67, 0.3), 0px 1px 3px 1px rgba(60, 64, 67, 0.15);\n",
              "      fill: #174EA6;\n",
              "    }\n",
              "\n",
              "    [theme=dark] .colab-df-convert {\n",
              "      background-color: #3B4455;\n",
              "      fill: #D2E3FC;\n",
              "    }\n",
              "\n",
              "    [theme=dark] .colab-df-convert:hover {\n",
              "      background-color: #434B5C;\n",
              "      box-shadow: 0px 1px 3px 1px rgba(0, 0, 0, 0.15);\n",
              "      filter: drop-shadow(0px 1px 2px rgba(0, 0, 0, 0.3));\n",
              "      fill: #FFFFFF;\n",
              "    }\n",
              "  </style>\n",
              "\n",
              "      <script>\n",
              "        const buttonEl =\n",
              "          document.querySelector('#df-971c0c91-174e-4b44-8e96-71a7989b4b7e button.colab-df-convert');\n",
              "        buttonEl.style.display =\n",
              "          google.colab.kernel.accessAllowed ? 'block' : 'none';\n",
              "\n",
              "        async function convertToInteractive(key) {\n",
              "          const element = document.querySelector('#df-971c0c91-174e-4b44-8e96-71a7989b4b7e');\n",
              "          const dataTable =\n",
              "            await google.colab.kernel.invokeFunction('convertToInteractive',\n",
              "                                                     [key], {});\n",
              "          if (!dataTable) return;\n",
              "\n",
              "          const docLinkHtml = 'Like what you see? Visit the ' +\n",
              "            '<a target=\"_blank\" href=https://colab.research.google.com/notebooks/data_table.ipynb>data table notebook</a>'\n",
              "            + ' to learn more about interactive tables.';\n",
              "          element.innerHTML = '';\n",
              "          dataTable['output_type'] = 'display_data';\n",
              "          await google.colab.output.renderOutput(dataTable, element);\n",
              "          const docLink = document.createElement('div');\n",
              "          docLink.innerHTML = docLinkHtml;\n",
              "          element.appendChild(docLink);\n",
              "        }\n",
              "      </script>\n",
              "    </div>\n",
              "  </div>\n",
              "  "
            ]
          },
          "metadata": {},
          "execution_count": 10
        }
      ],
      "source": [
        "higgs = pd.read_csv('atlas-higgs-challenge-2014-v2.csv', na_values=-999.0)\n",
        "higgs.head(5)"
      ]
    },
    {
      "cell_type": "markdown",
      "source": [
        "Podemos observar que hay varios valores faltantes (`NaN`), calulamos el porcentaje de faltantes de cada variable."
      ],
      "metadata": {
        "id": "WnKqA2aN1WHA"
      }
    },
    {
      "cell_type": "code",
      "execution_count": 11,
      "metadata": {
        "id": "inej3FV_aNtt",
        "colab": {
          "base_uri": "https://localhost:8080/"
        },
        "outputId": "f2ada0fb-22da-47da-a2a8-23d60d7655f2"
      },
      "outputs": [
        {
          "output_type": "stream",
          "name": "stdout",
          "text": [
            "EventId                         0.000000\n",
            "DER_mass_MMC                   15.228088\n",
            "DER_mass_transverse_met_lep     0.000000\n",
            "DER_mass_vis                    0.000000\n",
            "DER_pt_h                        0.000000\n",
            "DER_deltaeta_jet_jet           70.914942\n",
            "DER_mass_jet_jet               70.914942\n",
            "DER_prodeta_jet_jet            70.914942\n",
            "DER_deltar_tau_lep              0.000000\n",
            "DER_pt_tot                      0.000000\n",
            "DER_sum_pt                      0.000000\n",
            "DER_pt_ratio_lep_tau            0.000000\n",
            "DER_met_phi_centrality          0.000000\n",
            "DER_lep_eta_centrality         70.914942\n",
            "PRI_tau_pt                      0.000000\n",
            "PRI_tau_eta                     0.000000\n",
            "PRI_tau_phi                     0.000000\n",
            "PRI_lep_pt                      0.000000\n",
            "PRI_lep_eta                     0.000000\n",
            "PRI_lep_phi                     0.000000\n",
            "PRI_met                         0.000000\n",
            "PRI_met_phi                     0.000000\n",
            "PRI_met_sumet                   0.000000\n",
            "PRI_jet_num                     0.000000\n",
            "PRI_jet_leading_pt             40.009264\n",
            "PRI_jet_leading_eta            40.009264\n",
            "PRI_jet_leading_phi            40.009264\n",
            "PRI_jet_subleading_pt          70.914942\n",
            "PRI_jet_subleading_eta         70.914942\n",
            "PRI_jet_subleading_phi         70.914942\n",
            "PRI_jet_all_pt                  0.000000\n",
            "Weight                          0.000000\n",
            "Label                           0.000000\n",
            "KaggleSet                       0.000000\n",
            "KaggleWeight                    0.000000\n",
            "dtype: float64\n"
          ]
        }
      ],
      "source": [
        "faltantes = higgs.isnull().sum() * 100 / len(higgs)\n",
        "print(faltantes)"
      ]
    },
    {
      "cell_type": "markdown",
      "metadata": {
        "id": "SDVmR8LRXFwW"
      },
      "source": [
        "Para los atributos descartamos `EventId`, `Weight`, `KaggleSet`, `KaggleWeight` y `Label`."
      ]
    },
    {
      "cell_type": "code",
      "execution_count": 12,
      "metadata": {
        "id": "RRorbevOaJbf"
      },
      "outputs": [],
      "source": [
        "features = [\n",
        "            'DER_mass_MMC', \n",
        "            'DER_mass_transverse_met_lep',\n",
        "            'DER_mass_vis', \n",
        "            'DER_pt_h', \n",
        "            'DER_deltaeta_jet_jet', \n",
        "            'DER_mass_jet_jet',\n",
        "            'DER_prodeta_jet_jet', \n",
        "            'DER_deltar_tau_lep', \n",
        "            'DER_pt_tot', \n",
        "            'DER_sum_pt',\n",
        "            'DER_pt_ratio_lep_tau', \n",
        "            'DER_lep_eta_centrality', \n",
        "            'PRI_tau_pt', \n",
        "            'PRI_tau_eta', \n",
        "            'PRI_lep_pt', \n",
        "            'PRI_lep_eta', \n",
        "            'PRI_met', \n",
        "            'PRI_met_sumet', \n",
        "            'PRI_jet_num', \n",
        "            'PRI_jet_leading_pt',\n",
        "            'PRI_jet_leading_eta', \n",
        "            'PRI_jet_subleading_pt',\n",
        "            'PRI_jet_subleading_eta', \n",
        "            'PRI_jet_all_pt'\n",
        "            ]"
      ]
    },
    {
      "cell_type": "markdown",
      "source": [
        "Graficamos el número de instancias por cada clase (columna `Label`)."
      ],
      "metadata": {
        "id": "SiSw-oJU6eqM"
      }
    },
    {
      "cell_type": "code",
      "execution_count": 13,
      "metadata": {
        "id": "WSj0Qju3bUPr",
        "colab": {
          "base_uri": "https://localhost:8080/",
          "height": 265
        },
        "outputId": "0e236dd3-ce62-447f-8823-a19fb568fc49"
      },
      "outputs": [
        {
          "output_type": "display_data",
          "data": {
            "text/plain": [
              "<Figure size 432x288 with 1 Axes>"
            ],
            "image/png": "[encoded data removed]"
          },
          "metadata": {
            "needs_background": "light"
          }
        }
      ],
      "source": [
        "higgs['Label'].hist()\n",
        "plt.show()"
      ]
    },
    {
      "cell_type": "markdown",
      "source": [
        "Tomamos los valores de esos atributos como un arreglo de NumPy. Convertimos los valores s y b de la columna `Label` a 0 y 1 respectivamente."
      ],
      "metadata": {
        "id": "S_QcYBum5sbr"
      }
    },
    {
      "cell_type": "code",
      "execution_count": 14,
      "metadata": {
        "id": "A4yffqh0ai2M"
      },
      "outputs": [],
      "source": [
        "X = higgs[features].to_numpy()\n",
        "y = np.zeros(len(higgs['Label'].to_numpy())).astype(int)\n",
        "y[higgs['Label'].to_numpy() == 's'] = 1"
      ]
    },
    {
      "cell_type": "markdown",
      "source": [
        "Dividimos el conjunto completo en subconjuntos de entrenamiento y prueba."
      ],
      "metadata": {
        "id": "ihZjG5CL5YMZ"
      }
    },
    {
      "cell_type": "code",
      "execution_count": 15,
      "metadata": {
        "id": "Hp9SF-lKnrbW"
      },
      "outputs": [],
      "source": [
        "Xe, X_prueba, ye, y_prueba = train_test_split(X, \n",
        "                                              y, \n",
        "                                              test_size=0.3, \n",
        "                                              random_state=42)"
      ]
    },
    {
      "cell_type": "markdown",
      "metadata": {
        "id": "mCXyz7v4VLe_"
      },
      "source": [
        "Realizamos validación cruzada para regresión logística con distintos valores de $\\lambda$ ($\\alpha$ en la clase `LogisticRegression` de scikit-learn) usando el subconjunto de entrenamiento."
      ]
    },
    {
      "cell_type": "code",
      "execution_count": 16,
      "metadata": {
        "id": "6g3wHFAPVL6B"
      },
      "outputs": [],
      "source": [
        "n_rep = 2\n",
        "n_pliegues = 3\n",
        "\n",
        "alfas = np.arange(start=0.005, stop=0.03, step=0.005)\n",
        "aucs = np.zeros((alfas.shape[0], n_rep * n_pliegues))\n",
        "accs = np.zeros((alfas.shape[0], n_rep * n_pliegues))\n",
        "precs = np.zeros((alfas.shape[0], n_rep * n_pliegues))\n",
        "recalls = np.zeros((alfas.shape[0], n_rep * n_pliegues))\n",
        "aps = np.zeros((alfas.shape[0], n_rep * n_pliegues))\n",
        "for i,a in enumerate(alfas):\n",
        "  for j, k, l, X_ent, y_ent, X_val, y_val in vcrep_kpart(Xe, ye, r=n_rep, k=n_pliegues):\n",
        "    imp = SimpleImputer(strategy='mean')\n",
        "    imp.fit(X_ent)\n",
        "    X_ent = imp.transform(X_ent)\n",
        "\n",
        "    sc = StandardScaler()\n",
        "    X_ent = sc.fit_transform(X_ent)\n",
        "    \n",
        "    m = SGDClassifier(loss='log', penalty='l1', alpha=0.0002)\n",
        "    m = m.fit(X_ent, y_ent)  \n",
        "\n",
        "    X_val = imp.transform(X_val)\n",
        "    X_val = sc.transform(X_val)\n",
        "    y_pred = m.predict(X_val)\n",
        "    probs = m.predict_proba(X_val)\n",
        "    \n",
        "    rvps, rfps = roc(probs[:, 1], y_val)\n",
        "    aucs[i, l] = aucroc(rfps, rvps)\n",
        "    accs[i, l] = accuracy_score(y_val, y_pred)\n",
        "    precs[i, l] = precision_score(y_val, y_pred)\n",
        "    recalls[i, l] = recall_score(y_val, y_pred)\n",
        "    aps[i, l] = average_precision_score(y_val, y_pred)"
      ]
    },
    {
      "cell_type": "markdown",
      "source": [
        "Calculamos los promedios y desviaciones estándar de las métricas para cada valor de $\\alpha$."
      ],
      "metadata": {
        "id": "eemjoM9X4RMh"
      }
    },
    {
      "cell_type": "code",
      "source": [
        "for i,a in enumerate(alfas):\n",
        "  print(f'Alfa = {a}')\n",
        "  print(f'\\tAUC = {aucs[i,:].mean()} ({aucs[i,:].std()})')\n",
        "  print(f'\\tACC = {accs[i,:].mean()} ({accs[i,:].std()})')\n",
        "  print(f'\\tPREC = {precs[i,:].mean()} ({precs[i,:].std()})')\n",
        "  print(f'\\tRECALL = {recalls[i,:].mean()} ({recalls[i,:].std()})')\n",
        "  print(f'\\tAP = {aps[i,:].mean()} ({aps[i,:].std()})')"
      ],
      "metadata": {
        "id": "J4Fv1g8HvEn4",
        "colab": {
          "base_uri": "https://localhost:8080/"
        },
        "outputId": "29d49be5-a652-4532-bae2-4c58c0df5ee5"
      },
      "execution_count": 17,
      "outputs": [
        {
          "output_type": "stream",
          "name": "stdout",
          "text": [
            "Alfa = 0.005\n",
            "\tAUC = 0.8133585779405527 (0.0014805724409014465)\n",
            "\tACC = 0.7532308132815145 (0.0013544352349087261)\n",
            "\tPREC = 0.6750986095358978 (0.002572758277413222)\n",
            "\tRECALL = 0.5348470499113093 (0.013005721491429431)\n",
            "\tAP = 0.5199008690093686 (0.004184373810262794)\n",
            "Alfa = 0.01\n",
            "\tAUC = 0.8117378854300532 (0.0007724131801954485)\n",
            "\tACC = 0.7528676632342003 (0.0006056408247484852)\n",
            "\tPREC = 0.6719297693524701 (0.006296461270751935)\n",
            "\tRECALL = 0.5405176482817672 (0.014256910551212145)\n",
            "\tAP = 0.5200203181535665 (0.0015424783830961968)\n",
            "Alfa = 0.015\n",
            "\tAUC = 0.8134623250430294 (0.0009538428533979152)\n",
            "\tACC = 0.753623643861542 (0.0007350068538709866)\n",
            "\tPREC = 0.6757296052935162 (0.006384929926401081)\n",
            "\tRECALL = 0.5360917336804886 (0.01609594238488627)\n",
            "\tAP = 0.5205889744187138 (0.0027361205970986477)\n",
            "Alfa = 0.02\n",
            "\tAUC = 0.8118560442935512 (0.0007364171152932831)\n",
            "\tACC = 0.7524477709919931 (0.0010309502066126995)\n",
            "\tPREC = 0.6762452827656414 (0.003598560059678919)\n",
            "\tRECALL = 0.5279570590148451 (0.008287684824986643)\n",
            "\tAP = 0.5182102301021936 (0.0013702857715316944)\n",
            "Alfa = 0.025\n",
            "\tAUC = 0.8132856770664856 (0.0009642757731565256)\n",
            "\tACC = 0.7525918088713365 (0.0011449094427436384)\n",
            "\tPREC = 0.6769375822367171 (0.0026963918611730238)\n",
            "\tRECALL = 0.5271994924943806 (0.01130248012741974)\n",
            "\tAP = 0.518315455652545 (0.003015837506036339)\n"
          ]
        }
      ]
    },
    {
      "cell_type": "markdown",
      "source": [
        "Dibujamos los diagramas de caja de los valores AUC de cada valor de $\\alpha$."
      ],
      "metadata": {
        "id": "L33tBqAi4gTo"
      }
    },
    {
      "cell_type": "code",
      "source": [
        "plt.boxplot(aucs.T, showmeans=True)\n",
        "plt.xticks(range(1, len(alfas) + 1), [f'{a:.4f}' for a in alfas], rotation=45)\n",
        "plt.show()"
      ],
      "metadata": {
        "id": "JCV9g5OY75Z5",
        "colab": {
          "base_uri": "https://localhost:8080/",
          "height": 287
        },
        "outputId": "767c0cb4-fe30-4d4d-e3b6-523522c9c6b1"
      },
      "execution_count": 18,
      "outputs": [
        {
          "output_type": "display_data",
          "data": {
            "text/plain": [
              "<Figure size 432x288 with 1 Axes>"
            ],
            "image/png": "[encoded data removed]"
          },
          "metadata": {
            "needs_background": "light"
          }
        }
      ]
    },
    {
      "cell_type": "markdown",
      "source": [
        "Seleccionamos el valor de $\\alpha$ más apropiado, entrenamos un modelo con ese valor usando todo el subconjunto de entrenamiento y obtenemos las métricas de desempeño en el conjunto de prueba."
      ],
      "metadata": {
        "id": "-RRHCBBh4zso"
      }
    },
    {
      "cell_type": "code",
      "execution_count": 19,
      "metadata": {
        "id": "tlwYIqbMR7bU",
        "colab": {
          "base_uri": "https://localhost:8080/"
        },
        "outputId": "76767983-1c38-48b7-fdc1-4ddfeed13b6c"
      },
      "outputs": [
        {
          "output_type": "stream",
          "name": "stdout",
          "text": [
            "AUC = 0.8125980979669544\n",
            "ACC = 0.7531449615434754\n",
            "Prec = 0.6773669425252449\n",
            "Recall = 0.5313196040830425\n",
            "AP = 0.5201976773978978\n"
          ]
        }
      ],
      "source": [
        "imp = SimpleImputer(strategy='mean')\n",
        "imp.fit(Xe)\n",
        "Xe = imp.transform(Xe)\n",
        "\n",
        "sc = StandardScaler()\n",
        "Xe = sc.fit_transform(Xe)\n",
        "  \n",
        "m = SGDClassifier(loss='log', \n",
        "                  penalty='l1', \n",
        "                  alpha=0.0006)\n",
        "m = m.fit(Xe, ye)  \n",
        "\n",
        "X_prueba = imp.transform(X_prueba)\n",
        "X_prueba = sc.transform(X_prueba)\n",
        "y_pred = m.predict(X_prueba)\n",
        "probs = m.predict_proba(X_prueba)\n",
        "\n",
        "rvps, rfps = roc(probs[:, 1], y_prueba)\n",
        "print(f'AUC = {aucroc(rfps, rvps)}')\n",
        "print(f'ACC = {accuracy_score(y_prueba, y_pred)}')\n",
        "print(f'Prec = {precision_score(y_prueba, y_pred)}')\n",
        "print(f'Recall = {recall_score(y_prueba, y_pred)}')\n",
        "print(f'AP = {average_precision_score(y_prueba, y_pred)}')"
      ]
    },
    {
      "cell_type": "markdown",
      "metadata": {
        "id": "XlJ9jW1qUcRf"
      },
      "source": [
        "Graficamos la curva ROC."
      ]
    },
    {
      "cell_type": "code",
      "execution_count": 20,
      "metadata": {
        "id": "uEU-GkqVUeO1",
        "colab": {
          "base_uri": "https://localhost:8080/",
          "height": 279
        },
        "outputId": "f80d1707-3c7e-4190-a92a-fde375119440"
      },
      "outputs": [
        {
          "output_type": "display_data",
          "data": {
            "text/plain": [
              "<Figure size 432x288 with 1 Axes>"
            ],
            "image/png": "[encoded data removed]"
          },
          "metadata": {
            "needs_background": "light"
          }
        }
      ],
      "source": [
        "plt.plot(rfps, rvps)\n",
        "plt.plot([0, 1], [0, 1], '--')\n",
        "plt.fill_between(rfps, rvps, 0, alpha=0.5, color = 'lightblue')\n",
        "plt.xlabel('Tasa de falsos positivos')\n",
        "plt.ylabel('Tasa de verdaderos positivos')\n",
        "plt.show()"
      ]
    },
    {
      "cell_type": "markdown",
      "source": [
        "Visualizamos el valor de los parámetros del modelo."
      ],
      "metadata": {
        "id": "izgyrZ7K5Quz"
      }
    },
    {
      "cell_type": "code",
      "execution_count": 21,
      "metadata": {
        "id": "UrZdAPrHMjLl",
        "colab": {
          "base_uri": "https://localhost:8080/",
          "height": 280
        },
        "outputId": "5780dce3-3e86-423f-f10e-38eda6df6878"
      },
      "outputs": [
        {
          "output_type": "display_data",
          "data": {
            "text/plain": [
              "<Figure size 432x288 with 1 Axes>"
            ],
            "image/png": "[encoded data removed]"
          },
          "metadata": {
            "needs_background": "light"
          }
        }
      ],
      "source": [
        "plt.bar(range(m.coef_[0].size), height=m.coef_[0])\n",
        "plt.xlabel(u'Característica')\n",
        "plt.xlabel(u'Valor del parámetro asociado')\n",
        "plt.show()"
      ]
    }
  ],
  "metadata": {
    "colab": {
      "collapsed_sections": [],
      "name": "3a_validacion_cruzada.ipynb",
      "provenance": [],
      "include_colab_link": true
    },
    "kernelspec": {
      "display_name": "Python 3",
      "name": "python3"
    }
  },
  "nbformat": 4,
  "nbformat_minor": 0
}