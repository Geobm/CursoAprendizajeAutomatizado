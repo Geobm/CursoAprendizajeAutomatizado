{
 "cells": [
  {
   "cell_type": "markdown",
   "metadata": {},
   "source": [
    "# MGP: eliminación de variables\n",
    "\n",
    "<div style=\"text-align: right\"> Bere et Richardt ML </div>\n",
    "\n",
    "---\n",
    "\n",
    "En esta libreta realizaremos consultas sencillas sobre dos modelos. Utilizaremos [pgmpy](https://github.com/pgmpy/pgmpy), una biblioteca libre python para implementar modelos gráficos probabilísticos."
   ]
  },
  {
   "cell_type": "code",
   "execution_count": 1,
   "metadata": {},
   "outputs": [],
   "source": [
    "try:\n",
    "  import google.colab\n",
    "  !pip install pgmpy\n",
    "except:\n",
    "  pass\n",
    "\n",
    "from pgmpy.models import BayesianModel\n",
    "from pgmpy.factors.discrete import TabularCPD\n",
    "from pgmpy.inference import VariableElimination"
   ]
  },
  {
   "cell_type": "markdown",
   "metadata": {},
   "source": [
    "### Ejemplo 1\n",
    "\n",
    "<img src=\"fig/ev-ej1.jpg\">"
   ]
  },
  {
   "cell_type": "code",
   "execution_count": 2,
   "metadata": {},
   "outputs": [],
   "source": [
    "# definición de modelo global\n",
    "ejemplo1_modelo = BayesianModel([('A', 'B'), \n",
    "                              ('B', 'C'),\n",
    "                              ('B', 'D')])"
   ]
  },
  {
   "cell_type": "code",
   "execution_count": 3,
   "metadata": {},
   "outputs": [],
   "source": [
    "# definición de distribuciones condicionales\n",
    "dpc_a = TabularCPD(variable='A', variable_card=2,\n",
    "                     values=[[0.8], [0.2]])\n",
    "dpc_b = TabularCPD(variable='B', variable_card=2,\n",
    "                     values=[[0.9, 0.7],\n",
    "                             [0.1, 0.3]],\n",
    "                     evidence=['A'],\n",
    "                     evidence_card=[2])\n",
    "dpc_c = TabularCPD(variable='C', variable_card=2,\n",
    "                     values=[[0.9, 0.5],\n",
    "                             [0.1, 0.5]],\n",
    "                     evidence=['B'],\n",
    "                     evidence_card=[2])\n",
    "dpc_d = TabularCPD(variable='D', variable_card=2,\n",
    "                     values=[[0.7, 0.4],\n",
    "                             [0.3, 0.6]],\n",
    "                     evidence=['B'],\n",
    "                     evidence_card=[2])"
   ]
  },
  {
   "cell_type": "code",
   "execution_count": 4,
   "metadata": {},
   "outputs": [
    {
     "data": {
      "text/plain": [
       "True"
      ]
     },
     "execution_count": 4,
     "metadata": {},
     "output_type": "execute_result"
    }
   ],
   "source": [
    "# asociación de distribuaciones a modelo\n",
    "ejemplo1_modelo.add_cpds(dpc_a, dpc_b, dpc_c, dpc_d)\n",
    "\n",
    "# verificación del modelo\n",
    "ejemplo1_modelo.check_model()"
   ]
  },
  {
   "cell_type": "code",
   "execution_count": 5,
   "metadata": {},
   "outputs": [
    {
     "name": "stderr",
     "output_type": "stream",
     "text": [
      "Finding Elimination Order: : 100%|██████████| 2/2 [00:00<00:00, 3479.31it/s]\n",
      "Eliminating: A: 100%|██████████| 2/2 [00:00<00:00, 1648.70it/s]"
     ]
    },
    {
     "name": "stdout",
     "output_type": "stream",
     "text": [
      "+------+----------+\n",
      "| B    |   phi(B) |\n",
      "+======+==========+\n",
      "| B(0) |   0.9171 |\n",
      "+------+----------+\n",
      "| B(1) |   0.0829 |\n",
      "+------+----------+\n"
     ]
    },
    {
     "name": "stderr",
     "output_type": "stream",
     "text": [
      "\n"
     ]
    }
   ],
   "source": [
    "# instanciando objecto de eliminación de variables\n",
    "ejemplo1_inf = VariableElimination(ejemplo1_modelo)\n",
    "\n",
    "# haciendo consulta\n",
    "consulta_b_c = ejemplo1_inf.query(variables=['B'], evidence={'C': 0})\n",
    "\n",
    "print(consulta_b_c)"
   ]
  },
  {
   "cell_type": "markdown",
   "metadata": {},
   "source": [
    "### Ejemplo 2\n",
    "\n",
    "<img src=\"fig/ev-ej2.jpg\">"
   ]
  },
  {
   "cell_type": "code",
   "execution_count": 6,
   "metadata": {},
   "outputs": [],
   "source": [
    "empleo_modelo = BayesianModel([('Experiencia', 'Entrevista'), \n",
    "                              ('Promedio', 'Entrevista'),\n",
    "                              ('Promedio', 'Admision'),\n",
    "                              ('Entrevista', 'Oferta')])"
   ]
  },
  {
   "cell_type": "code",
   "execution_count": 7,
   "metadata": {},
   "outputs": [],
   "source": [
    "# definición de distribuciones condicionales\n",
    "dpc_exp = TabularCPD(variable='Experiencia', variable_card=2,\n",
    "                     values=[[0.7], [0.3]])\n",
    "dpc_pro = TabularCPD(variable='Promedio', variable_card=2,\n",
    "                     values=[[0.2], [0.8]])\n",
    "dpc_ent = TabularCPD(variable='Entrevista', variable_card=2,\n",
    "                     values=[[0.9, 0.6, 0.3, 0.1],\n",
    "                             [0.1, 0.4, 0.7, 0.9]],\n",
    "                     evidence=['Experiencia', 'Promedio'],\n",
    "                     evidence_card=[2, 2])\n",
    "dpc_adm = TabularCPD(variable='Admision', variable_card=2,\n",
    "                     values=[[0.9, 0.2],\n",
    "                             [0.1, 0.8]],\n",
    "                     evidence=['Promedio'],\n",
    "                     evidence_card=[2])\n",
    "dpc_ofe = TabularCPD(variable='Oferta', variable_card=2,\n",
    "                     values=[[0.9, 0.2],\n",
    "                             [0.1, 0.8]],\n",
    "                     evidence=['Entrevista'],\n",
    "                     evidence_card=[2])"
   ]
  },
  {
   "cell_type": "code",
   "execution_count": 8,
   "metadata": {},
   "outputs": [
    {
     "data": {
      "text/plain": [
       "True"
      ]
     },
     "execution_count": 8,
     "metadata": {},
     "output_type": "execute_result"
    }
   ],
   "source": [
    "# asociación de distribuciones a modelo\n",
    "empleo_modelo.add_cpds(dpc_exp, dpc_pro, dpc_ent, dpc_adm, dpc_ofe)\n",
    "\n",
    "# verificación del modelo\n",
    "empleo_modelo.check_model()"
   ]
  },
  {
   "cell_type": "code",
   "execution_count": 9,
   "metadata": {},
   "outputs": [
    {
     "name": "stderr",
     "output_type": "stream",
     "text": [
      "Finding Elimination Order: : 100%|██████████| 3/3 [00:00<00:00, 4554.08it/s]\n",
      "Eliminating: Entrevista: 100%|██████████| 3/3 [00:00<00:00, 1163.90it/s]"
     ]
    },
    {
     "name": "stdout",
     "output_type": "stream",
     "text": [
      "+----------------+--------------------+\n",
      "| Experiencia    |   phi(Experiencia) |\n",
      "+================+====================+\n",
      "| Experiencia(0) |             0.5291 |\n",
      "+----------------+--------------------+\n",
      "| Experiencia(1) |             0.4709 |\n",
      "+----------------+--------------------+\n"
     ]
    },
    {
     "name": "stderr",
     "output_type": "stream",
     "text": [
      "\n"
     ]
    }
   ],
   "source": [
    "# instanciando objecto de eliminación de variables\n",
    "empleo_inf = VariableElimination(empleo_modelo)\n",
    "\n",
    "# haciendo consulta P(E | O = 1)\n",
    "consulta_exp_ofe = empleo_inf.query(variables=['Experiencia'], evidence={'Oferta': 1})\n",
    "print(consulta_exp_ofe)"
   ]
  }
 ],
 "metadata": {
  "kernelspec": {
   "display_name": "Python 3",
   "language": "python",
   "name": "python3"
  },
  "language_info": {
   "codemirror_mode": {
    "name": "ipython",
    "version": 3
   },
   "file_extension": ".py",
   "mimetype": "text/x-python",
   "name": "python",
   "nbconvert_exporter": "python",
   "pygments_lexer": "ipython3",
   "version": "3.6.10"
  }
 },
 "nbformat": 4,
 "nbformat_minor": 4
}
