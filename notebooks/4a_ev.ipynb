{
 "cells": [
  {
   "cell_type": "markdown",
   "metadata": {},
   "source": [
    "# MGP: eliminación de variables\n",
    "\n",
    "Curso: [Aprendizaje Automatizado](http://turing.iimas.unam.mx/~gibranfp/cursos/aprendizaje_automatizado). Profesor: [Gibran Fuentes Pineda](https://turing.iimas.unam.mx/~gibranfp/). Ayudantes: [Bere](https://turing.iimas.unam.mx/~bereml/) y [Ricardo](https://turing.iimas.unam.mx/~ricardoml/) Montalvo Lezama.\n",
    "\n",
    "---\n",
    "---\n",
    "\n",
    "En esta libreta realizaremos consultas sencillas sobre dos modelos. Utilizaremos [pgmpy](https://github.com/pgmpy/pgmpy), una biblioteca libre python para implementar modelos gráficos probabilísticos."
   ]
  },
  {
   "cell_type": "code",
   "execution_count": 1,
   "metadata": {},
   "outputs": [
    {
     "ename": "ModuleNotFoundError",
     "evalue": "No module named 'pgmpy'",
     "output_type": "error",
     "traceback": [
      "\u001b[0;31m---------------------------------------------------------------------------\u001b[0m",
      "\u001b[0;31mModuleNotFoundError\u001b[0m                       Traceback (most recent call last)",
      "\u001b[0;32m<ipython-input-1-7fd7dcf2227d>\u001b[0m in \u001b[0;36m<module>\u001b[0;34m()\u001b[0m\n\u001b[1;32m      5\u001b[0m   \u001b[0;32mpass\u001b[0m\u001b[0;34m\u001b[0m\u001b[0;34m\u001b[0m\u001b[0m\n\u001b[1;32m      6\u001b[0m \u001b[0;34m\u001b[0m\u001b[0m\n\u001b[0;32m----> 7\u001b[0;31m \u001b[0;32mfrom\u001b[0m \u001b[0mpgmpy\u001b[0m\u001b[0;34m.\u001b[0m\u001b[0mmodels\u001b[0m \u001b[0;32mimport\u001b[0m \u001b[0mBayesianModel\u001b[0m\u001b[0;34m\u001b[0m\u001b[0;34m\u001b[0m\u001b[0m\n\u001b[0m\u001b[1;32m      8\u001b[0m \u001b[0;32mfrom\u001b[0m \u001b[0mpgmpy\u001b[0m\u001b[0;34m.\u001b[0m\u001b[0mfactors\u001b[0m\u001b[0;34m.\u001b[0m\u001b[0mdiscrete\u001b[0m \u001b[0;32mimport\u001b[0m \u001b[0mTabularCPD\u001b[0m\u001b[0;34m\u001b[0m\u001b[0;34m\u001b[0m\u001b[0m\n\u001b[1;32m      9\u001b[0m \u001b[0;32mfrom\u001b[0m \u001b[0mpgmpy\u001b[0m\u001b[0;34m.\u001b[0m\u001b[0minference\u001b[0m \u001b[0;32mimport\u001b[0m \u001b[0mVariableElimination\u001b[0m\u001b[0;34m\u001b[0m\u001b[0;34m\u001b[0m\u001b[0m\n",
      "\u001b[0;31mModuleNotFoundError\u001b[0m: No module named 'pgmpy'"
     ]
    }
   ],
   "source": [
    "try:\n",
    "  import google.colab\n",
    "  !pip install pgmpy\n",
    "except:\n",
    "  pass\n",
    "\n",
    "from pgmpy.models import BayesianModel\n",
    "from pgmpy.factors.discrete import TabularCPD\n",
    "from pgmpy.inference import VariableElimination"
   ]
  },
  {
   "cell_type": "markdown",
   "metadata": {},
   "source": [
    "## Ejemplo 1\n",
    "\n",
    "<img src=\"fig/ev-ej1.jpg\">"
   ]
  },
  {
   "cell_type": "code",
   "execution_count": null,
   "metadata": {},
   "outputs": [],
   "source": [
    "# definición de modelo global\n",
    "ejemplo1_modelo = BayesianModel([('A', 'B'), \n",
    "                              ('B', 'C'),\n",
    "                              ('B', 'D')])"
   ]
  },
  {
   "cell_type": "code",
   "execution_count": null,
   "metadata": {},
   "outputs": [],
   "source": [
    "# definición de distribuciones condicionales\n",
    "dpc_a = TabularCPD(variable='A', variable_card=2,\n",
    "                     values=[[0.8], [0.2]])\n",
    "dpc_b = TabularCPD(variable='B', variable_card=2,\n",
    "                     values=[[0.9, 0.7],\n",
    "                             [0.1, 0.3]],\n",
    "                     evidence=['A'],\n",
    "                     evidence_card=[2])\n",
    "dpc_c = TabularCPD(variable='C', variable_card=2,\n",
    "                     values=[[0.9, 0.5],\n",
    "                             [0.1, 0.5]],\n",
    "                     evidence=['B'],\n",
    "                     evidence_card=[2])\n",
    "dpc_d = TabularCPD(variable='D', variable_card=2,\n",
    "                     values=[[0.7, 0.4],\n",
    "                             [0.3, 0.6]],\n",
    "                     evidence=['B'],\n",
    "                     evidence_card=[2])"
   ]
  },
  {
   "cell_type": "code",
   "execution_count": null,
   "metadata": {},
   "outputs": [],
   "source": [
    "# asociación de distribuaciones a modelo\n",
    "ejemplo1_modelo.add_cpds(dpc_a, dpc_b, dpc_c, dpc_d)\n",
    "\n",
    "# verificación del modelo\n",
    "ejemplo1_modelo.check_model()"
   ]
  },
  {
   "cell_type": "code",
   "execution_count": null,
   "metadata": {},
   "outputs": [],
   "source": [
    "# instanciando objecto de eliminación de variables\n",
    "ejemplo1_inf = VariableElimination(ejemplo1_modelo)\n",
    "\n",
    "# haciendo consulta\n",
    "consulta_b_c = ejemplo1_inf.query(variables=['B'], evidence={'C': 0})\n",
    "\n",
    "print(consulta_b_c)"
   ]
  },
  {
   "cell_type": "markdown",
   "metadata": {},
   "source": [
    "### Ejemplo 2\n",
    "\n",
    "<img src=\"fig/ev-ej2.jpg\">"
   ]
  },
  {
   "cell_type": "code",
   "execution_count": null,
   "metadata": {},
   "outputs": [],
   "source": [
    "empleo_modelo = BayesianModel([('Experiencia', 'Entrevista'), \n",
    "                              ('Promedio', 'Entrevista'),\n",
    "                              ('Promedio', 'Admision'),\n",
    "                              ('Entrevista', 'Oferta')])"
   ]
  },
  {
   "cell_type": "code",
   "execution_count": null,
   "metadata": {},
   "outputs": [],
   "source": [
    "# definición de distribuciones condicionales\n",
    "dpc_exp = TabularCPD(variable='Experiencia', variable_card=2,\n",
    "                     values=[[0.7], [0.3]])\n",
    "dpc_pro = TabularCPD(variable='Promedio', variable_card=2,\n",
    "                     values=[[0.2], [0.8]])\n",
    "dpc_ent = TabularCPD(variable='Entrevista', variable_card=2,\n",
    "                     values=[[0.9, 0.6, 0.3, 0.1],\n",
    "                             [0.1, 0.4, 0.7, 0.9]],\n",
    "                     evidence=['Experiencia', 'Promedio'],\n",
    "                     evidence_card=[2, 2])\n",
    "dpc_adm = TabularCPD(variable='Admision', variable_card=2,\n",
    "                     values=[[0.9, 0.2],\n",
    "                             [0.1, 0.8]],\n",
    "                     evidence=['Promedio'],\n",
    "                     evidence_card=[2])\n",
    "dpc_ofe = TabularCPD(variable='Oferta', variable_card=2,\n",
    "                     values=[[0.9, 0.2],\n",
    "                             [0.1, 0.8]],\n",
    "                     evidence=['Entrevista'],\n",
    "                     evidence_card=[2])"
   ]
  },
  {
   "cell_type": "code",
   "execution_count": null,
   "metadata": {},
   "outputs": [],
   "source": [
    "# asociación de distribuciones a modelo\n",
    "empleo_modelo.add_cpds(dpc_exp, dpc_pro, dpc_ent, dpc_adm, dpc_ofe)\n",
    "\n",
    "# verificación del modelo\n",
    "empleo_modelo.check_model()"
   ]
  },
  {
   "cell_type": "code",
   "execution_count": 2,
   "metadata": {},
   "outputs": [
    {
     "ename": "NameError",
     "evalue": "name 'VariableElimination' is not defined",
     "output_type": "error",
     "traceback": [
      "\u001b[0;31m---------------------------------------------------------------------------\u001b[0m",
      "\u001b[0;31mNameError\u001b[0m                                 Traceback (most recent call last)",
      "\u001b[0;32m<ipython-input-2-dda48cd19310>\u001b[0m in \u001b[0;36m<module>\u001b[0;34m()\u001b[0m\n\u001b[1;32m      1\u001b[0m \u001b[0;31m# instanciando objecto de eliminación de variables\u001b[0m\u001b[0;34m\u001b[0m\u001b[0;34m\u001b[0m\u001b[0;34m\u001b[0m\u001b[0m\n\u001b[0;32m----> 2\u001b[0;31m \u001b[0mempleo_inf\u001b[0m \u001b[0;34m=\u001b[0m \u001b[0mVariableElimination\u001b[0m\u001b[0;34m(\u001b[0m\u001b[0mempleo_modelo\u001b[0m\u001b[0;34m)\u001b[0m\u001b[0;34m\u001b[0m\u001b[0;34m\u001b[0m\u001b[0m\n\u001b[0m\u001b[1;32m      3\u001b[0m \u001b[0;34m\u001b[0m\u001b[0m\n\u001b[1;32m      4\u001b[0m \u001b[0;31m# haciendo consulta P(E | O = 1)\u001b[0m\u001b[0;34m\u001b[0m\u001b[0;34m\u001b[0m\u001b[0;34m\u001b[0m\u001b[0m\n\u001b[1;32m      5\u001b[0m \u001b[0mconsulta_exp_ofe\u001b[0m \u001b[0;34m=\u001b[0m \u001b[0mempleo_inf\u001b[0m\u001b[0;34m.\u001b[0m\u001b[0mquery\u001b[0m\u001b[0;34m(\u001b[0m\u001b[0mvariables\u001b[0m\u001b[0;34m=\u001b[0m\u001b[0;34m[\u001b[0m\u001b[0;34m'Experiencia'\u001b[0m\u001b[0;34m]\u001b[0m\u001b[0;34m,\u001b[0m \u001b[0mevidence\u001b[0m\u001b[0;34m=\u001b[0m\u001b[0;34m{\u001b[0m\u001b[0;34m'Oferta'\u001b[0m\u001b[0;34m:\u001b[0m \u001b[0;36m1\u001b[0m\u001b[0;34m}\u001b[0m\u001b[0;34m)\u001b[0m\u001b[0;34m\u001b[0m\u001b[0;34m\u001b[0m\u001b[0m\n",
      "\u001b[0;31mNameError\u001b[0m: name 'VariableElimination' is not defined"
     ]
    }
   ],
   "source": [
    "# instanciando objecto de eliminación de variables\n",
    "empleo_inf = VariableElimination(empleo_modelo)\n",
    "\n",
    "# haciendo consulta P(E | O = 1)\n",
    "consulta_exp_ofe = empleo_inf.query(variables=['Experiencia'], evidence={'Oferta': 1})\n",
    "print(consulta_exp_ofe)"
   ]
  },
  {
   "cell_type": "code",
   "execution_count": null,
   "metadata": {},
   "outputs": [],
   "source": []
  }
 ],
 "metadata": {
  "kernelspec": {
   "display_name": "Python 3",
   "language": "python",
   "name": "python3"
  },
  "language_info": {
   "codemirror_mode": {
    "name": "ipython",
    "version": 3
   },
   "file_extension": ".py",
   "mimetype": "text/x-python",
   "name": "python",
   "nbconvert_exporter": "python",
   "pygments_lexer": "ipython3",
   "version": "3.6.12"
  }
 },
 "nbformat": 4,
 "nbformat_minor": 4
}
