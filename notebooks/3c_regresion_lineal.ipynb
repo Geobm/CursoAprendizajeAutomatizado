{
 "cells": [
  {
   "cell_type": "markdown",
   "metadata": {
    "colab_type": "text",
    "id": "view-in-github"
   },
   "source": [
    "<a href=\"https://colab.research.google.com/github/gibranfp/CursoAprendizajeAutomatizado/blob/master/notebooks/3c_regresion_lineal.ipynb\" target=\"_parent\"><img src=\"https://colab.research.google.com/assets/colab-badge.svg\" alt=\"Open In Colab\"/></a>"
   ]
  },
  {
   "cell_type": "markdown",
   "metadata": {},
   "source": [
    "# Regresión lineal\n",
    "\n",
    "Curso: [Aprendizaje Automatizado](http://turing.iimas.unam.mx/~gibranfp/cursos/aprendizaje_automatizado). Profesor: [Gibran Fuentes Pineda](https://turing.iimas.unam.mx/~gibranfp/). Ayudantes: [Bere](https://turing.iimas.unam.mx/~bereml/) y [Ricardo](https://turing.iimas.unam.mx/~ricardoml/) Montalvo Lezama.\n",
    "\n",
    "---\n",
    "---\n",
    "\n",
    "![xkcd-linreg](https://imgs.xkcd.com/comics/linear_regression.png)\n",
    "\n",
    "https://xkcd.com/1725/"
   ]
  },
  {
   "cell_type": "markdown",
   "metadata": {},
   "source": [
    "En esta libreta veremos un ejemplo paso a paso del modelo de regresión lineal con dos atributos de entrada y una salida. Emplearemos un conjunto de calificaciones de alumnos posgrado que tomaron primero el curso de Aprendizaje de Automatizado y después el curso de Aprendizaje Profundo. El conjunto tiene dos atributos: la calificación obtenida en el curso de Aprendizaje de Automatizado y el número de horas de estudio para el examen del curso de Aprendizaje Profundo. Como salida se tiene la calificación obtenida en examen de Aprendizaje Profundo."
   ]
  },
  {
   "cell_type": "markdown",
   "metadata": {},
   "source": [
    "## 1. Preparación"
   ]
  },
  {
   "cell_type": "code",
   "execution_count": 1,
   "metadata": {},
   "outputs": [],
   "source": [
    "# para correr con widgets en local instalar jupyter-matplotlib\n",
    "# https://github.com/matplotlib/jupyter-matplotlib\n",
    "# descomentar la siguiente linea y correr de nuevo toda la libreta\n",
    "#%matplotlib widget\n",
    "\n",
    "import matplotlib.pyplot as plt\n",
    "import numpy as np\n",
    "import pandas as pd\n",
    "from mpl_toolkits.mplot3d import Axes3D"
   ]
  },
  {
   "cell_type": "markdown",
   "metadata": {},
   "source": [
    "## 2. Carga de datos"
   ]
  },
  {
   "cell_type": "markdown",
   "metadata": {},
   "source": [
    "Leamos con Pandas:"
   ]
  },
  {
   "cell_type": "code",
   "execution_count": 2,
   "metadata": {},
   "outputs": [
    {
     "data": {
      "text/html": [
       "<div>\n",
       "<style scoped>\n",
       "    .dataframe tbody tr th:only-of-type {\n",
       "        vertical-align: middle;\n",
       "    }\n",
       "\n",
       "    .dataframe tbody tr th {\n",
       "        vertical-align: top;\n",
       "    }\n",
       "\n",
       "    .dataframe thead th {\n",
       "        text-align: right;\n",
       "    }\n",
       "</style>\n",
       "<table border=\"1\" class=\"dataframe\">\n",
       "  <thead>\n",
       "    <tr style=\"text-align: right;\">\n",
       "      <th></th>\n",
       "      <th>prev</th>\n",
       "      <th>horas</th>\n",
       "      <th>calif</th>\n",
       "    </tr>\n",
       "  </thead>\n",
       "  <tbody>\n",
       "    <tr>\n",
       "      <th>0</th>\n",
       "      <td>5.6</td>\n",
       "      <td>8.2</td>\n",
       "      <td>5.1</td>\n",
       "    </tr>\n",
       "    <tr>\n",
       "      <th>1</th>\n",
       "      <td>6.7</td>\n",
       "      <td>9.3</td>\n",
       "      <td>5.9</td>\n",
       "    </tr>\n",
       "    <tr>\n",
       "      <th>2</th>\n",
       "      <td>5.1</td>\n",
       "      <td>10.0</td>\n",
       "      <td>5.4</td>\n",
       "    </tr>\n",
       "    <tr>\n",
       "      <th>3</th>\n",
       "      <td>5.7</td>\n",
       "      <td>10.4</td>\n",
       "      <td>6.5</td>\n",
       "    </tr>\n",
       "    <tr>\n",
       "      <th>4</th>\n",
       "      <td>7.1</td>\n",
       "      <td>10.4</td>\n",
       "      <td>6.7</td>\n",
       "    </tr>\n",
       "  </tbody>\n",
       "</table>\n",
       "</div>"
      ],
      "text/plain": [
       "   prev  horas  calif\n",
       "0   5.6    8.2    5.1\n",
       "1   6.7    9.3    5.9\n",
       "2   5.1   10.0    5.4\n",
       "3   5.7   10.4    6.5\n",
       "4   7.1   10.4    6.7"
      ]
     },
     "execution_count": 2,
     "metadata": {},
     "output_type": "execute_result"
    }
   ],
   "source": [
    "URL = 'https://raw.githubusercontent.com/gibranfp/CursoAprendizajeAutomatizado/master/data/califs.csv'\n",
    "df = pd.read_csv(URL)\n",
    "df.head(5)"
   ]
  },
  {
   "cell_type": "markdown",
   "metadata": {},
   "source": [
    "Conversión de numpy:"
   ]
  },
  {
   "cell_type": "code",
   "execution_count": 3,
   "metadata": {},
   "outputs": [
    {
     "name": "stdout",
     "output_type": "stream",
     "text": [
      "(50, 2)\n"
     ]
    },
    {
     "data": {
      "text/plain": [
       "array([[ 5.6,  8.2],\n",
       "       [ 6.7,  9.3],\n",
       "       [ 5.1, 10. ],\n",
       "       [ 5.7, 10.4],\n",
       "       [ 7.1, 10.4]])"
      ]
     },
     "execution_count": 3,
     "metadata": {},
     "output_type": "execute_result"
    }
   ],
   "source": [
    "x = df.iloc[:,:2].values\n",
    "print(x.shape)\n",
    "x[:5]"
   ]
  },
  {
   "cell_type": "code",
   "execution_count": 4,
   "metadata": {},
   "outputs": [
    {
     "name": "stdout",
     "output_type": "stream",
     "text": [
      "(50,)\n"
     ]
    },
    {
     "data": {
      "text/plain": [
       "array([5.1, 5.9, 5.4, 6.5, 6.7])"
      ]
     },
     "execution_count": 4,
     "metadata": {},
     "output_type": "execute_result"
    }
   ],
   "source": [
    "y_true = df.iloc[:,2].values\n",
    "print(y_true.shape)\n",
    "y_true[:5]"
   ]
  },
  {
   "cell_type": "markdown",
   "metadata": {},
   "source": [
    "Construcción de la matriz de diseño:"
   ]
  },
  {
   "cell_type": "code",
   "execution_count": 5,
   "metadata": {},
   "outputs": [
    {
     "name": "stdout",
     "output_type": "stream",
     "text": [
      "(50, 3)\n"
     ]
    },
    {
     "data": {
      "text/plain": [
       "array([[ 1. ,  5.6,  8.2],\n",
       "       [ 1. ,  6.7,  9.3],\n",
       "       [ 1. ,  5.1, 10. ],\n",
       "       [ 1. ,  5.7, 10.4],\n",
       "       [ 1. ,  7.1, 10.4]])"
      ]
     },
     "execution_count": 5,
     "metadata": {},
     "output_type": "execute_result"
    }
   ],
   "source": [
    "ones = np.ones([x.shape[0], 1])\n",
    "x = np.hstack([ones, x])\n",
    "print(x.shape)\n",
    "x[:5]"
   ]
  },
  {
   "cell_type": "markdown",
   "metadata": {},
   "source": [
    "Guardamos número de atributos y ejemplos:"
   ]
  },
  {
   "cell_type": "code",
   "execution_count": 6,
   "metadata": {},
   "outputs": [
    {
     "data": {
      "text/plain": [
       "(50, 3)"
      ]
     },
     "execution_count": 6,
     "metadata": {},
     "output_type": "execute_result"
    }
   ],
   "source": [
    "m, n = x.shape\n",
    "m, n"
   ]
  },
  {
   "cell_type": "markdown",
   "metadata": {},
   "source": [
    "## 3. Exploración\n",
    "\n",
    "Grafiquemos para tener una idea de la distribución de los datos:"
   ]
  },
  {
   "cell_type": "code",
   "execution_count": 7,
   "metadata": {},
   "outputs": [
    {
     "data": {
      "image/png": "[encoded data removed]",
      "text/plain": [
       "<Figure size 720x720 with 1 Axes>"
      ]
     },
     "metadata": {
      "needs_background": "light"
     },
     "output_type": "display_data"
    }
   ],
   "source": [
    "fig = plt.figure(figsize=(10, 10))\n",
    "ax = fig.add_subplot(111, projection='3d')\n",
    "ax.scatter(x[:, 1], x[:, 2], y_true,\n",
    "           color='tab:blue')\n",
    "ax.set_xlabel('x1')\n",
    "ax.set_ylabel('x2')\n",
    "ax.set_zlabel('y')\n",
    "plt.show()"
   ]
  },
  {
   "cell_type": "markdown",
   "metadata": {},
   "source": [
    "## 4. Hipótesis\n",
    "\n",
    "Recordemos que dado un conjunto de ejemplos con atributos $x_1, x_2$ y salida $y$, la hipótesis de regresión lineal considerando un plano está dada por:\n",
    "\n",
    "$$\\hat{y} = \\theta_0 + x_1 \\theta_1 + x_2 \\theta_2$$\n",
    "\n",
    "donde $\\theta_0, \\theta_1, \\theta_2$ son parámetros del modelo y $\\hat{y}$ la salida predicha. Empleando la matriz de diseño, podemos expresar la hipótesis en su forma vectorial:\n",
    "\n",
    "$$\\hat{y} = x \\theta$$\n",
    "\n",
    "Nuestro trabajo consiste en estimar (aprender) los parámetros $\\theta_0, \\theta_1, \\theta_2$. Por el momento supongamos que un oráculo nos regalo los siguientes valores para los parámetros y hagamos inferencia:"
   ]
  },
  {
   "cell_type": "code",
   "execution_count": 8,
   "metadata": {},
   "outputs": [
    {
     "data": {
      "text/plain": [
       "array([5.82600024, 6.4250385 , 6.49953558, 6.74403803, 6.93073052])"
      ]
     },
     "execution_count": 8,
     "metadata": {},
     "output_type": "execute_result"
    }
   ],
   "source": [
    "t = np.array([1.7071569, 0.13335178, 0.41122846])\n",
    "\n",
    "y_pred = []\n",
    "for i in range(m):\n",
    "    y_p = t[0] + x[i, 1] * t[1] + x[i, 2] * t[2]\n",
    "    y_pred.append(y_p)\n",
    "y_pred = np.array(y_pred)\n",
    "y_pred[:5]"
   ]
  },
  {
   "cell_type": "markdown",
   "metadata": {},
   "source": [
    "Implementando la forma vectorial:"
   ]
  },
  {
   "cell_type": "code",
   "execution_count": 9,
   "metadata": {},
   "outputs": [
    {
     "data": {
      "text/plain": [
       "array([5.82600024, 6.4250385 , 6.49953558, 6.74403803, 6.93073052])"
      ]
     },
     "execution_count": 9,
     "metadata": {},
     "output_type": "execute_result"
    }
   ],
   "source": [
    "y_pred = x @ t\n",
    "y_pred[:5]"
   ]
  },
  {
   "cell_type": "markdown",
   "metadata": {},
   "source": [
    "Grafiquemos el plano correspondiente a los parámetros propuestos:"
   ]
  },
  {
   "cell_type": "code",
   "execution_count": 10,
   "metadata": {},
   "outputs": [
    {
     "data": {
      "image/png": "[encoded data removed]",
      "text/plain": [
       "<Figure size 720x720 with 1 Axes>"
      ]
     },
     "metadata": {
      "needs_background": "light"
     },
     "output_type": "display_data"
    }
   ],
   "source": [
    "x1 = np.linspace(x[:,1].min(), x[:,1].max(), 2)\n",
    "x2 = np.linspace(x[:,2].min(), x[:,2].max(), 2)\n",
    "x1, x2 = np.meshgrid(x1, x2)\n",
    "y_pred = t[0] + t[1] * x1 + t[2] * x2\n",
    "\n",
    "fig = plt.figure(figsize=(10, 10))\n",
    "ax = fig.add_subplot(111, projection='3d')\n",
    "ax.plot_surface(x1, x2, y_pred, rstride=1, cstride=1, alpha=0.5)\n",
    "ax.plot(x[:, 1], x[:, 2], y_true, 'b.')\n",
    "ax.set_xlabel('x1')\n",
    "ax.set_ylabel('x2')\n",
    "ax.set_zlabel('y')\n",
    "plt.show()"
   ]
  },
  {
   "cell_type": "markdown",
   "metadata": {},
   "source": [
    "## 5. Función de pérdida\n",
    "\n",
    "La pérdida para este modelo es el error cuadrático medio y queda expresado de la siguiente manera:\n",
    "\n",
    "$$ J(\\mathbf{\\theta}) = \\frac{1}{2m}  \\sum_{i=1}^{m}{(\\hat{y}^{(i)} - y^{(i)})^2} $$\n",
    "\n",
    "en su forma vectorial:\n",
    "\n",
    "$$ J(\\mathbf{\\theta}) = \\frac{1}{2m} (\\hat{y} - y)^T (\\hat{y} - y) $$\n",
    "\n",
    "Para los parámetros propuestos, la pérdida se puede implementar como:"
   ]
  },
  {
   "cell_type": "code",
   "execution_count": 11,
   "metadata": {},
   "outputs": [
    {
     "data": {
      "text/plain": [
       "0.1416369054735457"
      ]
     },
     "execution_count": 11,
     "metadata": {},
     "output_type": "execute_result"
    }
   ],
   "source": [
    "# recomputamos las predicciones de los datos\n",
    "y_pred = x @ t\n",
    "\n",
    "loss = 0\n",
    "for i in range(m):\n",
    "    loss += (y_pred[i] - y_true[i])**2\n",
    "loss /= 2 * m\n",
    "loss"
   ]
  },
  {
   "cell_type": "markdown",
   "metadata": {},
   "source": [
    "y en su forma vectorial:"
   ]
  },
  {
   "cell_type": "code",
   "execution_count": 12,
   "metadata": {},
   "outputs": [
    {
     "data": {
      "text/plain": [
       "0.14163690547354574"
      ]
     },
     "execution_count": 12,
     "metadata": {},
     "output_type": "execute_result"
    }
   ],
   "source": [
    "loss = (y_pred - y_true).T @ (y_pred - y_true) / (2 * m)\n",
    "loss"
   ]
  },
  {
   "cell_type": "markdown",
   "metadata": {},
   "source": [
    "## 6. Descenso por gradiente\n",
    "\n",
    "![graddes](https://ml-cheatsheet.readthedocs.io/en/latest/_images/gradient_descent_demystified.png)\n",
    "\n",
    "Imagen tomada de https://ml-cheatsheet.readthedocs.io/en/latest/gradient_descent.html"
   ]
  },
  {
   "cell_type": "markdown",
   "metadata": {},
   "source": [
    "El algoritmo del descenso por gradiente se basa en el gradiente de la pérdida respecto de los parámetros:\n",
    "\n",
    "$$\\frac{\\partial J(\\theta)}{\\partial \\theta_j} = \\frac{1}{m} \\sum_{i=1}^{m}{(\\hat{y}^{(i)} - y^{(i)})x^{(i)}_j}$$\n",
    "\n",
    "en su forma vectorial:\n",
    "\n",
    "$$\\Delta J(\\theta) = \\frac{1}{m} x^T (\\hat{y} - y)$$\n",
    "\n",
    "Para los parámetros propuestos, el cómputo gradiente se puede implementar como:"
   ]
  },
  {
   "cell_type": "code",
   "execution_count": 13,
   "metadata": {},
   "outputs": [
    {
     "data": {
      "text/plain": [
       "array([0.25249031, 1.50161512, 2.81670065])"
      ]
     },
     "execution_count": 13,
     "metadata": {},
     "output_type": "execute_result"
    }
   ],
   "source": [
    "grad = [0, 0, 0]\n",
    "for j in range(len(grad)):\n",
    "    for i in range(m):\n",
    "        grad[j] += (y_pred[i] - y_true[i]) * x[i, j]\n",
    "    grad[j] /= m\n",
    "np.array(grad)"
   ]
  },
  {
   "cell_type": "markdown",
   "metadata": {},
   "source": [
    "y en su forma vectorial:"
   ]
  },
  {
   "cell_type": "code",
   "execution_count": 14,
   "metadata": {},
   "outputs": [
    {
     "data": {
      "text/plain": [
       "array([0.25249031, 1.50161512, 2.81670065])"
      ]
     },
     "execution_count": 14,
     "metadata": {},
     "output_type": "execute_result"
    }
   ],
   "source": [
    "grad = (x.T @ (y_pred - y_true)) / m\n",
    "grad"
   ]
  },
  {
   "cell_type": "markdown",
   "metadata": {},
   "source": [
    "Con base en el gradiente, la regla de actualización del descenso por gradiente queda expresada como:\n",
    "\n",
    "$$\\theta_j^{(t+1)} \\leftarrow \\theta_j^{(t)}  - \\alpha \\frac{\\partial J(\\theta^{(t)})}{\\partial \\theta_j^{(t)}}$$\n",
    "\n",
    "mientras que su forma vectorial:\n",
    "\n",
    "$$\\theta^{(t+1)} \\leftarrow \\theta^{(t)}  - \\alpha \\Delta J(\\theta^{(t)})$$\n",
    "\n",
    "Para los parámetros propuestos y datos, el gradiente se puede implementar como:"
   ]
  },
  {
   "cell_type": "code",
   "execution_count": 15,
   "metadata": {},
   "outputs": [
    {
     "data": {
      "text/plain": [
       "array([1.70690441, 0.13185016, 0.40841176])"
      ]
     },
     "execution_count": 15,
     "metadata": {},
     "output_type": "execute_result"
    }
   ],
   "source": [
    "alpha = 0.001\n",
    "\n",
    "t_next = []\n",
    "for t_j, g_j in zip(t, grad):\n",
    "    t_j_next = t_j - alpha * g_j\n",
    "    t_next.append(t_j_next)\n",
    "t = np.array(t_next)\n",
    "t"
   ]
  },
  {
   "cell_type": "markdown",
   "metadata": {},
   "source": [
    "y su forma vectorial:"
   ]
  },
  {
   "cell_type": "code",
   "execution_count": 16,
   "metadata": {},
   "outputs": [
    {
     "data": {
      "text/plain": [
       "array([1.70690441, 0.13185016, 0.40841176])"
      ]
     },
     "execution_count": 16,
     "metadata": {},
     "output_type": "execute_result"
    }
   ],
   "source": [
    "# reniniciamos los parámetros\n",
    "t = np.array([1.7071569, 0.13335178, 0.41122846])\n",
    "\n",
    "t = t - alpha * grad\n",
    "t"
   ]
  },
  {
   "cell_type": "markdown",
   "metadata": {},
   "source": [
    "## 7. Entrenamiento\n",
    "\n",
    "Realicemos 3 pasos del descenso por gradiente estocástico con lotes de 2 de forma manual. Primero inicialicemos de nuevo nuestros parámetros y tasa de aprendizaje: "
   ]
  },
  {
   "cell_type": "code",
   "execution_count": 17,
   "metadata": {},
   "outputs": [
    {
     "data": {
      "text/plain": [
       "array([1.76405235, 0.40015721, 0.97873798])"
      ]
     },
     "execution_count": 17,
     "metadata": {},
     "output_type": "execute_result"
    }
   ],
   "source": [
    "alpha = 0.001\n",
    "np.random.seed(0)\n",
    "t = np.random.normal(0, 1, n)\n",
    "t"
   ]
  },
  {
   "cell_type": "markdown",
   "metadata": {},
   "source": [
    "Computemos la pérdida total de los datos y mantengamos un historial:"
   ]
  },
  {
   "cell_type": "code",
   "execution_count": 18,
   "metadata": {},
   "outputs": [
    {
     "data": {
      "text/plain": [
       "[40.18335645409401]"
      ]
     },
     "execution_count": 18,
     "metadata": {},
     "output_type": "execute_result"
    }
   ],
   "source": [
    "y_pred = x @ t\n",
    "loss = (y_pred - y_true).T @ (y_pred - y_true) / (2 * m)\n",
    "loss_hist = [loss]\n",
    "loss_hist"
   ]
  },
  {
   "cell_type": "markdown",
   "metadata": {},
   "source": [
    "### 7.1. Paso 1"
   ]
  },
  {
   "cell_type": "markdown",
   "metadata": {},
   "source": [
    "A) Selección del lote:"
   ]
  },
  {
   "cell_type": "code",
   "execution_count": 19,
   "metadata": {},
   "outputs": [
    {
     "data": {
      "text/plain": [
       "array([[ 1. ,  5.6,  8.2],\n",
       "       [ 1. ,  5.7, 11.9]])"
      ]
     },
     "execution_count": 19,
     "metadata": {},
     "output_type": "execute_result"
    }
   ],
   "source": [
    "examples = [0, 24]\n",
    "m_batch = len(examples)\n",
    "x_batch = x[examples]\n",
    "x_batch"
   ]
  },
  {
   "cell_type": "code",
   "execution_count": null,
   "metadata": {},
   "outputs": [
    {
     "data": {
      "text/plain": [
       "array([5.1, 7.4])"
      ]
     },
     "execution_count": 20,
     "metadata": {},
     "output_type": "execute_result"
    }
   ],
   "source": [
    "y_true_batch = y_true[examples]\n",
    "y_true_batch"
   ]
  },
  {
   "cell_type": "markdown",
   "metadata": {},
   "source": [
    "B) Predicciones:\n",
    "\n",
    "$$\\hat{y} = x \\theta$$"
   ]
  },
  {
   "cell_type": "code",
   "execution_count": null,
   "metadata": {},
   "outputs": [],
   "source": [
    "y_pred_batch = x_batch @ t\n",
    "y_pred_batch"
   ]
  },
  {
   "cell_type": "markdown",
   "metadata": {},
   "source": [
    "C) Pérdida:\n",
    "\n",
    "$$ J(\\mathbf{\\theta}) = \\frac{1}{2m} (\\hat{y} - y)^T (\\hat{y} - y) $$"
   ]
  },
  {
   "cell_type": "code",
   "execution_count": null,
   "metadata": {},
   "outputs": [],
   "source": [
    "loss_batch = (y_pred_batch - y_true_batch).T @ (y_pred_batch - y_true_batch) / (2 * m_batch)\n",
    "loss_batch"
   ]
  },
  {
   "cell_type": "markdown",
   "metadata": {},
   "source": [
    "D) Gradiente:\n",
    "\n",
    "$$\\Delta J(\\theta) = \\frac{1}{m} x^T (\\hat{y} - y)$$"
   ]
  },
  {
   "cell_type": "code",
   "execution_count": null,
   "metadata": {},
   "outputs": [],
   "source": [
    "grad_batch = (x_batch.T @ (y_pred_batch - y_true_batch)) / m_batch\n",
    "grad_batch"
   ]
  },
  {
   "cell_type": "markdown",
   "metadata": {},
   "source": [
    "E) Parámetros actualizados:\n",
    "\n",
    "$$\\theta^{(t+1)} \\leftarrow \\theta^{(t)}  - \\alpha \\Delta J(\\theta^{(t)})$$"
   ]
  },
  {
   "cell_type": "code",
   "execution_count": null,
   "metadata": {},
   "outputs": [],
   "source": [
    "t = t - alpha * grad_batch\n",
    "t"
   ]
  },
  {
   "cell_type": "markdown",
   "metadata": {},
   "source": [
    "F) Actualicemos el historial de pérdidas:"
   ]
  },
  {
   "cell_type": "code",
   "execution_count": null,
   "metadata": {},
   "outputs": [],
   "source": [
    "y_pred = x @ t\n",
    "loss = (y_pred - y_true).T @ (y_pred - y_true) / (2 * m)\n",
    "loss_hist.append(loss)\n",
    "loss_hist"
   ]
  },
  {
   "cell_type": "markdown",
   "metadata": {},
   "source": [
    "### 7.2 Paso 2\n",
    "\n",
    "A) Selección del lote:"
   ]
  },
  {
   "cell_type": "code",
   "execution_count": null,
   "metadata": {},
   "outputs": [],
   "source": [
    "examples = [8, 32]\n",
    "m_batch = len(examples)\n",
    "x_batch = x[examples]\n",
    "x_batch"
   ]
  },
  {
   "cell_type": "code",
   "execution_count": null,
   "metadata": {},
   "outputs": [],
   "source": [
    "y_true_batch = y_true[examples]\n",
    "y_true_batch"
   ]
  },
  {
   "cell_type": "markdown",
   "metadata": {},
   "source": [
    "B) Predicciones:\n",
    "\n",
    "$$\\hat{y} = x \\theta$$"
   ]
  },
  {
   "cell_type": "code",
   "execution_count": null,
   "metadata": {},
   "outputs": [],
   "source": [
    "y_pred_batch = x_batch @ t\n",
    "y_pred_batch"
   ]
  },
  {
   "cell_type": "markdown",
   "metadata": {},
   "source": [
    "C) Pérdida:\n",
    "\n",
    "$$ J(\\mathbf{\\theta}) = \\frac{1}{2m} (\\hat{y} - y)^T (\\hat{y} - y) $$"
   ]
  },
  {
   "cell_type": "code",
   "execution_count": null,
   "metadata": {},
   "outputs": [],
   "source": [
    "loss_batch = (y_pred_batch - y_true_batch).T @ (y_pred_batch - y_true_batch) / (2 * m_batch)\n",
    "loss_batch"
   ]
  },
  {
   "cell_type": "markdown",
   "metadata": {},
   "source": [
    "D) Gradiente:\n",
    "\n",
    "$$\\Delta J(\\theta) = \\frac{1}{m} x^T (\\hat{y} - y)$$"
   ]
  },
  {
   "cell_type": "code",
   "execution_count": null,
   "metadata": {},
   "outputs": [],
   "source": [
    "grad_batch = (x_batch.T @ (y_pred_batch - y_true_batch)) / m_batch\n",
    "grad_batch"
   ]
  },
  {
   "cell_type": "markdown",
   "metadata": {},
   "source": [
    "E) Parámetros actualizados:\n",
    "\n",
    "$$\\theta^{(t+1)} \\leftarrow \\theta^{(t)}  - \\alpha \\Delta J(\\theta^{(t)})$$"
   ]
  },
  {
   "cell_type": "code",
   "execution_count": null,
   "metadata": {},
   "outputs": [],
   "source": [
    "t = t - alpha * grad_batch\n",
    "t"
   ]
  },
  {
   "cell_type": "markdown",
   "metadata": {},
   "source": [
    "F) Actualicemos el historial de pérdidas:"
   ]
  },
  {
   "cell_type": "code",
   "execution_count": null,
   "metadata": {},
   "outputs": [],
   "source": [
    "y_pred = x @ t\n",
    "loss = (y_pred - y_true).T @ (y_pred - y_true) / (2 * m)\n",
    "loss_hist.append(loss)\n",
    "loss_hist"
   ]
  },
  {
   "cell_type": "markdown",
   "metadata": {},
   "source": [
    "### 7.3. Paso 3\n",
    "\n",
    "A) Selección del lote:"
   ]
  },
  {
   "cell_type": "code",
   "execution_count": null,
   "metadata": {},
   "outputs": [],
   "source": [
    "examples = [16, 40]\n",
    "m_batch = len(examples)\n",
    "x_batch = x[examples]\n",
    "x_batch"
   ]
  },
  {
   "cell_type": "code",
   "execution_count": null,
   "metadata": {},
   "outputs": [],
   "source": [
    "y_true_batch = y_true[examples]\n",
    "y_true_batch"
   ]
  },
  {
   "cell_type": "markdown",
   "metadata": {},
   "source": [
    "B) Predicciones:\n",
    "\n",
    "$$\\hat{y} = x \\theta$$"
   ]
  },
  {
   "cell_type": "code",
   "execution_count": null,
   "metadata": {},
   "outputs": [],
   "source": [
    "y_pred_batch = x_batch @ t\n",
    "y_pred_batch"
   ]
  },
  {
   "cell_type": "markdown",
   "metadata": {},
   "source": [
    "C) Pérdida:\n",
    "\n",
    "$$ J(\\mathbf{\\theta}) = \\frac{1}{2m} (\\hat{y} - y)^T (\\hat{y} - y) $$"
   ]
  },
  {
   "cell_type": "code",
   "execution_count": null,
   "metadata": {},
   "outputs": [],
   "source": [
    "loss_batch = (y_pred_batch - y_true_batch).T @ (y_pred_batch - y_true_batch) / (2 * m_batch)\n",
    "loss_batch"
   ]
  },
  {
   "cell_type": "markdown",
   "metadata": {},
   "source": [
    "D) Gradiente:\n",
    "\n",
    "$$\\Delta J(\\theta) = \\frac{1}{m} x^T (\\hat{y} - y)$$"
   ]
  },
  {
   "cell_type": "code",
   "execution_count": null,
   "metadata": {},
   "outputs": [],
   "source": [
    "grad_batch = (x_batch.T @ (y_pred_batch - y_true_batch)) / m_batch\n",
    "grad_batch"
   ]
  },
  {
   "cell_type": "markdown",
   "metadata": {},
   "source": [
    "E) Parámetros actualizados:\n",
    "\n",
    "$$\\theta^{(t+1)} \\leftarrow \\theta^{(t)}  - \\alpha \\Delta J(\\theta^{(t)})$$"
   ]
  },
  {
   "cell_type": "code",
   "execution_count": null,
   "metadata": {},
   "outputs": [],
   "source": [
    "t = t - alpha * grad_batch\n",
    "t"
   ]
  },
  {
   "cell_type": "markdown",
   "metadata": {},
   "source": [
    "F) Actualicemos el historial de pérdidas:"
   ]
  },
  {
   "cell_type": "code",
   "execution_count": null,
   "metadata": {},
   "outputs": [],
   "source": [
    "y_pred = x @ t\n",
    "loss = (y_pred - y_true).T @ (y_pred - y_true) / (2 * m)\n",
    "loss_hist.append(loss)\n",
    "loss_hist"
   ]
  },
  {
   "cell_type": "markdown",
   "metadata": {},
   "source": [
    "## 8. Implementación"
   ]
  },
  {
   "cell_type": "markdown",
   "metadata": {},
   "source": [
    "Esta es un implementación sencilla del descenso por gradiente en su forma vectorial."
   ]
  },
  {
   "cell_type": "code",
   "execution_count": null,
   "metadata": {},
   "outputs": [],
   "source": [
    "def train(x, y_true, alpha=0.01, steps=50):\n",
    "    # ejemplos, atributos\n",
    "    m, n = x.shape\n",
    "    # inicialización de parámetros\n",
    "    t = np.random.normal(0, 1, n)\n",
    "    # hostorial de pérdidas\n",
    "    loss_hist = []\n",
    "    # ciclo de entrenamiento\n",
    "    for i in range(steps):\n",
    "        # cómputo de la hipótesis\n",
    "        y_pred = x @ t\n",
    "        # cómputo de la pérdida\n",
    "        loss = (y_pred - y_true).T @ (y_pred - y_true) / (2 * m)\n",
    "        # cómputo del gradiente\n",
    "        grad = (x.T @ (y_pred - y_true)) / m\n",
    "        # actualización de parámetros\n",
    "        t = t - alpha * grad\n",
    "        # hostorial de pérdida\n",
    "        loss_hist.append(loss)\n",
    "    return t, loss_hist"
   ]
  },
  {
   "cell_type": "markdown",
   "metadata": {},
   "source": [
    "Entrenemos nuestro modelo:"
   ]
  },
  {
   "cell_type": "code",
   "execution_count": null,
   "metadata": {},
   "outputs": [],
   "source": [
    "np.random.seed(0)\n",
    "t, loss_hist = train(x, y_true)\n",
    "t"
   ]
  },
  {
   "cell_type": "markdown",
   "metadata": {},
   "source": [
    "Grafiquemos la evolución de la pérdida:"
   ]
  },
  {
   "cell_type": "code",
   "execution_count": null,
   "metadata": {},
   "outputs": [],
   "source": [
    "plt.figure()\n",
    "plt.plot(range(len(loss_hist)), loss_hist, 'r')\n",
    "plt.show()"
   ]
  },
  {
   "cell_type": "markdown",
   "metadata": {},
   "source": [
    "## 9. Tarea moral\n",
    "\n",
    "Modificar esta libreta para implementar el descenso por gradiente estocástico."
   ]
  }
 ],
 "metadata": {
  "kernelspec": {
   "display_name": "Python 3",
   "language": "python",
   "name": "python3"
  },
  "language_info": {
   "codemirror_mode": {
    "name": "ipython",
    "version": 3
   },
   "file_extension": ".py",
   "mimetype": "text/x-python",
   "name": "python",
   "nbconvert_exporter": "python",
   "pygments_lexer": "ipython3",
   "version": "3.8.5"
  }
 },
 "nbformat": 4,
 "nbformat_minor": 4
}
