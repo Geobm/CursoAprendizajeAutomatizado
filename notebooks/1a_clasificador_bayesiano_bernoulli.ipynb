{
  "nbformat": 4,
  "nbformat_minor": 0,
  "metadata": {
    "kernelspec": {
      "display_name": "Python 3",
      "language": "python",
      "name": "python3"
    },
    "language_info": {
      "codemirror_mode": {
        "name": "ipython",
        "version": 3
      },
      "file_extension": ".py",
      "mimetype": "text/x-python",
      "name": "python",
      "nbconvert_exporter": "python",
      "pygments_lexer": "ipython3",
      "version": "3.8.5"
    },
    "colab": {
      "name": "1a_clasificador_bayesiano_bernoulli.ipynb",
      "provenance": [],
      "collapsed_sections": [],
      "include_colab_link": true
    }
  },
  "cells": [
    {
      "cell_type": "markdown",
      "metadata": {
        "id": "view-in-github",
        "colab_type": "text"
      },
      "source": [
        "<a href=\"https://colab.research.google.com/github/gibranfp/CursoAprendizajeAutomatizado/blob/master/notebooks/1a_clasificador_bayesiano_bernoulli.ipynb\" target=\"_parent\"><img src=\"https://colab.research.google.com/assets/colab-badge.svg\" alt=\"Open In Colab\"/></a>"
      ]
    },
    {
      "cell_type": "markdown",
      "metadata": {
        "id": "BUT7nnAUzJzT"
      },
      "source": [
        "# Clasificador bayesiano ingenuo de Bernoulli\n",
        "En esta libreta programaremos un clasificador bayesiano ingenuo en el cual se presupone que la distribución de los atributos dada la clase es una Bernoulli y hay dos posibles clases. "
      ]
    },
    {
      "cell_type": "code",
      "metadata": {
        "id": "9WTkCgB7zJzW"
      },
      "source": [
        "import numpy as np\n",
        "import pandas as pd\n",
        "import matplotlib.pyplot as plt\n",
        "\n",
        "from sklearn.naive_bayes import BernoulliNB as SKBNB\n",
        "from sklearn.datasets import fetch_20newsgroups\n",
        "from sklearn.feature_extraction.text import CountVectorizer"
      ],
      "execution_count": 1,
      "outputs": []
    },
    {
      "cell_type": "markdown",
      "metadata": {
        "id": "f-kw792rzJzX"
      },
      "source": [
        "## Carga de datos"
      ]
    },
    {
      "cell_type": "markdown",
      "metadata": {
        "id": "GsggTrNEzJzX"
      },
      "source": [
        "El conjunto de entrenamiento consiste de 11 documentos que pertenecen a las clases de deportes (0) o informática (1). Cada documento es un vector de 8 dimensiones donde cada dimensión representa la frecuencia de las palabras en nuestro vocabulario de interés:\n",
        " \n",
        "$$V =\n",
        "      \\begin{vmatrix}\n",
        "      w_1 = gol & w_2 = computación & w_3 = transmitir & w_4= velocidad\\\\\n",
        "      w_5 = \\textit{técnica} & w_6= defensa & w_7=\\textit{desempeño} & w_8=campo \\\\\n",
        "      \\end{vmatrix}  \n",
        " $$\n",
        " \n",
        " Lectura con Pandas:"
      ]
    },
    {
      "cell_type": "code",
      "metadata": {
        "id": "yOEwTCMOzJzY",
        "colab": {
          "base_uri": "https://localhost:8080/",
          "height": 386
        },
        "outputId": "17454990-4c57-4109-b633-1f25be9f1f40"
      },
      "source": [
        "df = pd.read_csv('https://raw.githubusercontent.com/gibranfp/CursoAprendizajeAutomatizado/master/data/dep_inf.csv')\n",
        "df"
      ],
      "execution_count": 2,
      "outputs": [
        {
          "output_type": "execute_result",
          "data": {
            "text/html": [
              "<div>\n",
              "<style scoped>\n",
              "    .dataframe tbody tr th:only-of-type {\n",
              "        vertical-align: middle;\n",
              "    }\n",
              "\n",
              "    .dataframe tbody tr th {\n",
              "        vertical-align: top;\n",
              "    }\n",
              "\n",
              "    .dataframe thead th {\n",
              "        text-align: right;\n",
              "    }\n",
              "</style>\n",
              "<table border=\"1\" class=\"dataframe\">\n",
              "  <thead>\n",
              "    <tr style=\"text-align: right;\">\n",
              "      <th></th>\n",
              "      <th>w1</th>\n",
              "      <th>w2</th>\n",
              "      <th>w3</th>\n",
              "      <th>w4</th>\n",
              "      <th>w5</th>\n",
              "      <th>w6</th>\n",
              "      <th>w7</th>\n",
              "      <th>w8</th>\n",
              "      <th>c</th>\n",
              "    </tr>\n",
              "  </thead>\n",
              "  <tbody>\n",
              "    <tr>\n",
              "      <th>0</th>\n",
              "      <td>2</td>\n",
              "      <td>0</td>\n",
              "      <td>0</td>\n",
              "      <td>0</td>\n",
              "      <td>1</td>\n",
              "      <td>2</td>\n",
              "      <td>3</td>\n",
              "      <td>1</td>\n",
              "      <td>0</td>\n",
              "    </tr>\n",
              "    <tr>\n",
              "      <th>1</th>\n",
              "      <td>0</td>\n",
              "      <td>0</td>\n",
              "      <td>1</td>\n",
              "      <td>0</td>\n",
              "      <td>2</td>\n",
              "      <td>1</td>\n",
              "      <td>0</td>\n",
              "      <td>0</td>\n",
              "      <td>0</td>\n",
              "    </tr>\n",
              "    <tr>\n",
              "      <th>2</th>\n",
              "      <td>0</td>\n",
              "      <td>1</td>\n",
              "      <td>0</td>\n",
              "      <td>1</td>\n",
              "      <td>0</td>\n",
              "      <td>2</td>\n",
              "      <td>1</td>\n",
              "      <td>0</td>\n",
              "      <td>0</td>\n",
              "    </tr>\n",
              "    <tr>\n",
              "      <th>3</th>\n",
              "      <td>1</td>\n",
              "      <td>0</td>\n",
              "      <td>0</td>\n",
              "      <td>2</td>\n",
              "      <td>0</td>\n",
              "      <td>1</td>\n",
              "      <td>0</td>\n",
              "      <td>1</td>\n",
              "      <td>0</td>\n",
              "    </tr>\n",
              "    <tr>\n",
              "      <th>4</th>\n",
              "      <td>2</td>\n",
              "      <td>0</td>\n",
              "      <td>0</td>\n",
              "      <td>0</td>\n",
              "      <td>1</td>\n",
              "      <td>0</td>\n",
              "      <td>1</td>\n",
              "      <td>3</td>\n",
              "      <td>0</td>\n",
              "    </tr>\n",
              "    <tr>\n",
              "      <th>5</th>\n",
              "      <td>0</td>\n",
              "      <td>0</td>\n",
              "      <td>1</td>\n",
              "      <td>2</td>\n",
              "      <td>0</td>\n",
              "      <td>0</td>\n",
              "      <td>2</td>\n",
              "      <td>1</td>\n",
              "      <td>0</td>\n",
              "    </tr>\n",
              "    <tr>\n",
              "      <th>6</th>\n",
              "      <td>0</td>\n",
              "      <td>1</td>\n",
              "      <td>1</td>\n",
              "      <td>0</td>\n",
              "      <td>0</td>\n",
              "      <td>0</td>\n",
              "      <td>1</td>\n",
              "      <td>0</td>\n",
              "      <td>1</td>\n",
              "    </tr>\n",
              "    <tr>\n",
              "      <th>7</th>\n",
              "      <td>1</td>\n",
              "      <td>2</td>\n",
              "      <td>0</td>\n",
              "      <td>1</td>\n",
              "      <td>0</td>\n",
              "      <td>0</td>\n",
              "      <td>1</td>\n",
              "      <td>1</td>\n",
              "      <td>1</td>\n",
              "    </tr>\n",
              "    <tr>\n",
              "      <th>8</th>\n",
              "      <td>0</td>\n",
              "      <td>1</td>\n",
              "      <td>1</td>\n",
              "      <td>0</td>\n",
              "      <td>0</td>\n",
              "      <td>2</td>\n",
              "      <td>0</td>\n",
              "      <td>0</td>\n",
              "      <td>1</td>\n",
              "    </tr>\n",
              "    <tr>\n",
              "      <th>9</th>\n",
              "      <td>0</td>\n",
              "      <td>0</td>\n",
              "      <td>0</td>\n",
              "      <td>0</td>\n",
              "      <td>0</td>\n",
              "      <td>0</td>\n",
              "      <td>0</td>\n",
              "      <td>0</td>\n",
              "      <td>1</td>\n",
              "    </tr>\n",
              "    <tr>\n",
              "      <th>10</th>\n",
              "      <td>0</td>\n",
              "      <td>0</td>\n",
              "      <td>1</td>\n",
              "      <td>0</td>\n",
              "      <td>1</td>\n",
              "      <td>0</td>\n",
              "      <td>1</td>\n",
              "      <td>0</td>\n",
              "      <td>1</td>\n",
              "    </tr>\n",
              "  </tbody>\n",
              "</table>\n",
              "</div>"
            ],
            "text/plain": [
              "    w1  w2  w3  w4  w5  w6  w7  w8  c \n",
              "0    2   0   0   0   1   2   3   1   0\n",
              "1    0   0   1   0   2   1   0   0   0\n",
              "2    0   1   0   1   0   2   1   0   0\n",
              "3    1   0   0   2   0   1   0   1   0\n",
              "4    2   0   0   0   1   0   1   3   0\n",
              "5    0   0   1   2   0   0   2   1   0\n",
              "6    0   1   1   0   0   0   1   0   1\n",
              "7    1   2   0   1   0   0   1   1   1\n",
              "8    0   1   1   0   0   2   0   0   1\n",
              "9    0   0   0   0   0   0   0   0   1\n",
              "10   0   0   1   0   1   0   1   0   1"
            ]
          },
          "metadata": {
            "tags": []
          },
          "execution_count": 2
        }
      ]
    },
    {
      "cell_type": "markdown",
      "metadata": {
        "id": "g7JU_Dl8zJzZ"
      },
      "source": [
        "Conversion a numpy:"
      ]
    },
    {
      "cell_type": "code",
      "metadata": {
        "id": "x65XXG8-zJzZ"
      },
      "source": [
        "data = df.to_numpy()"
      ],
      "execution_count": 3,
      "outputs": []
    },
    {
      "cell_type": "markdown",
      "metadata": {
        "id": "IXtN6JG5FCi9"
      },
      "source": [
        "También generamos unos vectores que representan documentos nuevos"
      ]
    },
    {
      "cell_type": "code",
      "metadata": {
        "id": "AL0nswpXFPst"
      },
      "source": [
        "X_nuevos = np.array([[1, 0, 0, 1, 1, 1, 0, 1], [0, 1, 1, 0, 1, 0, 1, 0]])"
      ],
      "execution_count": 4,
      "outputs": []
    },
    {
      "cell_type": "markdown",
      "metadata": {
        "id": "nSHiyiS8zJzb"
      },
      "source": [
        "## Clasificador bayesiano ingenuo para distribución de Bernoulli\n",
        "Definimos una función para obtener la probabilidad de 0 o 1 dada una distribución de Bernoulli con parámetro $q$."
      ]
    },
    {
      "cell_type": "code",
      "metadata": {
        "id": "hFjc0A4w4y8Z"
      },
      "source": [
        "def bernoulli(x, q):\n",
        "    \"\"\"\n",
        "    Distribución de bernoulli\n",
        "    \"\"\"\n",
        "    return np.power(q, x) * np.power(1.0 - q, 1.0 - x)"
      ],
      "execution_count": 5,
      "outputs": []
    },
    {
      "cell_type": "markdown",
      "metadata": {
        "id": "-NjqbI7g40px"
      },
      "source": [
        "Definimos una clase con el clasificador bayesiano ingenuo para atributos binarios y estimación de parámetros por máxima verosimilitud."
      ]
    },
    {
      "cell_type": "code",
      "metadata": {
        "colab": {
          "base_uri": "https://localhost:8080/"
        },
        "id": "l4GWsvvWzSwq",
        "outputId": "671d0654-611c-48a6-b2ea-576936a7f6cd"
      },
      "source": [
        "class BernoulliNB:\n",
        "  def fit(self, X, y):\n",
        "    \"\"\"\n",
        "    Estima parámetros por máxima verosimilitud\n",
        "    \"\"\"\n",
        "    self.clases = np.unique(y)\n",
        "    self.n_clases = self.clases.size\n",
        "    self.n_atr = X.shape[-1]\n",
        "    self.qa = np.zeros((self.n_clases, self.n_atr))\n",
        "    self.qc = np.zeros((self.n_clases))\n",
        "\n",
        "    n = X.shape[0]\n",
        "    for i,c in enumerate(self.clases):\n",
        "      Xc = X[np.where(y == c)]\n",
        "      nc = Xc.shape[0]\n",
        "      self.qc[i] = nc / n\n",
        "      self.qa[i, :] = np.count_nonzero(Xc, axis = 0) / nc\n",
        "\n",
        "  def predict_proba(self, x):\n",
        "    \"\"\"\n",
        "    Calcula a posteriori de conjunto de datos\n",
        "    \"\"\"\n",
        "    pcc = np.zeros((self.n_clases, x.shape[0]))\n",
        "    for i in range(self.n_clases):\n",
        "      pcc[i, :] = np.prod(bernoulli(x, self.qa[i, :]), axis=1) * self.qc[i]\n",
        "    \n",
        "    return pcc\n",
        "\n",
        "  def predict(self, x):\n",
        "    \"\"\"\n",
        "    Predice clase de conjunto de datos\n",
        "    \"\"\"\n",
        "    return np.argmax(self.predict_proba(x), axis=0)\n",
        "\n",
        "X = data[:, :-1]\n",
        "y = data[:, -1]\n",
        "bnb = BernoulliNB()\n",
        "bnb.fit(X, y)\n",
        "\n",
        "print(bnb.predict(X_nuevos))\n",
        "print(bnb.predict_proba(X_nuevos))"
      ],
      "execution_count": 6,
      "outputs": [
        {
          "output_type": "stream",
          "text": [
            "[0 1]\n",
            "[[5.61167228e-03 2.80583614e-04]\n",
            " [9.30909091e-06 8.04305455e-03]]\n"
          ],
          "name": "stdout"
        }
      ]
    },
    {
      "cell_type": "markdown",
      "metadata": {
        "id": "sviQpYB6UC-Y"
      },
      "source": [
        "Cuando el número de atributos es muy grandes, es conveniente usar escala logarítmica para calcular la probabilidad de las clases dado un nuevo dato."
      ]
    },
    {
      "cell_type": "code",
      "metadata": {
        "id": "ckBmdQlnPzIr",
        "colab": {
          "base_uri": "https://localhost:8080/"
        },
        "outputId": "4428e58f-7422-4072-b871-41778c810a9f"
      },
      "source": [
        "class BernoulliNBLog:\n",
        "  def fit(self, X, y):\n",
        "    \"\"\"\n",
        "    Estima parámetros por máxima verosimilitud\n",
        "    \"\"\"\n",
        "    self.clases = np.unique(y)\n",
        "    self.n_clases = self.clases.size\n",
        "    self.n_atr = X.shape[-1]\n",
        "    self.qa = np.zeros((self.n_clases, self.n_atr))\n",
        "    self.qc = np.zeros((self.n_clases))\n",
        "\n",
        "    n = X.shape[0]\n",
        "    for i,c in enumerate(self.clases):\n",
        "      Xc = X[np.where(y == c)]\n",
        "      nc = Xc.shape[0]\n",
        "      self.qc[i] = nc / n\n",
        "      self.qa[i, :] = np.count_nonzero(Xc, axis = 0) / nc\n",
        "\n",
        "  def predict_proba(self, x):\n",
        "    \"\"\"\n",
        "    Calcula a posteriori de conjunto de datos\n",
        "    \"\"\"\n",
        "    pcc = np.zeros((self.n_clases, x.shape[0]))\n",
        "    for i in range(self.n_clases):\n",
        "      a0log = (1 - x) @ np.log(1 - self.qa[i, :])\n",
        "      a1log = x @ np.log(self.qa[i, :])\n",
        "      pcc[i, :] = a0log + a1log + np.log(self.qc[i])\n",
        "    \n",
        "    return pcc\n",
        "\n",
        "  def predict(self, x):\n",
        "    \"\"\"\n",
        "    Predice clase de conjunto de datos\n",
        "    \"\"\"\n",
        "    return np.argmax(self.predict_proba(x), axis=0)\n",
        "\n",
        "bnbl = BernoulliNBLog()\n",
        "bnbl.fit(X, y)\n",
        "\n",
        "print(bnbl.predict(X_nuevos))\n",
        "print(bnbl.predict_proba(X_nuevos))\n",
        "print(np.exp(bnbl.predict_proba(X_nuevos)))"
      ],
      "execution_count": 7,
      "outputs": [
        {
          "output_type": "stream",
          "text": [
            "[0 1]\n",
            "[[ -5.18290652  -8.17863879]\n",
            " [-11.58451912  -4.82294635]]\n",
            "[[5.61167228e-03 2.80583614e-04]\n",
            " [9.30909091e-06 8.04305455e-03]]\n"
          ],
          "name": "stdout"
        }
      ]
    },
    {
      "cell_type": "markdown",
      "metadata": {
        "id": "hoeKbKknUTaZ"
      },
      "source": [
        "Podemos modificar la definición anterior para estimar los parámetros por máximo a posteriori."
      ]
    },
    {
      "cell_type": "code",
      "metadata": {
        "colab": {
          "base_uri": "https://localhost:8080/"
        },
        "id": "cYFprucnNf8o",
        "outputId": "8cd4791b-f93d-488e-c07e-f5b608cb48a6"
      },
      "source": [
        "class BernoulliNBLogMAP:\n",
        "  def fit(self, X, y, alfa=2):\n",
        "    \"\"\"\n",
        "    Estima parámetros por máxima verosimilitud\n",
        "    \"\"\"\n",
        "    self.clases = np.unique(y)\n",
        "    self.n_clases = self.clases.size\n",
        "    self.n_atr = X.shape[-1]\n",
        "    self.qa = np.zeros((self.n_clases, self.n_atr))\n",
        "    self.qc = np.zeros((self.n_clases))\n",
        "\n",
        "    n = X.shape[0]\n",
        "    for i,c in enumerate(self.clases):\n",
        "      Xc = X[np.where(y == c)]\n",
        "      nc = Xc.shape[0]\n",
        "      # Misma alfa para todas las categorías\n",
        "      self.qc[i] = (nc + alfa - 1) / (n + alfa * self.n_clases - self.n_clases) \n",
        "      # Misma alfa para todos los atributos y beta = número de atributos\n",
        "      self.qa[i, :] = (np.count_nonzero(Xc, axis = 0) + alfa - 1) / (nc + self.n_atr + alfa - 2)\n",
        "\n",
        "  def predict_proba(self, x):\n",
        "    \"\"\"\n",
        "    Calcula a posteriori de conjunto de datos\n",
        "    \"\"\"\n",
        "    pcc = np.zeros((self.n_clases, x.shape[0]))\n",
        "    for i in range(self.n_clases):\n",
        "      a0log = (1 - x) @ np.log(1 - self.qa[i, :])\n",
        "      a1log = x @ np.log(self.qa[i, :])\n",
        "      pcc[i, :] = a0log + a1log + np.log(self.qc[i])\n",
        "    \n",
        "    return pcc\n",
        "\n",
        "  def predict(self, x):\n",
        "    \"\"\"\n",
        "    Predice clase de conjunto de datos\n",
        "    \"\"\"\n",
        "    return np.argmax(self.predict_proba(x), axis=0)\n",
        "\n",
        "X = data[:, :-1]\n",
        "y = data[:, -1]\n",
        "bnblm = BernoulliNBLogMAP()\n",
        "bnblm.fit(X, y)\n",
        "\n",
        "print(bnblm.predict(X_nuevos))\n",
        "print(bnblm.predict_proba(X_nuevos))\n",
        "print(np.exp(bnblm.predict_proba(X_nuevos)))"
      ],
      "execution_count": 8,
      "outputs": [
        {
          "output_type": "stream",
          "text": [
            "[0 1]\n",
            "[[ -7.27371244  -7.94438676]\n",
            " [-11.23537511  -6.84917339]]\n",
            "[[6.93532513e-04 3.54647308e-04]\n",
            " [1.31989258e-05 1.06033181e-03]]\n"
          ],
          "name": "stdout"
        }
      ]
    },
    {
      "cell_type": "markdown",
      "metadata": {
        "id": "OkxPZNUvF4K_"
      },
      "source": [
        "## Clasificación de documentos por tema\n",
        "Probaremos nuestro clasificador bayesiano ingenuo en la clasificación de documentos por tema usando el conjunto de datos _20 newsgroups_."
      ]
    },
    {
      "cell_type": "code",
      "metadata": {
        "id": "k_xhsQiEE3rq"
      },
      "source": [
        "ng_ent = fetch_20newsgroups(subset='train', \n",
        "                            shuffle=True, \n",
        "                            random_state=42)\n",
        "\n",
        "ng_valid = fetch_20newsgroups(subset='test',\n",
        "                               shuffle=True, \n",
        "                               random_state=42)"
      ],
      "execution_count": 9,
      "outputs": []
    },
    {
      "cell_type": "markdown",
      "metadata": {
        "id": "d0RZiJkMW7pa"
      },
      "source": [
        "Obtenemos la representación vectorizada binaria. "
      ]
    },
    {
      "cell_type": "code",
      "metadata": {
        "id": "vrtHJB1JJiVo"
      },
      "source": [
        "vec = CountVectorizer(max_features=10000,\n",
        "                      stop_words='english', \n",
        "                      binary=True)\n",
        "\n",
        "X_ent = vec.fit_transform(ng_ent.data)\n",
        "y_ent = ng_ent.target\n",
        "\n",
        "X_valid = vec.transform(ng_valid.data)\n",
        "y_valid = ng_valid.target"
      ],
      "execution_count": 10,
      "outputs": []
    },
    {
      "cell_type": "markdown",
      "metadata": {
        "id": "jnzAQB4wWbPg"
      },
      "source": [
        "Veamos cómo están distribuidas las clases en el conjunto de entrenamiento."
      ]
    },
    {
      "cell_type": "code",
      "metadata": {
        "colab": {
          "base_uri": "https://localhost:8080/",
          "height": 350
        },
        "id": "gyuWjJv6O894",
        "outputId": "9a4f3e30-9638-49ea-c9a7-ad4298fd65f3"
      },
      "source": [
        "f,axs = plt.subplots(1,2, figsize=(10,5), sharey=True)\n",
        "\n",
        "axs[0].hist(y_ent, bins=[i for i in range(21)])\n",
        "axs[0].set_xticks(np.unique(y_ent))\n",
        "axs[0].set_xlabel(u'Categoría')\n",
        "axs[0].set_xlabel(u'Categoría')\n",
        "axs[0].set_ylabel('Frecuencia')\n",
        "axs[0].set_title(u'Entrenamiento')\n",
        "\n",
        "axs[1].hist(y_valid, bins=[i for i in range(21)])\n",
        "axs[1].set_xticks(np.unique(y_valid))\n",
        "axs[1].set_xlabel(u'Categoría')\n",
        "axs[1].set_title(u'Validación')\n",
        "\n",
        "plt.subplots_adjust(wspace=0, hspace=0)\n",
        "plt.show()"
      ],
      "execution_count": 11,
      "outputs": [
        {
          "output_type": "display_data",
          "data": {
            "image/png": "[encoded data removed]",
            "text/plain": [
              "<Figure size 720x360 with 2 Axes>"
            ]
          },
          "metadata": {
            "tags": [],
            "needs_background": "light"
          }
        }
      ]
    },
    {
      "cell_type": "markdown",
      "metadata": {
        "id": "-YWzry1PWCs4"
      },
      "source": [
        "En `scikit-learn` dentro del submódulo `naive_bayes` están definidos clasificadores bayesianos ingenuos con distintas distribuciones para los atributos. Compararemos nuestro clasificador con el `BernoulliNB` de `scikit-learn`."
      ]
    },
    {
      "cell_type": "code",
      "metadata": {
        "colab": {
          "base_uri": "https://localhost:8080/"
        },
        "id": "rgGhGHnoGmPf",
        "outputId": "dcf84b03-cd13-4acc-c3d6-1ad6ff34af57"
      },
      "source": [
        "clasificador = BernoulliNBLogMAP()\n",
        "clasificador.fit(X_ent.toarray(), y_ent)\n",
        "pred = clasificador.predict(X_valid.toarray())\n",
        "exactitud = (pred==y_valid).mean()\n",
        "print('Exactitud = {0}'.format(exactitud))"
      ],
      "execution_count": 12,
      "outputs": [
        {
          "output_type": "stream",
          "text": [
            "Exactitud = 0.7259691980881572\n"
          ],
          "name": "stdout"
        }
      ]
    }
  ]
}