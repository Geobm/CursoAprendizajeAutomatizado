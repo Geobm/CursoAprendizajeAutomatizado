{
  "nbformat": 4,
  "nbformat_minor": 0,
  "metadata": {
    "colab": {
      "name": "4b_curva_roc.ipynb",
      "provenance": [],
      "collapsed_sections": [],
      "authorship_tag": "ABX9TyO3XdtcagVmle4E9OGcgRDE",
      "include_colab_link": true
    },
    "kernelspec": {
      "name": "python3",
      "display_name": "Python 3"
    }
  },
  "cells": [
    {
      "cell_type": "markdown",
      "metadata": {
        "id": "view-in-github",
        "colab_type": "text"
      },
      "source": [
        "<a href=\"https://colab.research.google.com/github/gibranfp/CursoAprendizajeAutomatizado/blob/master/notebooks/4b_curva_roc.ipynb\" target=\"_parent\"><img src=\"https://colab.research.google.com/assets/colab-badge.svg\" alt=\"Open In Colab\"/></a>"
      ]
    },
    {
      "cell_type": "markdown",
      "metadata": {
        "id": "5AtzWIlOp5W4"
      },
      "source": [
        "# Clasificación de documentos\n",
        "En esta libreta veremos cómo evaluar clasificadores binarios y multiclase."
      ]
    },
    {
      "cell_type": "code",
      "metadata": {
        "id": "U7JbOqoPpzL_"
      },
      "source": [
        "import numpy as np\n",
        "import matplotlib.pyplot as plt\n",
        "\n",
        "from sklearn.linear_model import LogisticRegression\n",
        "from sklearn.feature_extraction.text import TfidfVectorizer\n",
        "from sklearn.datasets import fetch_20newsgroups"
      ],
      "execution_count": 1,
      "outputs": []
    },
    {
      "cell_type": "markdown",
      "metadata": {
        "id": "Ts74KWNkZI7d"
      },
      "source": [
        "## Binario\n",
        "Para el clasificador binario usaremos la curva ROC, por lo que definiremos una función que calcule la tasa de falsos positivos y otra que calcule la tasa de verdaderos positivos."
      ]
    },
    {
      "cell_type": "code",
      "metadata": {
        "id": "v2B-qgOY7Kdv"
      },
      "source": [
        "def radio_falsos_positivos(probabilities, thres):\n",
        "  return np.mean(probabilities >= thres)\n",
        "\n",
        "def radio_verdaderos_positivos(probabilities, thres):\n",
        "  return np.mean(probabilities >= thres)"
      ],
      "execution_count": 2,
      "outputs": []
    },
    {
      "cell_type": "markdown",
      "metadata": {
        "id": "NVtvBin27Ymf"
      },
      "source": [
        "Usando estas funciones calcularemos los valores para la curva ROC"
      ]
    },
    {
      "cell_type": "code",
      "metadata": {
        "id": "HNTfICeZ8bP9"
      },
      "source": [
        "def roc(probabilities, y):\n",
        "  positivos = np.where(y == 1)\n",
        "  negativos = np.where(y == 0)\n",
        "\n",
        "  rvps = np.zeros(np.unique(probabilities).shape[0])\n",
        "  rfps = np.zeros(np.unique(probabilities).shape[0])\n",
        "    \n",
        "  for i, p in enumerate(np.unique(probabilities)[::-1]):\n",
        "    rvps[i] = radio_verdaderos_positivos(probabilities[positivos], p)\n",
        "    rfps[i] = radio_falsos_positivos(probabilities[negativos], p)\n",
        "\n",
        "  return rvps, rfps"
      ],
      "execution_count": 3,
      "outputs": []
    },
    {
      "cell_type": "markdown",
      "metadata": {
        "id": "FO18JtRK2_rL"
      },
      "source": [
        "Definimos funciones para calcular el área bajo la curva ROC usando la [fórmula de Shoelace](https://en.wikipedia.org/wiki/Shoelace_formula)"
      ]
    },
    {
      "cell_type": "code",
      "metadata": {
        "id": "WTyre6AG29cV"
      },
      "source": [
        "def area_poligono(vertices):\n",
        "  area = 0.0\n",
        "  n_vert = len(vertices)\n",
        "  for i in range(n_vert - 1):\n",
        "    area = area + vertices[i][0] * vertices[i + 1][1]\n",
        "    area = area - vertices[i + 1][0] * vertices[i][1]\n",
        "\n",
        "  area = area + vertices[n_vert - 1][0] * vertices[0][1]\n",
        "  area = area - vertices[0][0] * vertices[n_vert - 1][1]\n",
        "\n",
        "  return 0.5 * abs(area)\n",
        "\n",
        "def aucroc(tfp, tvp):\n",
        "  auc = 0.0\n",
        "  fprev = 0.0\n",
        "  vprev = 0.0\n",
        "  for i,(f,v) in enumerate(zip(tfp, tvp)):\n",
        "    auc += area_poligono([[fprev, 0], [fprev, vprev], [f, v], [f, 0]])\n",
        "    fprev = f\n",
        "    vprev = v\n",
        "\n",
        "  return auc"
      ],
      "execution_count": 4,
      "outputs": []
    },
    {
      "cell_type": "markdown",
      "metadata": {
        "id": "iWD_Cyia8nH7"
      },
      "source": [
        "Descargamos los subconjuntos de entrenamiento y validación del conjunto de documentos _20 Newsgroups_ con los temas `alt.atheism` y `talk.religion.misc`."
      ]
    },
    {
      "cell_type": "code",
      "metadata": {
        "id": "BKbHjAj69ICt"
      },
      "source": [
        "categories = ['alt.atheism', 'talk.religion.misc']\n",
        "remove = ('headers', 'footers', 'quotes')\n",
        "ngbin_ent = fetch_20newsgroups(subset='train', categories=categories,\n",
        "                               shuffle=True, random_state=42,\n",
        "                               remove=remove)\n",
        "\n",
        "ngbin_val = fetch_20newsgroups(subset='test', categories=categories,\n",
        "                               shuffle=True, random_state=42,\n",
        "                               remove=remove)"
      ],
      "execution_count": 5,
      "outputs": []
    },
    {
      "cell_type": "markdown",
      "metadata": {
        "id": "mCXyz7v4VLe_"
      },
      "source": [
        "Calculamos la representación de bolsa de palabras para cada subconjunto."
      ]
    },
    {
      "cell_type": "code",
      "metadata": {
        "id": "6g3wHFAPVL6B"
      },
      "source": [
        "tfidf = TfidfVectorizer(sublinear_tf = True, max_df = 0.7,\n",
        "                        stop_words = 'english')\n",
        "X_ent = tfidf.fit_transform(ngbin_ent.data)\n",
        "y_ent = ngbin_ent.target\n",
        "\n",
        "X_val = tfidf.transform(ngbin_val.data)\n",
        "y_val = ngbin_val.target"
      ],
      "execution_count": 6,
      "outputs": []
    },
    {
      "cell_type": "markdown",
      "metadata": {
        "id": "abKZO9reRTVP"
      },
      "source": [
        "Instancia un clasificador de regresión logística entrenado mediante descenso por gradiente que discrimine entre documentos de estos 2 temas."
      ]
    },
    {
      "cell_type": "code",
      "metadata": {
        "id": "2ffZYEz9yjxJ"
      },
      "source": [
        "m = LogisticRegression()\n",
        "m = m.fit(X_ent, y_ent)"
      ],
      "execution_count": 7,
      "outputs": []
    },
    {
      "cell_type": "markdown",
      "metadata": {
        "id": "Ntj3RYVZUkfR"
      },
      "source": [
        "Obtenemos las predicciones (probabilidades) de los ejemplos del subconjunto de validación."
      ]
    },
    {
      "cell_type": "code",
      "metadata": {
        "id": "wW4Lsb-nUuWT"
      },
      "source": [
        "prob = m.predict_proba(X_val)[:,1]"
      ],
      "execution_count": 8,
      "outputs": []
    },
    {
      "cell_type": "markdown",
      "metadata": {
        "id": "tjOHtnhFU6Bj"
      },
      "source": [
        "Calculamos los radios de verdaderos positivos y de falsos positivos para cada umbral."
      ]
    },
    {
      "cell_type": "code",
      "metadata": {
        "id": "h5fj9PHOUw3W"
      },
      "source": [
        "rvps, rfps = roc(prob, y_val)"
      ],
      "execution_count": 9,
      "outputs": []
    },
    {
      "cell_type": "markdown",
      "metadata": {
        "id": "XlJ9jW1qUcRf"
      },
      "source": [
        "Graficamos la curva ROC"
      ]
    },
    {
      "cell_type": "code",
      "metadata": {
        "id": "uEU-GkqVUeO1",
        "colab": {
          "base_uri": "https://localhost:8080/",
          "height": 279
        },
        "outputId": "462a8a49-1ae7-4310-81d6-005beb2d0509"
      },
      "source": [
        "plt.plot(rfps, rvps)\n",
        "plt.plot([0, 1], [0, 1], '--')\n",
        "plt.fill_between(rfps, rvps, 0, alpha=0.5, color = 'lightblue')\n",
        "plt.xlabel('Tasa de falsos positivos')\n",
        "plt.ylabel('Tasa de verdaderos positivos')\n",
        "plt.show()"
      ],
      "execution_count": 10,
      "outputs": [
        {
          "output_type": "display_data",
          "data": {
            "image/png": "[encoded data removed]",
            "text/plain": [
              "<Figure size 432x288 with 1 Axes>"
            ]
          },
          "metadata": {
            "tags": [],
            "needs_background": "light"
          }
        }
      ]
    },
    {
      "cell_type": "markdown",
      "metadata": {
        "id": "6STPbZDlW-LI"
      },
      "source": [
        "Calculamos su area bajo la curva"
      ]
    },
    {
      "cell_type": "code",
      "metadata": {
        "id": "B4f3nw_t1R3P",
        "colab": {
          "base_uri": "https://localhost:8080/"
        },
        "outputId": "ff714e38-c329-403a-f20c-5df78d54899f"
      },
      "source": [
        "aucroc(rfps, rvps)"
      ],
      "execution_count": 11,
      "outputs": [
        {
          "output_type": "execute_result",
          "data": {
            "text/plain": [
              "0.7742134908641312"
            ]
          },
          "metadata": {
            "tags": []
          },
          "execution_count": 11
        }
      ]
    },
    {
      "cell_type": "markdown",
      "metadata": {
        "id": "_dw9-waKyDst"
      },
      "source": [
        "Esta función es equivalente a `roc_auc_score` de scikit-learn"
      ]
    },
    {
      "cell_type": "code",
      "metadata": {
        "id": "qfVk_PwhXXmb",
        "colab": {
          "base_uri": "https://localhost:8080/"
        },
        "outputId": "cbc03de3-7acc-4a71-ad00-31a7b77bb7d4"
      },
      "source": [
        "from sklearn.metrics import roc_auc_score\n",
        "roc_auc_score(y_val, prob)"
      ],
      "execution_count": 12,
      "outputs": [
        {
          "output_type": "execute_result",
          "data": {
            "text/plain": [
              "0.7742134908641297"
            ]
          },
          "metadata": {
            "tags": []
          },
          "execution_count": 12
        }
      ]
    }
  ]
}
